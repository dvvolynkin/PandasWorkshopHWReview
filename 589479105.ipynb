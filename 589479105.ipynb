{
 "cells": [
  {
   "cell_type": "markdown",
   "metadata": {},
   "source": [
    "Все необходимые данные для удобства были предварительно выгружены в гугл таблицу: https://docs.google.com/spreadsheets/d/1Lk4htrWysNaI97b0yLriGiWEq4gBnGlmaI9BL-CgMzE/edit?usp=sharing"
   ]
  },
  {
   "cell_type": "code",
   "execution_count": 1,
   "metadata": {},
   "outputs": [],
   "source": [
    "import pandas as pd"
   ]
  },
  {
   "cell_type": "code",
   "execution_count": 2,
   "metadata": {},
   "outputs": [
    {
     "name": "stdout",
     "output_type": "stream",
     "text": [
      "Requirement already satisfied: lxml in c:\\programdata\\anaconda3\\lib\\site-packages (4.7.1)\n"
     ]
    }
   ],
   "source": [
    "#!pip install lxml"
   ]
  },
  {
   "cell_type": "code",
   "execution_count": 19,
   "metadata": {},
   "outputs": [
    {
     "name": "stdout",
     "output_type": "stream",
     "text": [
      "Collecting html5lib\n",
      "  Downloading html5lib-1.1-py2.py3-none-any.whl (112 kB)\n",
      "Requirement already satisfied: six>=1.9 in c:\\programdata\\anaconda3\\lib\\site-packages (from html5lib) (1.15.0)\n",
      "Requirement already satisfied: webencodings in c:\\programdata\\anaconda3\\lib\\site-packages (from html5lib) (0.5.1)\n",
      "Installing collected packages: html5lib\n",
      "Successfully installed html5lib-1.1\n"
     ]
    }
   ],
   "source": [
    "#! pip install html5lib"
   ]
  },
  {
   "cell_type": "code",
   "execution_count": 272,
   "metadata": {},
   "outputs": [
    {
     "data": {
      "text/html": [
       "<div>\n",
       "<style scoped>\n",
       "    .dataframe tbody tr th:only-of-type {\n",
       "        vertical-align: middle;\n",
       "    }\n",
       "\n",
       "    .dataframe tbody tr th {\n",
       "        vertical-align: top;\n",
       "    }\n",
       "\n",
       "    .dataframe thead th {\n",
       "        text-align: right;\n",
       "    }\n",
       "</style>\n",
       "<table border=\"1\" class=\"dataframe\">\n",
       "  <thead>\n",
       "    <tr style=\"text-align: right;\">\n",
       "      <th></th>\n",
       "      <th>Country</th>\n",
       "      <th>Currency</th>\n",
       "      <th>Basic</th>\n",
       "      <th>Standard</th>\n",
       "      <th>Premium</th>\n",
       "      <th>Basic, $</th>\n",
       "      <th>Standard,$</th>\n",
       "      <th>Premium, $</th>\n",
       "      <th># of TV Shows</th>\n",
       "      <th># of Movies</th>\n",
       "      <th>Total Library Size</th>\n",
       "    </tr>\n",
       "  </thead>\n",
       "  <tbody>\n",
       "    <tr>\n",
       "      <th>0</th>\n",
       "      <td>Argentina</td>\n",
       "      <td>ARS</td>\n",
       "      <td>379</td>\n",
       "      <td>639</td>\n",
       "      <td>939</td>\n",
       "      <td>3,74</td>\n",
       "      <td>6,30</td>\n",
       "      <td>9,26</td>\n",
       "      <td>3154</td>\n",
       "      <td>1606</td>\n",
       "      <td>4760</td>\n",
       "    </tr>\n",
       "    <tr>\n",
       "      <th>1</th>\n",
       "      <td>Australia</td>\n",
       "      <td>AUS</td>\n",
       "      <td>10,99</td>\n",
       "      <td>16,99</td>\n",
       "      <td>22,99</td>\n",
       "      <td>7,84</td>\n",
       "      <td>12,12</td>\n",
       "      <td>16,39</td>\n",
       "      <td>4050</td>\n",
       "      <td>2064</td>\n",
       "      <td>6114</td>\n",
       "    </tr>\n",
       "    <tr>\n",
       "      <th>2</th>\n",
       "      <td>Austria</td>\n",
       "      <td>EUR</td>\n",
       "      <td>7,99</td>\n",
       "      <td>12,99</td>\n",
       "      <td>17,99</td>\n",
       "      <td>9,03</td>\n",
       "      <td>14,67</td>\n",
       "      <td>20,32</td>\n",
       "      <td>3779</td>\n",
       "      <td>1861</td>\n",
       "      <td>5640</td>\n",
       "    </tr>\n",
       "    <tr>\n",
       "      <th>3</th>\n",
       "      <td>Belgium</td>\n",
       "      <td>EUR</td>\n",
       "      <td>8,99</td>\n",
       "      <td>13,49</td>\n",
       "      <td>17,99</td>\n",
       "      <td>10,16</td>\n",
       "      <td>15,24</td>\n",
       "      <td>20,32</td>\n",
       "      <td>3374</td>\n",
       "      <td>1616</td>\n",
       "      <td>4990</td>\n",
       "    </tr>\n",
       "    <tr>\n",
       "      <th>4</th>\n",
       "      <td>Bolivia</td>\n",
       "      <td>USD</td>\n",
       "      <td>7,99</td>\n",
       "      <td>10,99</td>\n",
       "      <td>13,99</td>\n",
       "      <td>7,99</td>\n",
       "      <td>10,99</td>\n",
       "      <td>13,99</td>\n",
       "      <td>3155</td>\n",
       "      <td>1836</td>\n",
       "      <td>4991</td>\n",
       "    </tr>\n",
       "  </tbody>\n",
       "</table>\n",
       "</div>"
      ],
      "text/plain": [
       "     Country Currency  Basic Standard Premium Basic, $ Standard,$ Premium, $  \\\n",
       "0  Argentina      ARS    379      639     939     3,74       6,30       9,26   \n",
       "1  Australia      AUS  10,99    16,99   22,99     7,84      12,12      16,39   \n",
       "2    Austria      EUR   7,99    12,99   17,99     9,03      14,67      20,32   \n",
       "3    Belgium      EUR   8,99    13,49   17,99    10,16      15,24      20,32   \n",
       "4    Bolivia      USD   7,99    10,99   13,99     7,99      10,99      13,99   \n",
       "\n",
       "   # of TV Shows  # of Movies  Total Library Size  \n",
       "0           3154         1606                4760  \n",
       "1           4050         2064                6114  \n",
       "2           3779         1861                5640  \n",
       "3           3374         1616                4990  \n",
       "4           3155         1836                4991  "
      ]
     },
     "execution_count": 272,
     "metadata": {},
     "output_type": "execute_result"
    }
   ],
   "source": [
    "url = 'https://docs.google.com/spreadsheets/d/1Lk4htrWysNaI97b0yLriGiWEq4gBnGlmaI9BL-CgMzE/export?format=csv&gid=0'\n",
    "data = pd.read_csv(url)\n",
    "data.head()"
   ]
  },
  {
   "cell_type": "code",
   "execution_count": 273,
   "metadata": {},
   "outputs": [
    {
     "data": {
      "text/html": [
       "<div>\n",
       "<style scoped>\n",
       "    .dataframe tbody tr th:only-of-type {\n",
       "        vertical-align: middle;\n",
       "    }\n",
       "\n",
       "    .dataframe tbody tr th {\n",
       "        vertical-align: top;\n",
       "    }\n",
       "\n",
       "    .dataframe thead th {\n",
       "        text-align: right;\n",
       "    }\n",
       "</style>\n",
       "<table border=\"1\" class=\"dataframe\">\n",
       "  <thead>\n",
       "    <tr style=\"text-align: right;\">\n",
       "      <th></th>\n",
       "      <th>Country</th>\n",
       "      <th>Currency</th>\n",
       "      <th>Basic</th>\n",
       "      <th>Standard</th>\n",
       "      <th>Premium</th>\n",
       "      <th>Basic, $</th>\n",
       "      <th>Standard,$</th>\n",
       "      <th>Premium, $</th>\n",
       "      <th># of TV Shows</th>\n",
       "      <th># of Movies</th>\n",
       "      <th>Total Library Size</th>\n",
       "    </tr>\n",
       "  </thead>\n",
       "  <tbody>\n",
       "    <tr>\n",
       "      <th>0</th>\n",
       "      <td>Argentina</td>\n",
       "      <td>ARS</td>\n",
       "      <td>379.00</td>\n",
       "      <td>639.00</td>\n",
       "      <td>939.00</td>\n",
       "      <td>3.74</td>\n",
       "      <td>6.30</td>\n",
       "      <td>9.26</td>\n",
       "      <td>3154</td>\n",
       "      <td>1606</td>\n",
       "      <td>4760</td>\n",
       "    </tr>\n",
       "    <tr>\n",
       "      <th>1</th>\n",
       "      <td>Australia</td>\n",
       "      <td>AUS</td>\n",
       "      <td>10.99</td>\n",
       "      <td>16.99</td>\n",
       "      <td>22.99</td>\n",
       "      <td>7.84</td>\n",
       "      <td>12.12</td>\n",
       "      <td>16.39</td>\n",
       "      <td>4050</td>\n",
       "      <td>2064</td>\n",
       "      <td>6114</td>\n",
       "    </tr>\n",
       "    <tr>\n",
       "      <th>2</th>\n",
       "      <td>Austria</td>\n",
       "      <td>EUR</td>\n",
       "      <td>7.99</td>\n",
       "      <td>12.99</td>\n",
       "      <td>17.99</td>\n",
       "      <td>9.03</td>\n",
       "      <td>14.67</td>\n",
       "      <td>20.32</td>\n",
       "      <td>3779</td>\n",
       "      <td>1861</td>\n",
       "      <td>5640</td>\n",
       "    </tr>\n",
       "    <tr>\n",
       "      <th>3</th>\n",
       "      <td>Belgium</td>\n",
       "      <td>EUR</td>\n",
       "      <td>8.99</td>\n",
       "      <td>13.49</td>\n",
       "      <td>17.99</td>\n",
       "      <td>10.16</td>\n",
       "      <td>15.24</td>\n",
       "      <td>20.32</td>\n",
       "      <td>3374</td>\n",
       "      <td>1616</td>\n",
       "      <td>4990</td>\n",
       "    </tr>\n",
       "    <tr>\n",
       "      <th>4</th>\n",
       "      <td>Bolivia</td>\n",
       "      <td>USD</td>\n",
       "      <td>7.99</td>\n",
       "      <td>10.99</td>\n",
       "      <td>13.99</td>\n",
       "      <td>7.99</td>\n",
       "      <td>10.99</td>\n",
       "      <td>13.99</td>\n",
       "      <td>3155</td>\n",
       "      <td>1836</td>\n",
       "      <td>4991</td>\n",
       "    </tr>\n",
       "  </tbody>\n",
       "</table>\n",
       "</div>"
      ],
      "text/plain": [
       "     Country Currency   Basic  Standard  Premium  Basic, $  Standard,$  \\\n",
       "0  Argentina      ARS  379.00    639.00   939.00      3.74        6.30   \n",
       "1  Australia      AUS   10.99     16.99    22.99      7.84       12.12   \n",
       "2    Austria      EUR    7.99     12.99    17.99      9.03       14.67   \n",
       "3    Belgium      EUR    8.99     13.49    17.99     10.16       15.24   \n",
       "4    Bolivia      USD    7.99     10.99    13.99      7.99       10.99   \n",
       "\n",
       "   Premium, $  # of TV Shows  # of Movies  Total Library Size  \n",
       "0        9.26           3154         1606                4760  \n",
       "1       16.39           4050         2064                6114  \n",
       "2       20.32           3779         1861                5640  \n",
       "3       20.32           3374         1616                4990  \n",
       "4       13.99           3155         1836                4991  "
      ]
     },
     "execution_count": 273,
     "metadata": {},
     "output_type": "execute_result"
    }
   ],
   "source": [
    "data['Basic'] = data['Basic'].apply(\n",
    "lambda x: float(x.replace(',','.'))\n",
    ") \n",
    "data['Standard'] = data['Standard'].apply(\n",
    "lambda x: float(x.replace(',','.'))\n",
    ") \n",
    "data['Premium'] = data['Premium'].apply(\n",
    "lambda x: float(x.replace(',','.'))\n",
    ") \n",
    "data['Basic, $'] = data['Basic, $'].apply(\n",
    "lambda x: float(x.replace(',','.')))\n",
    "\n",
    "data['Standard,$'] = data['Standard,$'].apply(\n",
    "lambda x: float(x.replace(',','.'))\n",
    ") \n",
    "data['Premium, $'] = data['Premium, $'].apply(\n",
    "lambda x: float(x.replace(',','.'))\n",
    ") \n",
    "data.head()"
   ]
  },
  {
   "cell_type": "markdown",
   "metadata": {},
   "source": [
    "### Найти в открытых источниках или составить самостоятельно таблицу среднего дохода (PPP) в зависимости от страны"
   ]
  },
  {
   "cell_type": "code",
   "execution_count": 274,
   "metadata": {},
   "outputs": [
    {
     "data": {
      "text/html": [
       "<div>\n",
       "<style scoped>\n",
       "    .dataframe tbody tr th:only-of-type {\n",
       "        vertical-align: middle;\n",
       "    }\n",
       "\n",
       "    .dataframe tbody tr th {\n",
       "        vertical-align: top;\n",
       "    }\n",
       "\n",
       "    .dataframe thead th {\n",
       "        text-align: right;\n",
       "    }\n",
       "</style>\n",
       "<table border=\"1\" class=\"dataframe\">\n",
       "  <thead>\n",
       "    <tr style=\"text-align: right;\">\n",
       "      <th></th>\n",
       "      <th>Country</th>\n",
       "      <th>median_inc</th>\n",
       "      <th>mean_inc</th>\n",
       "    </tr>\n",
       "  </thead>\n",
       "  <tbody>\n",
       "    <tr>\n",
       "      <th>0</th>\n",
       "      <td>Albania</td>\n",
       "      <td>2.578\\n</td>\n",
       "      <td>3.141</td>\n",
       "    </tr>\n",
       "    <tr>\n",
       "      <th>1</th>\n",
       "      <td>Algeria</td>\n",
       "      <td>2.612</td>\n",
       "      <td>2.996</td>\n",
       "    </tr>\n",
       "    <tr>\n",
       "      <th>2</th>\n",
       "      <td>Angola</td>\n",
       "      <td>665</td>\n",
       "      <td>1.066</td>\n",
       "    </tr>\n",
       "    <tr>\n",
       "      <th>3</th>\n",
       "      <td>Argentina</td>\n",
       "      <td>5.319</td>\n",
       "      <td>6.935</td>\n",
       "    </tr>\n",
       "    <tr>\n",
       "      <th>4</th>\n",
       "      <td>Armenia</td>\n",
       "      <td>2.216</td>\n",
       "      <td>2.810</td>\n",
       "    </tr>\n",
       "  </tbody>\n",
       "</table>\n",
       "</div>"
      ],
      "text/plain": [
       "     Country median_inc  mean_inc\n",
       "0    Albania    2.578\\n     3.141\n",
       "1    Algeria      2.612     2.996\n",
       "2     Angola        665     1.066\n",
       "3  Argentina      5.319     6.935\n",
       "4    Armenia      2.216     2.810"
      ]
     },
     "execution_count": 274,
     "metadata": {},
     "output_type": "execute_result"
    }
   ],
   "source": [
    "url_inc = 'https://docs.google.com/spreadsheets/d/1Lk4htrWysNaI97b0yLriGiWEq4gBnGlmaI9BL-CgMzE/export?format=csv&gid=970283290'\n",
    "income = pd.read_csv(url_inc)\n",
    "income.head()"
   ]
  },
  {
   "cell_type": "code",
   "execution_count": 275,
   "metadata": {},
   "outputs": [
    {
     "data": {
      "text/html": [
       "<div>\n",
       "<style scoped>\n",
       "    .dataframe tbody tr th:only-of-type {\n",
       "        vertical-align: middle;\n",
       "    }\n",
       "\n",
       "    .dataframe tbody tr th {\n",
       "        vertical-align: top;\n",
       "    }\n",
       "\n",
       "    .dataframe thead th {\n",
       "        text-align: right;\n",
       "    }\n",
       "</style>\n",
       "<table border=\"1\" class=\"dataframe\">\n",
       "  <thead>\n",
       "    <tr style=\"text-align: right;\">\n",
       "      <th></th>\n",
       "      <th>Country</th>\n",
       "      <th>median_inc</th>\n",
       "      <th>mean_inc</th>\n",
       "    </tr>\n",
       "  </thead>\n",
       "  <tbody>\n",
       "    <tr>\n",
       "      <th>0</th>\n",
       "      <td>Albania</td>\n",
       "      <td>2.578</td>\n",
       "      <td>3.141</td>\n",
       "    </tr>\n",
       "    <tr>\n",
       "      <th>1</th>\n",
       "      <td>Algeria</td>\n",
       "      <td>2.612</td>\n",
       "      <td>2.996</td>\n",
       "    </tr>\n",
       "    <tr>\n",
       "      <th>2</th>\n",
       "      <td>Angola</td>\n",
       "      <td>665.000</td>\n",
       "      <td>1.066</td>\n",
       "    </tr>\n",
       "    <tr>\n",
       "      <th>3</th>\n",
       "      <td>Argentina</td>\n",
       "      <td>5.319</td>\n",
       "      <td>6.935</td>\n",
       "    </tr>\n",
       "    <tr>\n",
       "      <th>4</th>\n",
       "      <td>Armenia</td>\n",
       "      <td>2.216</td>\n",
       "      <td>2.810</td>\n",
       "    </tr>\n",
       "  </tbody>\n",
       "</table>\n",
       "</div>"
      ],
      "text/plain": [
       "     Country  median_inc  mean_inc\n",
       "0    Albania       2.578     3.141\n",
       "1    Algeria       2.612     2.996\n",
       "2     Angola     665.000     1.066\n",
       "3  Argentina       5.319     6.935\n",
       "4    Armenia       2.216     2.810"
      ]
     },
     "execution_count": 275,
     "metadata": {},
     "output_type": "execute_result"
    }
   ],
   "source": [
    "income['median_inc'] = income['median_inc'].apply(\n",
    "lambda x: float(str(x).replace(',','.'))\n",
    ")\n",
    "income['mean_inc'] = income['mean_inc'].apply(\n",
    "lambda x: float(str(x).replace(',','.')))\n",
    "\n",
    "income['median_inc'] = income['median_inc'].apply(\n",
    "lambda x: float(str(x).replace(',','.'))\n",
    ")\n",
    "income['mean_inc'] = income['mean_inc'].apply(\n",
    "lambda x: float(str(x).replace(',','.')))\n",
    "\n",
    "income.head()"
   ]
  },
  {
   "cell_type": "code",
   "execution_count": 276,
   "metadata": {},
   "outputs": [
    {
     "data": {
      "text/html": [
       "<div>\n",
       "<style scoped>\n",
       "    .dataframe tbody tr th:only-of-type {\n",
       "        vertical-align: middle;\n",
       "    }\n",
       "\n",
       "    .dataframe tbody tr th {\n",
       "        vertical-align: top;\n",
       "    }\n",
       "\n",
       "    .dataframe thead th {\n",
       "        text-align: right;\n",
       "    }\n",
       "</style>\n",
       "<table border=\"1\" class=\"dataframe\">\n",
       "  <thead>\n",
       "    <tr style=\"text-align: right;\">\n",
       "      <th></th>\n",
       "      <th>Country</th>\n",
       "      <th>median_inc</th>\n",
       "      <th>mean_inc</th>\n",
       "    </tr>\n",
       "  </thead>\n",
       "  <tbody>\n",
       "    <tr>\n",
       "      <th>0</th>\n",
       "      <td>Albania</td>\n",
       "      <td>2578.0</td>\n",
       "      <td>3141.0</td>\n",
       "    </tr>\n",
       "    <tr>\n",
       "      <th>1</th>\n",
       "      <td>Algeria</td>\n",
       "      <td>2612.0</td>\n",
       "      <td>2996.0</td>\n",
       "    </tr>\n",
       "    <tr>\n",
       "      <th>2</th>\n",
       "      <td>Angola</td>\n",
       "      <td>665.0</td>\n",
       "      <td>1066.0</td>\n",
       "    </tr>\n",
       "    <tr>\n",
       "      <th>3</th>\n",
       "      <td>Argentina</td>\n",
       "      <td>5319.0</td>\n",
       "      <td>6935.0</td>\n",
       "    </tr>\n",
       "    <tr>\n",
       "      <th>4</th>\n",
       "      <td>Armenia</td>\n",
       "      <td>2216.0</td>\n",
       "      <td>2810.0</td>\n",
       "    </tr>\n",
       "  </tbody>\n",
       "</table>\n",
       "</div>"
      ],
      "text/plain": [
       "     Country  median_inc  mean_inc\n",
       "0    Albania      2578.0    3141.0\n",
       "1    Algeria      2612.0    2996.0\n",
       "2     Angola       665.0    1066.0\n",
       "3  Argentina      5319.0    6935.0\n",
       "4    Armenia      2216.0    2810.0"
      ]
     },
     "execution_count": 276,
     "metadata": {},
     "output_type": "execute_result"
    }
   ],
   "source": [
    "income['median_inc'] = income['median_inc'].apply(\n",
    "lambda x: x*1000 if x < 100 else x)\n",
    "\n",
    "income['mean_inc'] = income['mean_inc'].apply(\n",
    "lambda x: x*1000 if x < 100 else x)\n",
    "\n",
    "income['median_inc'] = income['median_inc'].apply(\n",
    "lambda x: x*1000 if x < 100 else x\n",
    ")\n",
    "income['mean_inc'] = income['mean_inc'].apply(\n",
    "lambda x: x*1000 if x < 100 else x)\n",
    "\n",
    "income.head()"
   ]
  },
  {
   "cell_type": "code",
   "execution_count": 277,
   "metadata": {},
   "outputs": [
    {
     "data": {
      "text/html": [
       "<div>\n",
       "<style scoped>\n",
       "    .dataframe tbody tr th:only-of-type {\n",
       "        vertical-align: middle;\n",
       "    }\n",
       "\n",
       "    .dataframe tbody tr th {\n",
       "        vertical-align: top;\n",
       "    }\n",
       "\n",
       "    .dataframe thead th {\n",
       "        text-align: right;\n",
       "    }\n",
       "</style>\n",
       "<table border=\"1\" class=\"dataframe\">\n",
       "  <thead>\n",
       "    <tr style=\"text-align: right;\">\n",
       "      <th></th>\n",
       "      <th>Country</th>\n",
       "      <th>Currency</th>\n",
       "      <th>Basic</th>\n",
       "      <th>Standard</th>\n",
       "      <th>Premium</th>\n",
       "      <th>Basic, $</th>\n",
       "      <th>Standard,$</th>\n",
       "      <th>Premium, $</th>\n",
       "      <th># of TV Shows</th>\n",
       "      <th># of Movies</th>\n",
       "      <th>Total Library Size</th>\n",
       "      <th>median_inc</th>\n",
       "      <th>mean_inc</th>\n",
       "    </tr>\n",
       "  </thead>\n",
       "  <tbody>\n",
       "    <tr>\n",
       "      <th>0</th>\n",
       "      <td>Argentina</td>\n",
       "      <td>ARS</td>\n",
       "      <td>379.00</td>\n",
       "      <td>639.00</td>\n",
       "      <td>939.00</td>\n",
       "      <td>3.74</td>\n",
       "      <td>6.30</td>\n",
       "      <td>9.26</td>\n",
       "      <td>3154</td>\n",
       "      <td>1606</td>\n",
       "      <td>4760</td>\n",
       "      <td>5319.0</td>\n",
       "      <td>6935.0</td>\n",
       "    </tr>\n",
       "    <tr>\n",
       "      <th>1</th>\n",
       "      <td>Australia</td>\n",
       "      <td>AUS</td>\n",
       "      <td>10.99</td>\n",
       "      <td>16.99</td>\n",
       "      <td>22.99</td>\n",
       "      <td>7.84</td>\n",
       "      <td>12.12</td>\n",
       "      <td>16.39</td>\n",
       "      <td>4050</td>\n",
       "      <td>2064</td>\n",
       "      <td>6114</td>\n",
       "      <td>17076.0</td>\n",
       "      <td>21329.0</td>\n",
       "    </tr>\n",
       "    <tr>\n",
       "      <th>2</th>\n",
       "      <td>Austria</td>\n",
       "      <td>EUR</td>\n",
       "      <td>7.99</td>\n",
       "      <td>12.99</td>\n",
       "      <td>17.99</td>\n",
       "      <td>9.03</td>\n",
       "      <td>14.67</td>\n",
       "      <td>20.32</td>\n",
       "      <td>3779</td>\n",
       "      <td>1861</td>\n",
       "      <td>5640</td>\n",
       "      <td>18405.0</td>\n",
       "      <td>20718.0</td>\n",
       "    </tr>\n",
       "    <tr>\n",
       "      <th>3</th>\n",
       "      <td>Belgium</td>\n",
       "      <td>EUR</td>\n",
       "      <td>8.99</td>\n",
       "      <td>13.49</td>\n",
       "      <td>17.99</td>\n",
       "      <td>10.16</td>\n",
       "      <td>15.24</td>\n",
       "      <td>20.32</td>\n",
       "      <td>3374</td>\n",
       "      <td>1616</td>\n",
       "      <td>4990</td>\n",
       "      <td>16157.0</td>\n",
       "      <td>17917.0</td>\n",
       "    </tr>\n",
       "    <tr>\n",
       "      <th>4</th>\n",
       "      <td>Bolivia</td>\n",
       "      <td>USD</td>\n",
       "      <td>7.99</td>\n",
       "      <td>10.99</td>\n",
       "      <td>13.99</td>\n",
       "      <td>7.99</td>\n",
       "      <td>10.99</td>\n",
       "      <td>13.99</td>\n",
       "      <td>3155</td>\n",
       "      <td>1836</td>\n",
       "      <td>4991</td>\n",
       "      <td>3631.0</td>\n",
       "      <td>4787.0</td>\n",
       "    </tr>\n",
       "  </tbody>\n",
       "</table>\n",
       "</div>"
      ],
      "text/plain": [
       "     Country Currency   Basic  Standard  Premium  Basic, $  Standard,$  \\\n",
       "0  Argentina      ARS  379.00    639.00   939.00      3.74        6.30   \n",
       "1  Australia      AUS   10.99     16.99    22.99      7.84       12.12   \n",
       "2    Austria      EUR    7.99     12.99    17.99      9.03       14.67   \n",
       "3    Belgium      EUR    8.99     13.49    17.99     10.16       15.24   \n",
       "4    Bolivia      USD    7.99     10.99    13.99      7.99       10.99   \n",
       "\n",
       "   Premium, $  # of TV Shows  # of Movies  Total Library Size  median_inc  \\\n",
       "0        9.26           3154         1606                4760      5319.0   \n",
       "1       16.39           4050         2064                6114     17076.0   \n",
       "2       20.32           3779         1861                5640     18405.0   \n",
       "3       20.32           3374         1616                4990     16157.0   \n",
       "4       13.99           3155         1836                4991      3631.0   \n",
       "\n",
       "   mean_inc  \n",
       "0    6935.0  \n",
       "1   21329.0  \n",
       "2   20718.0  \n",
       "3   17917.0  \n",
       "4    4787.0  "
      ]
     },
     "execution_count": 277,
     "metadata": {},
     "output_type": "execute_result"
    }
   ],
   "source": [
    "df = data.merge(income, how ='left')\n",
    "df.dropna()\n",
    "df.head()"
   ]
  },
  {
   "cell_type": "markdown",
   "metadata": {},
   "source": [
    "### Построить график корреляции между средним доходом (PPP) и ценой подписки"
   ]
  },
  {
   "cell_type": "code",
   "execution_count": 278,
   "metadata": {},
   "outputs": [
    {
     "data": {
      "text/html": [
       "<style  type=\"text/css\" >\n",
       "#T_2894e9c8_83bb_11ec_908e_ccb0dab57d4arow0_col0,#T_2894e9c8_83bb_11ec_908e_ccb0dab57d4arow1_col1,#T_2894e9c8_83bb_11ec_908e_ccb0dab57d4arow2_col2,#T_2894e9c8_83bb_11ec_908e_ccb0dab57d4arow3_col3,#T_2894e9c8_83bb_11ec_908e_ccb0dab57d4arow4_col4{\n",
       "            background-color:  #b40426;\n",
       "            color:  #f1f1f1;\n",
       "        }#T_2894e9c8_83bb_11ec_908e_ccb0dab57d4arow0_col1{\n",
       "            background-color:  #f29274;\n",
       "            color:  #000000;\n",
       "        }#T_2894e9c8_83bb_11ec_908e_ccb0dab57d4arow0_col2{\n",
       "            background-color:  #e9d5cb;\n",
       "            color:  #000000;\n",
       "        }#T_2894e9c8_83bb_11ec_908e_ccb0dab57d4arow0_col3,#T_2894e9c8_83bb_11ec_908e_ccb0dab57d4arow0_col4,#T_2894e9c8_83bb_11ec_908e_ccb0dab57d4arow3_col1,#T_2894e9c8_83bb_11ec_908e_ccb0dab57d4arow3_col2,#T_2894e9c8_83bb_11ec_908e_ccb0dab57d4arow4_col0,#T_2894e9c8_83bb_11ec_908e_ccb0dab57d4arow4_col2{\n",
       "            background-color:  #3b4cc0;\n",
       "            color:  #f1f1f1;\n",
       "        }#T_2894e9c8_83bb_11ec_908e_ccb0dab57d4arow1_col0{\n",
       "            background-color:  #ec8165;\n",
       "            color:  #000000;\n",
       "        }#T_2894e9c8_83bb_11ec_908e_ccb0dab57d4arow1_col2{\n",
       "            background-color:  #c73635;\n",
       "            color:  #f1f1f1;\n",
       "        }#T_2894e9c8_83bb_11ec_908e_ccb0dab57d4arow1_col3{\n",
       "            background-color:  #6f92f3;\n",
       "            color:  #000000;\n",
       "        }#T_2894e9c8_83bb_11ec_908e_ccb0dab57d4arow1_col4{\n",
       "            background-color:  #7295f4;\n",
       "            color:  #000000;\n",
       "        }#T_2894e9c8_83bb_11ec_908e_ccb0dab57d4arow2_col0{\n",
       "            background-color:  #f7b79b;\n",
       "            color:  #000000;\n",
       "        }#T_2894e9c8_83bb_11ec_908e_ccb0dab57d4arow2_col1{\n",
       "            background-color:  #c43032;\n",
       "            color:  #f1f1f1;\n",
       "        }#T_2894e9c8_83bb_11ec_908e_ccb0dab57d4arow2_col3,#T_2894e9c8_83bb_11ec_908e_ccb0dab57d4arow2_col4{\n",
       "            background-color:  #93b5fe;\n",
       "            color:  #000000;\n",
       "        }#T_2894e9c8_83bb_11ec_908e_ccb0dab57d4arow3_col0,#T_2894e9c8_83bb_11ec_908e_ccb0dab57d4arow4_col1{\n",
       "            background-color:  #3c4ec2;\n",
       "            color:  #f1f1f1;\n",
       "        }#T_2894e9c8_83bb_11ec_908e_ccb0dab57d4arow3_col4,#T_2894e9c8_83bb_11ec_908e_ccb0dab57d4arow4_col3{\n",
       "            background-color:  #b8122a;\n",
       "            color:  #f1f1f1;\n",
       "        }</style><table id=\"T_2894e9c8_83bb_11ec_908e_ccb0dab57d4a\" ><thead>    <tr>        <th class=\"blank level0\" ></th>        <th class=\"col_heading level0 col0\" >Basic, $</th>        <th class=\"col_heading level0 col1\" >Standard,$</th>        <th class=\"col_heading level0 col2\" >Premium, $</th>        <th class=\"col_heading level0 col3\" >median_inc</th>        <th class=\"col_heading level0 col4\" >mean_inc</th>    </tr></thead><tbody>\n",
       "                <tr>\n",
       "                        <th id=\"T_2894e9c8_83bb_11ec_908e_ccb0dab57d4alevel0_row0\" class=\"row_heading level0 row0\" >Basic, $</th>\n",
       "                        <td id=\"T_2894e9c8_83bb_11ec_908e_ccb0dab57d4arow0_col0\" class=\"data row0 col0\" >1.000000</td>\n",
       "                        <td id=\"T_2894e9c8_83bb_11ec_908e_ccb0dab57d4arow0_col1\" class=\"data row0 col1\" >0.894604</td>\n",
       "                        <td id=\"T_2894e9c8_83bb_11ec_908e_ccb0dab57d4arow0_col2\" class=\"data row0 col2\" >0.821898</td>\n",
       "                        <td id=\"T_2894e9c8_83bb_11ec_908e_ccb0dab57d4arow0_col3\" class=\"data row0 col3\" >0.460521</td>\n",
       "                        <td id=\"T_2894e9c8_83bb_11ec_908e_ccb0dab57d4arow0_col4\" class=\"data row0 col4\" >0.458361</td>\n",
       "            </tr>\n",
       "            <tr>\n",
       "                        <th id=\"T_2894e9c8_83bb_11ec_908e_ccb0dab57d4alevel0_row1\" class=\"row_heading level0 row1\" >Standard,$</th>\n",
       "                        <td id=\"T_2894e9c8_83bb_11ec_908e_ccb0dab57d4arow1_col0\" class=\"data row1 col0\" >0.894604</td>\n",
       "                        <td id=\"T_2894e9c8_83bb_11ec_908e_ccb0dab57d4arow1_col1\" class=\"data row1 col1\" >1.000000</td>\n",
       "                        <td id=\"T_2894e9c8_83bb_11ec_908e_ccb0dab57d4arow1_col2\" class=\"data row1 col2\" >0.979242</td>\n",
       "                        <td id=\"T_2894e9c8_83bb_11ec_908e_ccb0dab57d4arow1_col3\" class=\"data row1 col3\" >0.549338</td>\n",
       "                        <td id=\"T_2894e9c8_83bb_11ec_908e_ccb0dab57d4arow1_col4\" class=\"data row1 col4\" >0.552805</td>\n",
       "            </tr>\n",
       "            <tr>\n",
       "                        <th id=\"T_2894e9c8_83bb_11ec_908e_ccb0dab57d4alevel0_row2\" class=\"row_heading level0 row2\" >Premium, $</th>\n",
       "                        <td id=\"T_2894e9c8_83bb_11ec_908e_ccb0dab57d4arow2_col0\" class=\"data row2 col0\" >0.821898</td>\n",
       "                        <td id=\"T_2894e9c8_83bb_11ec_908e_ccb0dab57d4arow2_col1\" class=\"data row2 col1\" >0.979242</td>\n",
       "                        <td id=\"T_2894e9c8_83bb_11ec_908e_ccb0dab57d4arow2_col2\" class=\"data row2 col2\" >1.000000</td>\n",
       "                        <td id=\"T_2894e9c8_83bb_11ec_908e_ccb0dab57d4arow2_col3\" class=\"data row2 col3\" >0.603839</td>\n",
       "                        <td id=\"T_2894e9c8_83bb_11ec_908e_ccb0dab57d4arow2_col4\" class=\"data row2 col4\" >0.604134</td>\n",
       "            </tr>\n",
       "            <tr>\n",
       "                        <th id=\"T_2894e9c8_83bb_11ec_908e_ccb0dab57d4alevel0_row3\" class=\"row_heading level0 row3\" >median_inc</th>\n",
       "                        <td id=\"T_2894e9c8_83bb_11ec_908e_ccb0dab57d4arow3_col0\" class=\"data row3 col0\" >0.460521</td>\n",
       "                        <td id=\"T_2894e9c8_83bb_11ec_908e_ccb0dab57d4arow3_col1\" class=\"data row3 col1\" >0.549338</td>\n",
       "                        <td id=\"T_2894e9c8_83bb_11ec_908e_ccb0dab57d4arow3_col2\" class=\"data row3 col2\" >0.603839</td>\n",
       "                        <td id=\"T_2894e9c8_83bb_11ec_908e_ccb0dab57d4arow3_col3\" class=\"data row3 col3\" >1.000000</td>\n",
       "                        <td id=\"T_2894e9c8_83bb_11ec_908e_ccb0dab57d4arow3_col4\" class=\"data row3 col4\" >0.993626</td>\n",
       "            </tr>\n",
       "            <tr>\n",
       "                        <th id=\"T_2894e9c8_83bb_11ec_908e_ccb0dab57d4alevel0_row4\" class=\"row_heading level0 row4\" >mean_inc</th>\n",
       "                        <td id=\"T_2894e9c8_83bb_11ec_908e_ccb0dab57d4arow4_col0\" class=\"data row4 col0\" >0.458361</td>\n",
       "                        <td id=\"T_2894e9c8_83bb_11ec_908e_ccb0dab57d4arow4_col1\" class=\"data row4 col1\" >0.552805</td>\n",
       "                        <td id=\"T_2894e9c8_83bb_11ec_908e_ccb0dab57d4arow4_col2\" class=\"data row4 col2\" >0.604134</td>\n",
       "                        <td id=\"T_2894e9c8_83bb_11ec_908e_ccb0dab57d4arow4_col3\" class=\"data row4 col3\" >0.993626</td>\n",
       "                        <td id=\"T_2894e9c8_83bb_11ec_908e_ccb0dab57d4arow4_col4\" class=\"data row4 col4\" >1.000000</td>\n",
       "            </tr>\n",
       "    </tbody></table>"
      ],
      "text/plain": [
       "<pandas.io.formats.style.Styler at 0x1a80dcfcee0>"
      ]
     },
     "execution_count": 278,
     "metadata": {},
     "output_type": "execute_result"
    }
   ],
   "source": [
    "corr = df[['Basic, $','Standard,$','Premium, $','median_inc','mean_inc']].corr()\n",
    "corr.style.background_gradient(cmap='coolwarm')\n"
   ]
  },
  {
   "cell_type": "code",
   "execution_count": 279,
   "metadata": {},
   "outputs": [
    {
     "data": {
      "text/plain": [
       "<AxesSubplot:xlabel='median_inc', ylabel='Basic, $'>"
      ]
     },
     "execution_count": 279,
     "metadata": {},
     "output_type": "execute_result"
    },
    {
     "data": {
      "image/png": "[encoded data removed]",
      "text/plain": [
       "<Figure size 432x288 with 1 Axes>"
      ]
     },
     "metadata": {
      "needs_background": "light"
     },
     "output_type": "display_data"
    }
   ],
   "source": [
    "df.plot.scatter('median_inc', 'Basic, $')"
   ]
  },
  {
   "cell_type": "code",
   "execution_count": 280,
   "metadata": {},
   "outputs": [
    {
     "data": {
      "text/plain": [
       "<AxesSubplot:xlabel='median_inc', ylabel='Standard,$'>"
      ]
     },
     "execution_count": 280,
     "metadata": {},
     "output_type": "execute_result"
    },
    {
     "data": {
      "image/png": "[encoded data removed]",
      "text/plain": [
       "<Figure size 432x288 with 1 Axes>"
      ]
     },
     "metadata": {
      "needs_background": "light"
     },
     "output_type": "display_data"
    }
   ],
   "source": [
    "df.plot.scatter('median_inc', 'Standard,$')"
   ]
  },
  {
   "cell_type": "code",
   "execution_count": 281,
   "metadata": {},
   "outputs": [
    {
     "data": {
      "text/plain": [
       "<AxesSubplot:xlabel='median_inc', ylabel='Premium, $'>"
      ]
     },
     "execution_count": 281,
     "metadata": {},
     "output_type": "execute_result"
    },
    {
     "data": {
      "image/png": "[encoded data removed]",
      "text/plain": [
       "<Figure size 432x288 with 1 Axes>"
      ]
     },
     "metadata": {
      "needs_background": "light"
     },
     "output_type": "display_data"
    }
   ],
   "source": [
    "df.plot.scatter('median_inc', 'Premium, $')"
   ]
  },
  {
   "cell_type": "markdown",
   "metadata": {},
   "source": [
    "### Какая средняя цена подписки, (базовой, стандартной, премиум) в зависимости от валюты страны. "
   ]
  },
  {
   "cell_type": "code",
   "execution_count": 282,
   "metadata": {},
   "outputs": [
    {
     "data": {
      "text/html": [
       "<div>\n",
       "<style scoped>\n",
       "    .dataframe tbody tr th:only-of-type {\n",
       "        vertical-align: middle;\n",
       "    }\n",
       "\n",
       "    .dataframe tbody tr th {\n",
       "        vertical-align: top;\n",
       "    }\n",
       "\n",
       "    .dataframe thead th {\n",
       "        text-align: right;\n",
       "    }\n",
       "</style>\n",
       "<table border=\"1\" class=\"dataframe\">\n",
       "  <thead>\n",
       "    <tr style=\"text-align: right;\">\n",
       "      <th></th>\n",
       "      <th>Country</th>\n",
       "      <th>Currency</th>\n",
       "      <th>aver_price</th>\n",
       "    </tr>\n",
       "  </thead>\n",
       "  <tbody>\n",
       "    <tr>\n",
       "      <th>0</th>\n",
       "      <td>Argentina</td>\n",
       "      <td>ARS</td>\n",
       "      <td>652.333333</td>\n",
       "    </tr>\n",
       "    <tr>\n",
       "      <th>1</th>\n",
       "      <td>Australia</td>\n",
       "      <td>AUS</td>\n",
       "      <td>16.990000</td>\n",
       "    </tr>\n",
       "    <tr>\n",
       "      <th>2</th>\n",
       "      <td>Austria</td>\n",
       "      <td>EUR</td>\n",
       "      <td>12.990000</td>\n",
       "    </tr>\n",
       "    <tr>\n",
       "      <th>3</th>\n",
       "      <td>Belgium</td>\n",
       "      <td>EUR</td>\n",
       "      <td>13.490000</td>\n",
       "    </tr>\n",
       "    <tr>\n",
       "      <th>4</th>\n",
       "      <td>Bolivia</td>\n",
       "      <td>USD</td>\n",
       "      <td>10.990000</td>\n",
       "    </tr>\n",
       "  </tbody>\n",
       "</table>\n",
       "</div>"
      ],
      "text/plain": [
       "     Country Currency  aver_price\n",
       "0  Argentina      ARS  652.333333\n",
       "1  Australia      AUS   16.990000\n",
       "2    Austria      EUR   12.990000\n",
       "3    Belgium      EUR   13.490000\n",
       "4    Bolivia      USD   10.990000"
      ]
     },
     "execution_count": 282,
     "metadata": {},
     "output_type": "execute_result"
    }
   ],
   "source": [
    "aver_price = pd.DataFrame()\n",
    "aver_price[['Country','Currency']] = df[['Country','Currency']]\n",
    "aver_price[['aver_price']] = (df['Basic']+df['Standard']+df['Premium'])/3\n",
    "aver_price.head()"
   ]
  },
  {
   "cell_type": "markdown",
   "metadata": {},
   "source": [
    "### Какая средняя цена подписки, (базовой, стандартной, премиум) в зависимости от континента"
   ]
  },
  {
   "cell_type": "code",
   "execution_count": 327,
   "metadata": {},
   "outputs": [],
   "source": [
    "url_cont = 'https://docs.google.com/spreadsheets/d/1Lk4htrWysNaI97b0yLriGiWEq4gBnGlmaI9BL-CgMzE/export?format=csv&gid=1356129593'\n",
    "regions = pd.read_csv(url_cont)\n"
   ]
  },
  {
   "cell_type": "code",
   "execution_count": 328,
   "metadata": {},
   "outputs": [
    {
     "data": {
      "text/html": [
       "<div>\n",
       "<style scoped>\n",
       "    .dataframe tbody tr th:only-of-type {\n",
       "        vertical-align: middle;\n",
       "    }\n",
       "\n",
       "    .dataframe tbody tr th {\n",
       "        vertical-align: top;\n",
       "    }\n",
       "\n",
       "    .dataframe thead th {\n",
       "        text-align: right;\n",
       "    }\n",
       "</style>\n",
       "<table border=\"1\" class=\"dataframe\">\n",
       "  <thead>\n",
       "    <tr style=\"text-align: right;\">\n",
       "      <th></th>\n",
       "      <th>aver_price,$</th>\n",
       "    </tr>\n",
       "    <tr>\n",
       "      <th>Continent</th>\n",
       "      <th></th>\n",
       "    </tr>\n",
       "  </thead>\n",
       "  <tbody>\n",
       "    <tr>\n",
       "      <th>Africa</th>\n",
       "      <td>9.630000</td>\n",
       "    </tr>\n",
       "    <tr>\n",
       "      <th>Asia</th>\n",
       "      <td>10.290370</td>\n",
       "    </tr>\n",
       "    <tr>\n",
       "      <th>Europe</th>\n",
       "      <td>13.356092</td>\n",
       "    </tr>\n",
       "    <tr>\n",
       "      <th>North America</th>\n",
       "      <td>11.518000</td>\n",
       "    </tr>\n",
       "    <tr>\n",
       "      <th>Oceania</th>\n",
       "      <td>12.436667</td>\n",
       "    </tr>\n",
       "    <tr>\n",
       "      <th>South America</th>\n",
       "      <td>9.287083</td>\n",
       "    </tr>\n",
       "  </tbody>\n",
       "</table>\n",
       "</div>"
      ],
      "text/plain": [
       "               aver_price,$\n",
       "Continent                  \n",
       "Africa             9.630000\n",
       "Asia              10.290370\n",
       "Europe            13.356092\n",
       "North America     11.518000\n",
       "Oceania           12.436667\n",
       "South America      9.287083"
      ]
     },
     "execution_count": 328,
     "metadata": {},
     "output_type": "execute_result"
    }
   ],
   "source": [
    "df_reg = df.copy().merge(regions, how ='left')\n",
    "#df_reg = df_reg.dropna()\n",
    "df_reg[['aver_price,$']] = (df['Basic, $'] +  df['Standard,$'] + df['Premium, $'])/3\n",
    "df_reg[['Continent', 'aver_price,$']].groupby('Continent').mean()"
   ]
  },
  {
   "cell_type": "markdown",
   "metadata": {},
   "source": [
    "### Сколько стоит подписка относительно среднего дохода (базовая, стандартная, премиум) в Чехии?"
   ]
  },
  {
   "cell_type": "code",
   "execution_count": 307,
   "metadata": {},
   "outputs": [
    {
     "data": {
      "text/html": [
       "<div>\n",
       "<style scoped>\n",
       "    .dataframe tbody tr th:only-of-type {\n",
       "        vertical-align: middle;\n",
       "    }\n",
       "\n",
       "    .dataframe tbody tr th {\n",
       "        vertical-align: top;\n",
       "    }\n",
       "\n",
       "    .dataframe thead th {\n",
       "        text-align: right;\n",
       "    }\n",
       "</style>\n",
       "<table border=\"1\" class=\"dataframe\">\n",
       "  <thead>\n",
       "    <tr style=\"text-align: right;\">\n",
       "      <th></th>\n",
       "      <th>Relative_Basic</th>\n",
       "      <th>Relative_Stand</th>\n",
       "      <th>Relative_Prem</th>\n",
       "    </tr>\n",
       "  </thead>\n",
       "  <tbody>\n",
       "    <tr>\n",
       "      <th>12</th>\n",
       "      <td>0.000879</td>\n",
       "      <td>0.001144</td>\n",
       "      <td>0.001409</td>\n",
       "    </tr>\n",
       "  </tbody>\n",
       "</table>\n",
       "</div>"
      ],
      "text/plain": [
       "    Relative_Basic  Relative_Stand  Relative_Prem\n",
       "12        0.000879        0.001144       0.001409"
      ]
     },
     "execution_count": 307,
     "metadata": {},
     "output_type": "execute_result"
    }
   ],
   "source": [
    "czech = df.copy()[df.copy()['Country']=='Czech Republic']\n",
    "czech[['Relative_Basic']] = czech['Basic, $']/czech['median_inc']\n",
    "czech[['Relative_Stand']] = czech['Standard,$']/czech['median_inc']\n",
    "czech[['Relative_Prem']] = czech['Premium, $']/czech['median_inc']\n",
    "czech[['Relative_Basic','Relative_Stand','Relative_Prem']]"
   ]
  },
  {
   "cell_type": "markdown",
   "metadata": {},
   "source": [
    "### Какие топ-5 стран имеют самую большую доступную коллекцию сериалов?"
   ]
  },
  {
   "cell_type": "code",
   "execution_count": 313,
   "metadata": {},
   "outputs": [
    {
     "data": {
      "text/html": [
       "<div>\n",
       "<style scoped>\n",
       "    .dataframe tbody tr th:only-of-type {\n",
       "        vertical-align: middle;\n",
       "    }\n",
       "\n",
       "    .dataframe tbody tr th {\n",
       "        vertical-align: top;\n",
       "    }\n",
       "\n",
       "    .dataframe thead th {\n",
       "        text-align: right;\n",
       "    }\n",
       "</style>\n",
       "<table border=\"1\" class=\"dataframe\">\n",
       "  <thead>\n",
       "    <tr style=\"text-align: right;\">\n",
       "      <th></th>\n",
       "      <th>Country</th>\n",
       "    </tr>\n",
       "  </thead>\n",
       "  <tbody>\n",
       "    <tr>\n",
       "      <th>0</th>\n",
       "      <td>Czech Republic</td>\n",
       "    </tr>\n",
       "    <tr>\n",
       "      <th>1</th>\n",
       "      <td>Slovakia</td>\n",
       "    </tr>\n",
       "    <tr>\n",
       "      <th>2</th>\n",
       "      <td>Bulgaria</td>\n",
       "    </tr>\n",
       "    <tr>\n",
       "      <th>3</th>\n",
       "      <td>Hungary</td>\n",
       "    </tr>\n",
       "    <tr>\n",
       "      <th>4</th>\n",
       "      <td>United Kingdom</td>\n",
       "    </tr>\n",
       "  </tbody>\n",
       "</table>\n",
       "</div>"
      ],
      "text/plain": [
       "          Country\n",
       "0  Czech Republic\n",
       "1        Slovakia\n",
       "2        Bulgaria\n",
       "3         Hungary\n",
       "4  United Kingdom"
      ]
     },
     "execution_count": 313,
     "metadata": {},
     "output_type": "execute_result"
    }
   ],
   "source": [
    "top_ser = df.copy().sort_values('# of TV Shows',ascending = False).reset_index(drop=True)['Country'].head()\n",
    "pd.DataFrame(top_ser)"
   ]
  },
  {
   "cell_type": "markdown",
   "metadata": {},
   "source": [
    "### Какой процент среднего дохода россиянина будет составлять подписка Netflix?"
   ]
  },
  {
   "cell_type": "code",
   "execution_count": 315,
   "metadata": {},
   "outputs": [
    {
     "data": {
      "text/html": [
       "<div>\n",
       "<style scoped>\n",
       "    .dataframe tbody tr th:only-of-type {\n",
       "        vertical-align: middle;\n",
       "    }\n",
       "\n",
       "    .dataframe tbody tr th {\n",
       "        vertical-align: top;\n",
       "    }\n",
       "\n",
       "    .dataframe thead th {\n",
       "        text-align: right;\n",
       "    }\n",
       "</style>\n",
       "<table border=\"1\" class=\"dataframe\">\n",
       "  <thead>\n",
       "    <tr style=\"text-align: right;\">\n",
       "      <th></th>\n",
       "      <th>Relative_Basic</th>\n",
       "      <th>Relative_Stand</th>\n",
       "      <th>Relative_Prem</th>\n",
       "    </tr>\n",
       "  </thead>\n",
       "  <tbody>\n",
       "    <tr>\n",
       "      <th>48</th>\n",
       "      <td>0.147711</td>\n",
       "      <td>0.196948</td>\n",
       "      <td>0.246366</td>\n",
       "    </tr>\n",
       "  </tbody>\n",
       "</table>\n",
       "</div>"
      ],
      "text/plain": [
       "    Relative_Basic  Relative_Stand  Relative_Prem\n",
       "48        0.147711        0.196948       0.246366"
      ]
     },
     "execution_count": 315,
     "metadata": {},
     "output_type": "execute_result"
    }
   ],
   "source": [
    "rus = df.copy()[df.copy()['Country']=='Russia']\n",
    "rus[['Relative_Basic']] = rus['Basic, $']*100/rus['median_inc']\n",
    "rus[['Relative_Stand']] = rus['Standard,$']*100/rus['median_inc']\n",
    "rus[['Relative_Prem']] = rus['Premium, $']*100/rus['median_inc']\n",
    "rus[['Relative_Basic','Relative_Stand','Relative_Prem']]"
   ]
  },
  {
   "cell_type": "markdown",
   "metadata": {},
   "source": [
    "P.S. Только здесь осознал, что у меня доход ВВП подушевого, на логику не влияет, но цифры кривятся..."
   ]
  },
  {
   "cell_type": "markdown",
   "metadata": {},
   "source": [
    "### На каком месте будет Россия, если отсортировать страны по эффективности подписки (Cost Per Title)"
   ]
  },
  {
   "cell_type": "code",
   "execution_count": 316,
   "metadata": {},
   "outputs": [
    {
     "data": {
      "text/plain": [
       "Index(['Country', 'Currency', 'Basic', 'Standard', 'Premium', 'Basic, $',\n",
       "       'Standard,$', 'Premium, $', '# of TV Shows', '# of Movies',\n",
       "       'Total Library Size', 'median_inc', 'mean_inc'],\n",
       "      dtype='object')"
      ]
     },
     "execution_count": 316,
     "metadata": {},
     "output_type": "execute_result"
    }
   ],
   "source": [
    "df.columns"
   ]
  },
  {
   "cell_type": "code",
   "execution_count": 322,
   "metadata": {},
   "outputs": [
    {
     "data": {
      "text/html": [
       "<div>\n",
       "<style scoped>\n",
       "    .dataframe tbody tr th:only-of-type {\n",
       "        vertical-align: middle;\n",
       "    }\n",
       "\n",
       "    .dataframe tbody tr th {\n",
       "        vertical-align: top;\n",
       "    }\n",
       "\n",
       "    .dataframe thead th {\n",
       "        text-align: right;\n",
       "    }\n",
       "</style>\n",
       "<table border=\"1\" class=\"dataframe\">\n",
       "  <thead>\n",
       "    <tr style=\"text-align: right;\">\n",
       "      <th></th>\n",
       "      <th>Country</th>\n",
       "      <th>Cost_per_title</th>\n",
       "    </tr>\n",
       "  </thead>\n",
       "  <tbody>\n",
       "    <tr>\n",
       "      <th>17</th>\n",
       "      <td>Russia</td>\n",
       "      <td>0.001898</td>\n",
       "    </tr>\n",
       "  </tbody>\n",
       "</table>\n",
       "</div>"
      ],
      "text/plain": [
       "   Country  Cost_per_title\n",
       "17  Russia        0.001898"
      ]
     },
     "execution_count": 322,
     "metadata": {},
     "output_type": "execute_result"
    }
   ],
   "source": [
    "Cost_per_title = pd.DataFrame()\n",
    "Cost_per_title[['Country']] = df[['Country']]\n",
    "Cost_per_title[['Cost_per_title']] = df['Standard,$']/df['Total Library Size']\n",
    "Cost_per_title = Cost_per_title.sort_values('Cost_per_title').reset_index(drop=True)\n",
    "Cost_per_title[Cost_per_title['Country']=='Russia']"
   ]
  },
  {
   "cell_type": "markdown",
   "metadata": {},
   "source": [
    "### В какой стране лучше всего брать VPN для того, чтобы платить за Netflix меньше всего?"
   ]
  },
  {
   "cell_type": "code",
   "execution_count": 326,
   "metadata": {},
   "outputs": [
    {
     "data": {
      "text/html": [
       "<div>\n",
       "<style scoped>\n",
       "    .dataframe tbody tr th:only-of-type {\n",
       "        vertical-align: middle;\n",
       "    }\n",
       "\n",
       "    .dataframe tbody tr th {\n",
       "        vertical-align: top;\n",
       "    }\n",
       "\n",
       "    .dataframe thead th {\n",
       "        text-align: right;\n",
       "    }\n",
       "</style>\n",
       "<table border=\"1\" class=\"dataframe\">\n",
       "  <thead>\n",
       "    <tr style=\"text-align: right;\">\n",
       "      <th></th>\n",
       "      <th>Country</th>\n",
       "    </tr>\n",
       "  </thead>\n",
       "  <tbody>\n",
       "    <tr>\n",
       "      <th>0</th>\n",
       "      <td>Turkey</td>\n",
       "    </tr>\n",
       "  </tbody>\n",
       "</table>\n",
       "</div>"
      ],
      "text/plain": [
       "  Country\n",
       "0  Turkey"
      ]
     },
     "execution_count": 326,
     "metadata": {},
     "output_type": "execute_result"
    }
   ],
   "source": [
    "pd.DataFrame(Cost_per_title['Country'].head(1))"
   ]
  }
 ],
 "metadata": {
  "kernelspec": {
   "display_name": "Python 3",
   "language": "python",
   "name": "python3"
  },
  "language_info": {
   "codemirror_mode": {
    "name": "ipython",
    "version": 3
   },
   "file_extension": ".py",
   "mimetype": "text/x-python",
   "name": "python",
   "nbconvert_exporter": "python",
   "pygments_lexer": "ipython3",
   "version": "3.8.3"
  }
 },
 "nbformat": 4,
 "nbformat_minor": 4
}