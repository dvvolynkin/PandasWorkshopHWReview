{
 "cells": [
  {
   "cell_type": "markdown",
   "metadata": {},
   "source": [
    "#### Задание (2/2)\n",
    "- [x] Найти в открытых источниках или составить самостоятельно таблицу среднего дохода (PPP) в зависимости от страны\n",
    "- [x] Построить график корреляции между средним доходом (PPP) и ценой подписки \n",
    "\n",
    "#### Вопросы (1/7)\n",
    "- [ ] Какая средняя цена подписки, (базовой, стандартной, премиум) в зависимости от валюты страны.\n",
    "- [x] Какая средняя цена подписки, (базовой, стандартной, премиум) в зависимости от континента\n",
    "- [ ] Сколько стоит подписка относительно среднего дохода (базовая, стандартная, премиум) в Чехии?\n",
    "- [ ] Какие топ-5 стран имеют самую большую доступную коллекцию сериалов?\n",
    "- [ ] Какой процент среднего дохода россиянина будет составлять подписка Netflix?\n",
    "- [ ] На каком месте будет Россия, если отсортировать страны по эффективности подписки (Cost Per Title)\n",
    "- [ ] В какой стране лучше всего брать VPN для того, чтобы платить за Netflix меньше всего?\n",
    "\n",
    "#### Ограничения (5/5)\n",
    "- [x] Данные, используемые в ноутбуке с решением, должны подтягиваться через url c удаленного источника (википедии, google sheets, etc)\n",
    "- [x] Нельзя использовать циклы for, while для работы с данными. Используйте инструменты Pandas\n",
    "- [x] Должны присутствовать методы df.apply, pd.merge, pd.concat\n",
    "- [x] В приведенной статье есть готовые выводы, их нельзя использовать.\n",
    "- [x] Решение оформить в виде репозитория на github.com\n",
    "\n",
    "\n",
    "\n",
    "\n",
    "В",
    "е",
    "с",
    "а",
    ":",
    "\n",
    "-",
    " ",
    "З",
    "а",
    "д",
    "а",
    "н",
    "и",
    "е",
    " ",
    "-",
    " ",
    "2",
    " ",
    " ",
    "\n",
    "-",
    " ",
    "В",
    "о",
    "п",
    "р",
    "о",
    "с",
    "ы",
    " ",
    "-",
    " ",
    "7",
    " ",
    " ",
    "\n",
    "-",
    " ",
    "О",
    "г",
    "р",
    "а",
    "н",
    "и",
    "ч",
    "е",
    "н",
    "и",
    "я",
    " ",
    "-",
    " ",
    "3",
    " ",
    " ",
    "\n",
    "\n",
    "\n",
    "Ф",
    "о",
    "р",
    "м",
    "у",
    "л",
    "а",
    " ",
    "о",
    "ц",
    "е",
    "н",
    "к",
    "и",
    ":",
    " ",
    "=",
    "(",
    "2",
    "/",
    "2",
    " ",
    "*",
    " ",
    "2",
    " ",
    "+",
    " ",
    "1",
    "/",
    "7",
    " ",
    "*",
    " ",
    "7",
    " ",
    "+",
    " ",
    "5",
    "/",
    "5",
    " ",
    "*",
    " ",
    "3",
    ")",
    "/",
    " ",
    "(",
    "2",
    " ",
    "+",
    " ",
    "7",
    " ",
    "+",
    " ",
    "3",
    ")",
    " ",
    "*",
    " ",
    "1",
    "0",
    " ",
    " ",
    "\n",
    "*",
    "*",
    "О",
    "ц",
    "е",
    "н",
    "к",
    "а",
    "*",
    "*",
    ":",
    " ",
    "5",
    "/",
    "1",
    "0"
   ]
  },
  {
   "cell_type": "code",
   "execution_count": 1,
   "metadata": {},
   "outputs": [],
   "source": [
    "import pandas as pd\n",
    "from matplotlib import pyplot as plt\n",
    "import numpy as np\n"
   ]
  },
  {
   "cell_type": "markdown",
   "metadata": {},
   "source": [
    "Purchasing power parity conversion factor is the number of units of a country’s currency required to buy the same amounts of goods and services in the domestic market as U.S. dollar would buy in the United States"
   ]
  },
  {
   "cell_type": "code",
   "execution_count": 2,
   "metadata": {},
   "outputs": [],
   "source": [
    "#ppp_df = pd.read_csv('https://pkgstore.datahub.io/core/ppp/ppp-gdp_csv/data/bfb48ab9dd0c226d3f7c941349a92000/ppp-gdp_csv.csv')"
   ]
  },
  {
   "cell_type": "code",
   "execution_count": 3,
   "metadata": {},
   "outputs": [],
   "source": [
    "#ppp_df = pd.read_csv('https://raw.githubusercontent.com/datasets/ppp/master/data/ppp-gdp.csv')"
   ]
  },
  {
   "cell_type": "code",
   "execution_count": 4,
   "metadata": {},
   "outputs": [],
   "source": [
    "ppp_df = pd.read_csv('https://docs.google.com/spreadsheets/d/e/2PACX-1vRS82dey-obT2iFc-AH0JOwyHycG2uxndrtEDuSzoMTiEqrg0goYN_uQUnKOvK0egYHDk3y0zQgpxLf/pub?output=csv')"
   ]
  },
  {
   "cell_type": "code",
   "execution_count": 5,
   "metadata": {},
   "outputs": [],
   "source": [
    "ppp_df['Country'] = ppp_df['Country'].apply(str.upper)\n",
    "ppp_df.replace({'CZECH REPUBLIC': 'CZECHIA'}, inplace=True)\n",
    "ppp_df.replace({'RUSSIAN FEDERATION': 'RUSSIA'}, inplace=True)\n",
    "# ppp_df.rename(columns= {'Country ID': 'Country_code'}, inplace=True)\n"
   ]
  },
  {
   "cell_type": "markdown",
   "metadata": {},
   "source": [
    "<h2 style=\"color:red\">\n",
    "    Лучше было использовать ссылки вида \n",
    "</h2>\n",
    "https://raw.githubusercontent.com/{username}/{repo_name}/{file_name}.csv"
   ]
  },
  {
   "cell_type": "code",
   "execution_count": null,
   "metadata": {
    "scrolled": true
   },
   "outputs": [],
   "source": [
    "netflix_fee = pd.read_csv('Netflix_subscription_fee_Dec_2021.csv')\n",
    "netflix_fee['Country'] = netflix_fee['Country'].apply(str.upper)\n",
    "netflix_fee['Country_code'] = netflix_fee['Country_code'].apply(str.upper)"
   ]
  },
  {
   "cell_type": "code",
   "execution_count": null,
   "metadata": {},
   "outputs": [],
   "source": [
    "netflix_fee"
   ]
  },
  {
   "cell_type": "code",
   "execution_count": null,
   "metadata": {},
   "outputs": [],
   "source": [
    "df_merged = pd.merge( netflix_fee, ppp_df)"
   ]
  },
  {
   "cell_type": "markdown",
   "metadata": {},
   "source": [
    "<h2 style=\"color:red\">- Очень сложно читать это</h2>"
   ]
  },
  {
   "cell_type": "code",
   "execution_count": null,
   "metadata": {},
   "outputs": [],
   "source": [
    "df_merged"
   ]
  },
  {
   "cell_type": "markdown",
   "metadata": {},
   "source": [
    "график корреляции между средним доходом (PPP) и ценой подписки"
   ]
  },
  {
   "cell_type": "code",
   "execution_count": 142,
   "metadata": {},
   "outputs": [
    {
     "data": {
      "text/plain": [
       "Text(0.5, 1.0, 'Correlation: -0.052')"
      ]
     },
     "execution_count": 142,
     "metadata": {},
     "output_type": "execute_result"
    },
    {
     "data": {
      "image/png": "[encoded data removed]",
      "text/plain": [
       "<Figure size 432x288 with 1 Axes>"
      ]
     },
     "metadata": {
      "needs_background": "light"
     },
     "output_type": "display_data"
    }
   ],
   "source": [
    "plt.scatter((df_merged['Estimate']), df_merged['Cost Per Month - Standard ($)'])\n",
    "plt.xlabel('Estimate')\n",
    "plt.ylabel('Cost Per Month - Standard ($)')\n",
    "plt.title(f\"Correlation: {np.corrcoef((df_merged['Estimate']), df_merged['Cost Per Month - Standard ($)'])[0][1]:.3f}\")"
   ]
  },
  {
   "cell_type": "markdown",
   "metadata": {},
   "source": [
    "Какая средняя цена подписки, (базовой, стандартной, премиум) в зависимости от континента"
   ]
  },
  {
   "cell_type": "code",
   "execution_count": 143,
   "metadata": {},
   "outputs": [
    {
     "data": {
      "text/html": [
       "<div>\n",
       "<style scoped>\n",
       "    .dataframe tbody tr th:only-of-type {\n",
       "        vertical-align: middle;\n",
       "    }\n",
       "\n",
       "    .dataframe tbody tr th {\n",
       "        vertical-align: top;\n",
       "    }\n",
       "\n",
       "    .dataframe thead th {\n",
       "        text-align: right;\n",
       "    }\n",
       "</style>\n",
       "<table border=\"1\" class=\"dataframe\">\n",
       "  <thead>\n",
       "    <tr style=\"text-align: right;\">\n",
       "      <th></th>\n",
       "      <th>Cost Per Month - Basic ($)</th>\n",
       "      <th>Cost Per Month - Standard ($)</th>\n",
       "      <th>Cost Per Month - Premium ($)</th>\n",
       "    </tr>\n",
       "    <tr>\n",
       "      <th>Region</th>\n",
       "      <th></th>\n",
       "      <th></th>\n",
       "      <th></th>\n",
       "    </tr>\n",
       "  </thead>\n",
       "  <tbody>\n",
       "    <tr>\n",
       "      <th>Africa</th>\n",
       "      <td>6.260000</td>\n",
       "      <td>10.050000</td>\n",
       "      <td>12.580000</td>\n",
       "    </tr>\n",
       "    <tr>\n",
       "      <th>Asia</th>\n",
       "      <td>7.636667</td>\n",
       "      <td>10.404167</td>\n",
       "      <td>12.966667</td>\n",
       "    </tr>\n",
       "    <tr>\n",
       "      <th>Americas</th>\n",
       "      <td>7.223750</td>\n",
       "      <td>10.465625</td>\n",
       "      <td>13.548750</td>\n",
       "    </tr>\n",
       "    <tr>\n",
       "      <th>Oceania</th>\n",
       "      <td>8.320000</td>\n",
       "      <td>12.325000</td>\n",
       "      <td>16.665000</td>\n",
       "    </tr>\n",
       "    <tr>\n",
       "      <th>Europe</th>\n",
       "      <td>9.230294</td>\n",
       "      <td>13.304412</td>\n",
       "      <td>17.545588</td>\n",
       "    </tr>\n",
       "  </tbody>\n",
       "</table>\n",
       "</div>"
      ],
      "text/plain": [
       "          Cost Per Month - Basic ($)  Cost Per Month - Standard ($)  \\\n",
       "Region                                                                \n",
       "Africa                      6.260000                      10.050000   \n",
       "Asia                        7.636667                      10.404167   \n",
       "Americas                    7.223750                      10.465625   \n",
       "Oceania                     8.320000                      12.325000   \n",
       "Europe                      9.230294                      13.304412   \n",
       "\n",
       "          Cost Per Month - Premium ($)  \n",
       "Region                                  \n",
       "Africa                       12.580000  \n",
       "Asia                         12.966667  \n",
       "Americas                     13.548750  \n",
       "Oceania                      16.665000  \n",
       "Europe                       17.545588  "
      ]
     },
     "execution_count": 143,
     "metadata": {},
     "output_type": "execute_result"
    }
   ],
   "source": [
    "df_merged.groupby(['Region'])[['Cost Per Month - Basic ($)', \n",
    "                            'Cost Per Month - Standard ($)', \n",
    "                            'Cost Per Month - Premium ($)']].mean().sort_values('Cost Per Month - Premium ($)')"
   ]
  },
  {
   "cell_type": "markdown",
   "metadata": {},
   "source": [
    "Какие топ-5 стран имеют самую большую доступную коллекцию сериалов?"
   ]
  },
  {
   "cell_type": "markdown",
   "metadata": {},
   "source": [
    "<h2 style=\"color:red\">\n",
    "   Сериалы — это TV Shows. Total Library Size — это сериалы + фильмы\n",
    "</h2>"
   ]
  },
  {
   "cell_type": "code",
   "execution_count": 132,
   "metadata": {},
   "outputs": [
    {
     "data": {
      "text/plain": [
       "array(['CZECHIA', 'SLOVAKIA', 'HUNGARY', 'BULGARIA', 'UNITED KINGDOM'],\n",
       "      dtype=object)"
      ]
     },
     "execution_count": 132,
     "metadata": {},
     "output_type": "execute_result"
    }
   ],
   "source": [
    "df_merged.sort_values('Total Library Size', ascending=False).head(5)['Country'].values"
   ]
  },
  {
   "cell_type": "markdown",
   "metadata": {},
   "source": []
  },
  {
   "cell_type": "code",
   "execution_count": null,
   "metadata": {},
   "outputs": [],
   "source": []
  }
 ],
 "metadata": {
  "kernelspec": {
   "display_name": "Python 3",
   "language": "python",
   "name": "python3"
  },
  "language_info": {
   "codemirror_mode": {
    "name": "ipython",
    "version": 3
   },
   "file_extension": ".py",
   "mimetype": "text/x-python",
   "name": "python",
   "nbconvert_exporter": "python",
   "pygments_lexer": "ipython3",
   "version": "3.9.6"
  }
 },
 "nbformat": 4,
 "nbformat_minor": 4
}