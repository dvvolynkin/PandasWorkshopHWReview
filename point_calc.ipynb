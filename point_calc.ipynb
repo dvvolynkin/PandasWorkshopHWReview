{
 "cells": [
  {
   "cell_type": "markdown",
   "id": "married-blair",
   "metadata": {},
   "source": [
    "## Ноутбук подсчета оценок"
   ]
  },
  {
   "cell_type": "code",
   "execution_count": 1,
   "id": "considerable-haven",
   "metadata": {},
   "outputs": [],
   "source": [
    "import json\n",
    "from typing import List, Dict, Union, Any\n",
    "from math import floor\n",
    "import pandas as pd\n",
    "from yarl import URL\n",
    "from pprint import pprint\n",
    "\n",
    "POINT_WEIGHTS = {\n",
    "    'Задание': 2,\n",
    "    'Вопросы': 7,\n",
    "    'Ограничения': 3\n",
    "}"
   ]
  },
  {
   "cell_type": "markdown",
   "id": "built-advice",
   "metadata": {},
   "source": [
    "### Распарсим все ноутбуки в директории, чтобы подсчитать оценки в них"
   ]
  },
  {
   "cell_type": "code",
   "execution_count": 2,
   "id": "threaded-incentive",
   "metadata": {},
   "outputs": [
    {
     "data": {
      "text/plain": [
       "['#### Задание (2/2)\\n',\n",
       " '- [x] Найти в открытых источниках или составить самостоятельно таблицу среднего дохода (PPP) в зависимости от страны\\n',\n",
       " '- [x] Построить график корреляции между средним доходом (PPP) и ценой подписки \\n',\n",
       " '\\n',\n",
       " '#### Вопросы (1/7)\\n',\n",
       " '- [ ] Какая средняя цена подписки, (базовой, стандартной, премиум) в зависимости от валюты страны.\\n',\n",
       " '- [x] Какая средняя цена подписки, (базовой, стандартной, премиум) в зависимости от континента\\n',\n",
       " '- [ ] Сколько стоит подписка относительно среднего дохода (базовая, стандартная, премиум) в Чехии?\\n',\n",
       " '- [ ] Какие топ-5 стран имеют самую большую доступную коллекцию сериалов?\\n',\n",
       " '- [ ] Какой процент среднего дохода россиянина будет составлять подписка Netflix?\\n']"
      ]
     },
     "execution_count": 2,
     "metadata": {},
     "output_type": "execute_result"
    }
   ],
   "source": [
    "def get_first_cell(notebook_file_name: str) -> List[str]:\n",
    "    with open(notebook_file_name) as f:\n",
    "        json_ = json.load(f)\n",
    "        return json_['cells'][0]['source']\n",
    "    \n",
    "_first_cell_text = get_first_cell('00_586343437_finished.ipynb')\n",
    "_first_cell_text[:10]"
   ]
  },
  {
   "cell_type": "code",
   "execution_count": 3,
   "id": "level-australia",
   "metadata": {},
   "outputs": [
    {
     "data": {
      "text/plain": [
       "['Задание (2/2)', 'Вопросы (1/7)', 'Ограничения (5/5)']"
      ]
     },
     "execution_count": 3,
     "metadata": {},
     "output_type": "execute_result"
    }
   ],
   "source": [
    "def get_exercise_execution_points_text_from_cell_text(cell_text: List[str]) -> List[str]:\n",
    "    return [\n",
    "        line.strip(' #\\n')\n",
    "        for line in cell_text\n",
    "        if line.startswith('####')\n",
    "    ]\n",
    "\n",
    "\n",
    "_exercise_parts = get_exercise_execution_points_text_from_cell_text(_first_cell_text)\n",
    "_exercise_parts"
   ]
  },
  {
   "cell_type": "code",
   "execution_count": 4,
   "id": "driving-tunnel",
   "metadata": {},
   "outputs": [
    {
     "data": {
      "text/plain": [
       "{'Задание': 2, 'Вопросы': 1, 'Ограничения': 5}"
      ]
     },
     "execution_count": 4,
     "metadata": {},
     "output_type": "execute_result"
    }
   ],
   "source": [
    "def get_exercises_points(exercise_parts: List[str]) -> Dict[str, int]:\n",
    "    return dict([\n",
    "        (\n",
    "            e.split(' ')[0], \n",
    "            int(e.split(' ')[1].strip('()').split('/')[0])\n",
    "        )\n",
    "        for e in exercise_parts\n",
    "    ])\n",
    "\n",
    "_points = get_exercises_points(_exercise_parts)\n",
    "_points"
   ]
  },
  {
   "cell_type": "code",
   "execution_count": 5,
   "id": "academic-sunglasses",
   "metadata": {},
   "outputs": [
    {
     "data": {
      "text/plain": [
       "5"
      ]
     },
     "execution_count": 5,
     "metadata": {},
     "output_type": "execute_result"
    }
   ],
   "source": [
    "def get_result_point(points: Dict[str, int], weights: Dict[str, int]) -> int:\n",
    "    return floor((\n",
    "        points['Задание'] / 2 * weights['Задание']\n",
    "        + points['Вопросы'] / 7 * weights['Вопросы']\n",
    "        + points['Ограничения'] / 5 * weights['Ограничения']\n",
    "    ) / sum(weights.values()) * 10)\n",
    "    \n",
    "_res_point = get_result_point(_points, POINT_WEIGHTS)\n",
    "_res_point"
   ]
  },
  {
   "cell_type": "code",
   "execution_count": 6,
   "id": "postal-damages",
   "metadata": {},
   "outputs": [
    {
     "name": "stdout",
     "output_type": "stream",
     "text": [
      "Веса:\n",
      "- Задание - 2  \n",
      "- Вопросы - 7  \n",
      "- Ограничения - 3  \n",
      "\n",
      "\n",
      "Формула оценки: =(2/2 * 2 + 1/7 * 7 + 5/5 * 3)/ (2 + 7 + 3) * 10  \n",
      "**Оценка**: 5/10\n"
     ]
    }
   ],
   "source": [
    "weights = {\n",
    "    'Задание': 2,\n",
    "    'Вопросы': 7,\n",
    "    'Ограничения': 3\n",
    "}\n",
    "\n",
    "def get_result_text(res_point: int, points: Dict[str, int], weights: Dict[str, int]) -> str:\n",
    "    return (\n",
    "        \"Веса:\\n\"\n",
    "        \"- Задание - 2  \\n\"\n",
    "        \"- Вопросы - 7  \\n\"\n",
    "        \"- Ограничения - 3  \\n\"\n",
    "        \"\\n\\n\"\n",
    "        \"Формула оценки: =\"\n",
    "            f\"({points['Задание']}/2 * {weights['Задание']} \"\n",
    "            f\"+ {points['Вопросы']}/7 * {weights['Вопросы']} \"\n",
    "            f\"+ {points['Ограничения']}/5 * {weights['Ограничения']})\"\n",
    "            f\"/ ({weights['Задание']} + {weights['Вопросы']} + {weights['Ограничения']}) * 10  \\n\"\n",
    "        f\"**Оценка**: {res_point}/10\"\n",
    "    )\n",
    "\n",
    "\n",
    "print(get_result_text(_res_point, _points, POINT_WEIGHTS))"
   ]
  },
  {
   "cell_type": "code",
   "execution_count": 7,
   "id": "interior-manner",
   "metadata": {},
   "outputs": [
    {
     "name": "stdout",
     "output_type": "stream",
     "text": [
      "{'notebook_data_file_name': '00_586343437_finished.ipynb',\n",
      " 'res_point': 5,\n",
      " 'res_text': 'Веса:\\n'\n",
      "             '- Задание - 2  \\n'\n",
      "             '- Вопросы - 7  \\n'\n",
      "             '- Ограничения - 3  \\n'\n",
      "             '\\n'\n",
      "             '\\n'\n",
      "             'Формула оценки: =(2/2 * 2 + 1/7 * 7 + 5/5 * 3)/ (2 + 7 + 3) * '\n",
      "             '10  \\n'\n",
      "             '**Оценка**: 5/10',\n",
      " 'solution_id': '586343437'}\n"
     ]
    }
   ],
   "source": [
    "def get_solution_data(notebook_data_file_name: str, weights: Dict[str, int]) -> Dict[str, Union[str, int]]:\n",
    "    solution_id = notebook_data_file_name.split('_')[1]\n",
    "    first_cell = get_first_cell(notebook_data_file_name)\n",
    "    ex_parts = get_exercise_execution_points_text_from_cell_text(first_cell)\n",
    "    points = get_exercises_points(ex_parts)\n",
    "    res_point = get_result_point(points, weights)\n",
    "    res_text = get_result_text(res_point, points, weights)\n",
    "    \n",
    "    return {\n",
    "        'notebook_data_file_name': notebook_data_file_name,\n",
    "        'solution_id': solution_id,\n",
    "        'res_text': res_text,\n",
    "        'res_point': res_point,\n",
    "    }\n",
    "\n",
    "pprint(get_solution_data('00_586343437_finished.ipynb', POINT_WEIGHTS))"
   ]
  },
  {
   "cell_type": "code",
   "execution_count": 8,
   "id": "careful-allergy",
   "metadata": {},
   "outputs": [
    {
     "data": {
      "text/plain": [
       "['00_586343437_finished.ipynb',\n",
       " '01_586876873_finished.ipynb',\n",
       " '02_586920715_finished.ipynb',\n",
       " '03_587095471_finished.ipynb',\n",
       " '04_587227521_finished.ipynb',\n",
       " '05_587380598_finished.ipynb',\n",
       " '06_587615204_finished.ipynb',\n",
       " '07_587621439_finished.ipynb',\n",
       " '08_587769804_finished.ipynb',\n",
       " '09_588033727_finished.ipynb']"
      ]
     },
     "execution_count": 8,
     "metadata": {},
     "output_type": "execute_result"
    }
   ],
   "source": [
    "current_dir_file_names = !ls\n",
    "solution_file_names = [\n",
    "        file_name\n",
    "        for file_name in current_dir_file_names\n",
    "        if '_finished' in file_name\n",
    "]\n",
    "\n",
    "solution_file_names[:10]"
   ]
  },
  {
   "cell_type": "code",
   "execution_count": 9,
   "id": "provincial-reverse",
   "metadata": {
    "scrolled": true
   },
   "outputs": [
    {
     "data": {
      "text/html": [
       "<div>\n",
       "<style scoped>\n",
       "    .dataframe tbody tr th:only-of-type {\n",
       "        vertical-align: middle;\n",
       "    }\n",
       "\n",
       "    .dataframe tbody tr th {\n",
       "        vertical-align: top;\n",
       "    }\n",
       "\n",
       "    .dataframe thead th {\n",
       "        text-align: right;\n",
       "    }\n",
       "</style>\n",
       "<table border=\"1\" class=\"dataframe\">\n",
       "  <thead>\n",
       "    <tr style=\"text-align: right;\">\n",
       "      <th></th>\n",
       "      <th>notebook_data_file_name</th>\n",
       "      <th>solution_id</th>\n",
       "      <th>res_text</th>\n",
       "      <th>res_point</th>\n",
       "    </tr>\n",
       "  </thead>\n",
       "  <tbody>\n",
       "    <tr>\n",
       "      <th>0</th>\n",
       "      <td>00_586343437_finished.ipynb</td>\n",
       "      <td>586343437</td>\n",
       "      <td>Веса:\\n- Задание - 2  \\n- Вопросы - 7  \\n- Огр...</td>\n",
       "      <td>5</td>\n",
       "    </tr>\n",
       "    <tr>\n",
       "      <th>1</th>\n",
       "      <td>01_586876873_finished.ipynb</td>\n",
       "      <td>586876873</td>\n",
       "      <td>Веса:\\n- Задание - 2  \\n- Вопросы - 7  \\n- Огр...</td>\n",
       "      <td>10</td>\n",
       "    </tr>\n",
       "    <tr>\n",
       "      <th>2</th>\n",
       "      <td>02_586920715_finished.ipynb</td>\n",
       "      <td>586920715</td>\n",
       "      <td>Веса:\\n- Задание - 2  \\n- Вопросы - 7  \\n- Огр...</td>\n",
       "      <td>9</td>\n",
       "    </tr>\n",
       "    <tr>\n",
       "      <th>3</th>\n",
       "      <td>03_587095471_finished.ipynb</td>\n",
       "      <td>587095471</td>\n",
       "      <td>Веса:\\n- Задание - 2  \\n- Вопросы - 7  \\n- Огр...</td>\n",
       "      <td>9</td>\n",
       "    </tr>\n",
       "    <tr>\n",
       "      <th>4</th>\n",
       "      <td>04_587227521_finished.ipynb</td>\n",
       "      <td>587227521</td>\n",
       "      <td>Веса:\\n- Задание - 2  \\n- Вопросы - 7  \\n- Огр...</td>\n",
       "      <td>10</td>\n",
       "    </tr>\n",
       "  </tbody>\n",
       "</table>\n",
       "</div>"
      ],
      "text/plain": [
       "       notebook_data_file_name solution_id  \\\n",
       "0  00_586343437_finished.ipynb   586343437   \n",
       "1  01_586876873_finished.ipynb   586876873   \n",
       "2  02_586920715_finished.ipynb   586920715   \n",
       "3  03_587095471_finished.ipynb   587095471   \n",
       "4  04_587227521_finished.ipynb   587227521   \n",
       "\n",
       "                                            res_text  res_point  \n",
       "0  Веса:\\n- Задание - 2  \\n- Вопросы - 7  \\n- Огр...          5  \n",
       "1  Веса:\\n- Задание - 2  \\n- Вопросы - 7  \\n- Огр...         10  \n",
       "2  Веса:\\n- Задание - 2  \\n- Вопросы - 7  \\n- Огр...          9  \n",
       "3  Веса:\\n- Задание - 2  \\n- Вопросы - 7  \\n- Огр...          9  \n",
       "4  Веса:\\n- Задание - 2  \\n- Вопросы - 7  \\n- Огр...         10  "
      ]
     },
     "execution_count": 9,
     "metadata": {},
     "output_type": "execute_result"
    }
   ],
   "source": [
    "solutions = pd.DataFrame(\n",
    "    [\n",
    "        get_solution_data(file_name, POINT_WEIGHTS)\n",
    "        for file_name in current_dir_file_names\n",
    "        if '_finished' in file_name\n",
    "    ]\n",
    ")\n",
    "\n",
    "solutions.head(5)"
   ]
  },
  {
   "cell_type": "markdown",
   "id": "peripheral-gibraltar",
   "metadata": {},
   "source": [
    "### Распределение оценок"
   ]
  },
  {
   "cell_type": "code",
   "execution_count": 10,
   "id": "greek-romantic",
   "metadata": {},
   "outputs": [
    {
     "data": {
      "text/plain": [
       "<AxesSubplot:>"
      ]
     },
     "execution_count": 10,
     "metadata": {},
     "output_type": "execute_result"
    },
    {
     "data": {
      "image/png": "[encoded data removed]",
      "text/plain": [
       "<Figure size 432x288 with 1 Axes>"
      ]
     },
     "metadata": {
      "needs_background": "light"
     },
     "output_type": "display_data"
    }
   ],
   "source": [
    "solutions['res_point'].hist()"
   ]
  },
  {
   "cell_type": "markdown",
   "id": "infinite-highway",
   "metadata": {},
   "source": [
    "В процессе я поигрался с весами.   \n",
    "С текущими распределение удовлетворительно"
   ]
  },
  {
   "cell_type": "markdown",
   "id": "ranking-literacy",
   "metadata": {},
   "source": [
    "### Добавим оценки в ноутбуки"
   ]
  },
  {
   "cell_type": "code",
   "execution_count": 11,
   "id": "numerical-mirror",
   "metadata": {},
   "outputs": [],
   "source": [
    "def add_newline_text_to_first_cell(notebook_file_name: str, text: str) -> None:\n",
    "    with open(notebook_file_name, 'r') as f:\n",
    "        json_ = json.load(f)\n",
    "        \n",
    "    if not text in json_['cells'][0]['source']:\n",
    "        json_['cells'][0]['source'] += f'\\n{text}'\n",
    "        \n",
    "    with open(notebook_file_name, 'w') as f:\n",
    "        json.dump(json_, f)\n",
    "    "
   ]
  },
  {
   "cell_type": "code",
   "execution_count": 12,
   "id": "numerous-probability",
   "metadata": {
    "scrolled": true
   },
   "outputs": [],
   "source": [
    "for file_name in solution_file_names:\n",
    "    res_text = get_solution_data(file_name, POINT_WEIGHTS)['res_text']\n",
    "    add_newline_text_to_first_cell(file_name, res_text)"
   ]
  },
  {
   "cell_type": "markdown",
   "id": "driven-matrix",
   "metadata": {},
   "source": [
    "### Сгенерируем комментарии в степик"
   ]
  },
  {
   "cell_type": "code",
   "execution_count": 13,
   "id": "naughty-dollar",
   "metadata": {},
   "outputs": [],
   "source": [
    "def get_review_comment_text(solutions: pd.DataFrame, solution_id: int):\n",
    "    file_name = solutions.loc[\n",
    "        solutions['solution_id'] == '586343437', 'notebook_data_file_name'\n",
    "    ].item()\n",
    "    review_url = f'https://github.com/dvvolynkin/PandasWorkshopHWReview/blob/master/{file_name}'\n",
    "    return f'Ссылка на ревью: {review_url}'"
   ]
  },
  {
   "cell_type": "code",
   "execution_count": 14,
   "id": "floral-unemployment",
   "metadata": {
    "scrolled": true
   },
   "outputs": [
    {
     "name": "stdout",
     "output_type": "stream",
     "text": [
      "Ссылка на ревью: https://github.com/dvvolynkin/PandasWorkshopHWReview/blob/master/00_586343437_finished.ipynb\n"
     ]
    }
   ],
   "source": [
    "print(get_review_comment_text(solutions, '586343437'))"
   ]
  },
  {
   "cell_type": "code",
   "execution_count": null,
   "id": "lonely-economy",
   "metadata": {},
   "outputs": [],
   "source": []
  }
 ],
 "metadata": {
  "kernelspec": {
   "display_name": "Python 3",
   "language": "python",
   "name": "python3"
  },
  "language_info": {
   "codemirror_mode": {
    "name": "ipython",
    "version": 3
   },
   "file_extension": ".py",
   "mimetype": "text/x-python",
   "name": "python",
   "nbconvert_exporter": "python",
   "pygments_lexer": "ipython3",
   "version": "3.9.6"
  }
 },
 "nbformat": 4,
 "nbformat_minor": 5
}
