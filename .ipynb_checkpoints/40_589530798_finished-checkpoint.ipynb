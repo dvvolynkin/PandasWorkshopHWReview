{
 "cells": [
  {
   "cell_type": "markdown",
   "metadata": {},
   "source": [
    "#### Задание (2/2)\n",
    "- [x] Найти в открытых источниках или составить самостоятельно таблицу среднего дохода (PPP) в зависимости от страны\n",
    "- [x] Построить график корреляции между средним доходом (PPP) и ценой подписки \n",
    "\n",
    "#### Вопросы (6/7)\n",
    "- [x] Какая средняя цена подписки, (базовой, стандартной, премиум) в зависимости от валюты страны.\n",
    "- [x] Какая средняя цена подписки, (базовой, стандартной, премиум) в зависимости от континента\n",
    "- [x] Сколько стоит подписка относительно среднего дохода (базовая, стандартная, премиум) в Чехии?\n",
    "- [ ] Какие топ-5 стран имеют самую большую доступную коллекцию сериалов?\n",
    "- [x] Какой процент среднего дохода россиянина будет составлять подписка Netflix?\n",
    "- [x] На каком месте будет Россия, если отсортировать страны по эффективности подписки (Cost Per Title)\n",
    "- [x] В какой стране лучше всего брать VPN для того, чтобы платить за Netflix меньше всего?\n",
    "\n",
    "#### Ограничения (4/5)\n",
    "- [ ] Данные, используемые в ноутбуке с решением, должны подтягиваться через url c удаленного источника (википедии, google sheets, etc)\n",
    "- [x] Нельзя использовать циклы for, while для работы с данными. Используйте инструменты Pandas\n",
    "- [x] Должны присутствовать методы df.apply, pd.merge, pd.concat\n",
    "- [x] В приведенной статье есть готовые выводы, их нельзя использовать.\n",
    "- [x] Решение оформить в виде репозитория на github.com\n",
    "\n"
   ]
  },
  {
   "cell_type": "code",
   "execution_count": 1,
   "metadata": {},
   "outputs": [],
   "source": [
    "import pandas as pd"
   ]
  },
  {
   "cell_type": "markdown",
   "metadata": {},
   "source": [
    "### Импорт данных\n",
    "Использую pd.read_clipboard(), а не pd.read_csv, чтобы не удалять лишние данные (столбцы с % Difference to Average и строки с базовыми статистиками)"
   ]
  },
  {
   "cell_type": "markdown",
   "metadata": {},
   "source": [
    "<h2 style=\"color:red\">\n",
    "   read_clipboard использовать было нельзя. Он невоспроизводим.\n",
    "    \n",
    "   Столбцы можно было удалить столбцы после вычитки?\n",
    "</h2>"
   ]
  },
  {
   "cell_type": "code",
   "execution_count": null,
   "metadata": {},
   "outputs": [],
   "source": [
    "# https://docs.google.com/spreadsheets/d/1Tc_aiVXrCrMNQFFDMiJGQ3Gm35szGLps_FIsonCe38Q/edit#gid=0\n",
    "basic = pd.read_clipboard()\n",
    "basic.drop('Unnamed: 3', axis=1, inplace=True)"
   ]
  },
  {
   "cell_type": "code",
   "execution_count": 13,
   "metadata": {},
   "outputs": [],
   "source": [
    "# https://docs.google.com/spreadsheets/d/1Tc_aiVXrCrMNQFFDMiJGQ3Gm35szGLps_FIsonCe38Q/edit#gid=720312140\n",
    "standart = pd.read_clipboard()\n",
    "standart.drop('Unnamed: 3', axis=1, inplace=True)"
   ]
  },
  {
   "cell_type": "code",
   "execution_count": 45,
   "metadata": {},
   "outputs": [],
   "source": [
    "# https://docs.google.com/spreadsheets/d/1Tc_aiVXrCrMNQFFDMiJGQ3Gm35szGLps_FIsonCe38Q/edit#gid=41907226\n",
    "premium = pd.read_clipboard()\n",
    "premium.drop('Unnamed: 3', axis=1, inplace=True)"
   ]
  },
  {
   "cell_type": "code",
   "execution_count": 53,
   "metadata": {},
   "outputs": [],
   "source": [
    "# https://data.worldbank.org/indicator/NY.GDP.PCAP.CD\n",
    "ppp = pd.read_clipboard()\n",
    "ppp.drop(['Unnamed: 3', 'Most Recent Year'], axis=1, inplace=True)\n",
    "ppp = ppp.rename(index=str, columns={'Most Recent Value': 'GDP per capita'})"
   ]
  },
  {
   "cell_type": "code",
   "execution_count": 214,
   "metadata": {},
   "outputs": [],
   "source": [
    "# https://statisticstimes.com/geography/countries-by-continents.php\n",
    "regions = pd.read_clipboard()\n",
    "regions.drop(['No','ISO-alpha3 Code', 'M49 Code', 'Region 1', 'Region 2'], axis=1, inplace=True)\n",
    "regions = regions.rename(index=str, columns={'Country or Area': 'Country'})"
   ]
  },
  {
   "cell_type": "code",
   "execution_count": 47,
   "metadata": {},
   "outputs": [],
   "source": [
    "data = pd.merge(basic, standart, on=['Country', 'Currency'], suffixes=('_basic', '_standart'))\n",
    "\n",
    "premium = premium.add_suffix('_premium')\n",
    "premium = premium.rename(index=str, columns={'Country_premium':'Country', 'Currency_premium':'Currency', 'Premium_premium':'Premium'})\n",
    "data = pd.merge(data, premium, on=['Country', 'Currency'])"
   ]
  },
  {
   "cell_type": "code",
   "execution_count": 63,
   "metadata": {},
   "outputs": [],
   "source": [
    "data = pd.merge(data, ppp, how='left', on='Country')"
   ]
  },
  {
   "cell_type": "code",
   "execution_count": 100,
   "metadata": {},
   "outputs": [
    {
     "data": {
      "text/html": [
       "<div>\n",
       "<style scoped>\n",
       "    .dataframe tbody tr th:only-of-type {\n",
       "        vertical-align: middle;\n",
       "    }\n",
       "\n",
       "    .dataframe tbody tr th {\n",
       "        vertical-align: top;\n",
       "    }\n",
       "\n",
       "    .dataframe thead th {\n",
       "        text-align: right;\n",
       "    }\n",
       "</style>\n",
       "<table border=\"1\" class=\"dataframe\">\n",
       "  <thead>\n",
       "    <tr style=\"text-align: right;\">\n",
       "      <th></th>\n",
       "      <th>Country</th>\n",
       "      <th>Basic</th>\n",
       "      <th>Currency</th>\n",
       "      <th>Price USD_basic</th>\n",
       "      <th># of TV Shows_basic</th>\n",
       "      <th># of Movies_basic</th>\n",
       "      <th>Total Library Size_basic</th>\n",
       "      <th>Price per Title_basic</th>\n",
       "      <th>Standard</th>\n",
       "      <th>Price USD_standart</th>\n",
       "      <th>...</th>\n",
       "      <th>Total Library Size_standart</th>\n",
       "      <th>Price per Title_standart</th>\n",
       "      <th>Premium</th>\n",
       "      <th>Price USD_premium</th>\n",
       "      <th># of TV Shows_premium</th>\n",
       "      <th># of Movies_premium</th>\n",
       "      <th>Average Total Library Size_premium</th>\n",
       "      <th>Price per Title_premium</th>\n",
       "      <th>GDP per capita</th>\n",
       "      <th>Region</th>\n",
       "    </tr>\n",
       "  </thead>\n",
       "  <tbody>\n",
       "    <tr>\n",
       "      <th>27</th>\n",
       "      <td>Gibraltar</td>\n",
       "      <td>7.99</td>\n",
       "      <td>EUR</td>\n",
       "      <td>9.03</td>\n",
       "      <td>4079</td>\n",
       "      <td>2088</td>\n",
       "      <td>6167</td>\n",
       "      <td>0.00146</td>\n",
       "      <td>12.99</td>\n",
       "      <td>14.67</td>\n",
       "      <td>...</td>\n",
       "      <td>6167</td>\n",
       "      <td>0.00119</td>\n",
       "      <td>17.99</td>\n",
       "      <td>20.32</td>\n",
       "      <td>4079</td>\n",
       "      <td>2088</td>\n",
       "      <td>6167</td>\n",
       "      <td>0.00082</td>\n",
       "      <td>NaN</td>\n",
       "      <td>NaN</td>\n",
       "    </tr>\n",
       "  </tbody>\n",
       "</table>\n",
       "<p>1 rows × 22 columns</p>\n",
       "</div>"
      ],
      "text/plain": [
       "      Country  Basic Currency  Price USD_basic  # of TV Shows_basic  \\\n",
       "27  Gibraltar   7.99      EUR             9.03                 4079   \n",
       "\n",
       "    # of Movies_basic  Total Library Size_basic  Price per Title_basic  \\\n",
       "27               2088                      6167                0.00146   \n",
       "\n",
       "    Standard  Price USD_standart  ...  Total Library Size_standart  \\\n",
       "27     12.99               14.67  ...                         6167   \n",
       "\n",
       "    Price per Title_standart  Premium  Price USD_premium  \\\n",
       "27                   0.00119    17.99              20.32   \n",
       "\n",
       "    # of TV Shows_premium  # of Movies_premium  \\\n",
       "27                   4079                 2088   \n",
       "\n",
       "    Average Total Library Size_premium  Price per Title_premium  \\\n",
       "27                                6167                  0.00082   \n",
       "\n",
       "    GDP per capita  Region  \n",
       "27             NaN     NaN  \n",
       "\n",
       "[1 rows x 22 columns]"
      ]
     },
     "execution_count": 100,
     "metadata": {},
     "output_type": "execute_result"
    }
   ],
   "source": [
    "data[data['GDP per capita'].isnull()]"
   ]
  },
  {
   "cell_type": "code",
   "execution_count": 85,
   "metadata": {},
   "outputs": [],
   "source": [
    "data.loc[data.Country == 'South Korea', 'GDP per capita'] = ppp.loc[ppp.Country == 'Korea, Rep.', 'GDP per capita'][0]\n",
    "data.loc[data.Country == 'Venezuela', 'GDP per capita'] = ppp.loc[ppp.Country == 'Venezuela, RB', 'GDP per capita'][0]\n",
    "data.loc[data.Country == 'Slovakia', 'GDP per capita'] = ppp.loc[ppp.Country == 'Slovak Republic', 'GDP per capita'][0]\n",
    "data.loc[data.Country == 'Hong Kong', 'GDP per capita'] = ppp.loc[ppp.Country == 'Hong Kong SAR, China', 'GDP per capita'][0]\n",
    "data.loc[data.Country == 'Russia', 'GDP per capita'] = ppp.loc[ppp.Country == 'Russian Federation', 'GDP per capita'][0]\n",
    "data.loc[data.Country == 'Taiwan', 'GDP per capita'] = 28.306"
   ]
  },
  {
   "cell_type": "code",
   "execution_count": 222,
   "metadata": {},
   "outputs": [],
   "source": [
    "data = pd.merge(data, regions, how='left', on='Country')"
   ]
  },
  {
   "cell_type": "code",
   "execution_count": 231,
   "metadata": {},
   "outputs": [
    {
     "data": {
      "text/html": [
       "<div>\n",
       "<style scoped>\n",
       "    .dataframe tbody tr th:only-of-type {\n",
       "        vertical-align: middle;\n",
       "    }\n",
       "\n",
       "    .dataframe tbody tr th {\n",
       "        vertical-align: top;\n",
       "    }\n",
       "\n",
       "    .dataframe thead th {\n",
       "        text-align: right;\n",
       "    }\n",
       "</style>\n",
       "<table border=\"1\" class=\"dataframe\">\n",
       "  <thead>\n",
       "    <tr style=\"text-align: right;\">\n",
       "      <th></th>\n",
       "      <th>Country</th>\n",
       "      <th>Basic</th>\n",
       "      <th>Currency</th>\n",
       "      <th>Price USD_basic</th>\n",
       "      <th># of TV Shows_basic</th>\n",
       "      <th># of Movies_basic</th>\n",
       "      <th>Total Library Size_basic</th>\n",
       "      <th>Price per Title_basic</th>\n",
       "      <th>Standard</th>\n",
       "      <th>Price USD_standart</th>\n",
       "      <th>...</th>\n",
       "      <th>Premium</th>\n",
       "      <th>Price USD_premium</th>\n",
       "      <th># of TV Shows_premium</th>\n",
       "      <th># of Movies_premium</th>\n",
       "      <th>Average Total Library Size_premium</th>\n",
       "      <th>Price per Title_premium</th>\n",
       "      <th>GDP per capita</th>\n",
       "      <th>Region</th>\n",
       "      <th>Continent</th>\n",
       "      <th>Continent_y</th>\n",
       "    </tr>\n",
       "  </thead>\n",
       "  <tbody>\n",
       "  </tbody>\n",
       "</table>\n",
       "<p>0 rows × 24 columns</p>\n",
       "</div>"
      ],
      "text/plain": [
       "Empty DataFrame\n",
       "Columns: [Country, Basic, Currency, Price USD_basic, # of TV Shows_basic, # of Movies_basic, Total Library Size_basic, Price per Title_basic, Standard, Price USD_standart, # of TV Shows_standart, # of Movies_standart, Total Library Size_standart, Price per Title_standart, Premium, Price USD_premium, # of TV Shows_premium, # of Movies_premium, Average Total Library Size_premium, Price per Title_premium, GDP per capita, Region, Continent, Continent_y]\n",
       "Index: []\n",
       "\n",
       "[0 rows x 24 columns]"
      ]
     },
     "execution_count": 231,
     "metadata": {},
     "output_type": "execute_result"
    }
   ],
   "source": [
    "data[data['Continent'].isnull()]"
   ]
  },
  {
   "cell_type": "code",
   "execution_count": 230,
   "metadata": {},
   "outputs": [],
   "source": [
    "data.loc[data.Country == 'South Korea', 'Continent'] = regions.loc[regions.Country == 'Republic of Korea', 'Continent'][0]\n",
    "data.loc[data.Country == 'United Kingdom', 'Continent'] = regions.loc[regions.Country == 'United Kingdom of Great Britain and Northern Ireland', 'Continent'][0]\n",
    "data.loc[data.Country == 'Russia', 'Continent'] = regions.loc[regions.Country == 'Russian Federation', 'Continent'][0]\n",
    "data.loc[data.Country == 'Czech Republic', 'Continent'] = regions.loc[regions.Country == 'Czechia', 'Continent'][0]\n",
    "data.loc[data.Country == 'Bolivia', 'Continent'] = regions.loc[regions.Country == 'Bolivia (Plurinational State of)', 'Continent'][0]\n",
    "data.loc[data.Country == 'Venezuela', 'Continent'] = regions.loc[regions.Country == 'Venezuela (Bolivarian Republic of)', 'Continent'][0]\n",
    "data.loc[data.Country == 'Hong Kong', 'Continent'] = regions.loc[regions.Country == 'China, Hong Kong Special Administrative Region', 'Continent'][0]\n",
    "data.loc[data.Country == 'United States', 'Continent'] = regions.loc[regions.Country == 'United States of America', 'Continent'][0]\n",
    "data.loc[data.Country == 'Taiwan', 'Continent'] = regions.loc[regions.Country == 'China', 'Continent'][0]\n",
    "data.loc[data.Country == 'Moldova', 'Continent'] = regions.loc[regions.Country == 'Republic of Moldova', 'Continent'][0]"
   ]
  },
  {
   "cell_type": "code",
   "execution_count": 136,
   "metadata": {},
   "outputs": [],
   "source": [
    "data['GDP per capita'] = data['GDP per capita'].str.replace(',','')\n",
    "data['GDP per capita'] = pd.to_numeric(data['GDP per capita'])"
   ]
  },
  {
   "cell_type": "markdown",
   "metadata": {},
   "source": [
    "### График корреляции между средним доходом и ценой подписки"
   ]
  },
  {
   "cell_type": "code",
   "execution_count": 141,
   "metadata": {},
   "outputs": [
    {
     "data": {
      "text/plain": [
       "<AxesSubplot:title={'center':'for basic plan'}, xlabel='Price USD_basic', ylabel='GDP per capita'>"
      ]
     },
     "execution_count": 141,
     "metadata": {},
     "output_type": "execute_result"
    },
    {
     "data": {
      "image/png": "[encoded data removed]",
      "text/plain": [
       "<Figure size 432x288 with 1 Axes>"
      ]
     },
     "metadata": {
      "needs_background": "light"
     },
     "output_type": "display_data"
    }
   ],
   "source": [
    "data[data['GDP per capita'].notnull()].plot.scatter(x = 'Price USD_basic', y = 'GDP per capita', \n",
    "                                                    title = 'for basic plan',\n",
    "                                                    yticks=tuple(range(1000, 200000, 30000)))"
   ]
  },
  {
   "cell_type": "code",
   "execution_count": 142,
   "metadata": {},
   "outputs": [
    {
     "data": {
      "text/plain": [
       "<AxesSubplot:title={'center':'for standart plan'}, xlabel='Price USD_standart', ylabel='GDP per capita'>"
      ]
     },
     "execution_count": 142,
     "metadata": {},
     "output_type": "execute_result"
    },
    {
     "data": {
      "image/png": "[encoded data removed]",
      "text/plain": [
       "<Figure size 432x288 with 1 Axes>"
      ]
     },
     "metadata": {
      "needs_background": "light"
     },
     "output_type": "display_data"
    }
   ],
   "source": [
    "data[data['GDP per capita'].notnull()].plot.scatter(x = 'Price USD_standart', y = 'GDP per capita', \n",
    "                                                    title = 'for standart plan',\n",
    "                                                    yticks=tuple(range(1000, 200000, 30000)))"
   ]
  },
  {
   "cell_type": "code",
   "execution_count": 144,
   "metadata": {},
   "outputs": [
    {
     "data": {
      "text/plain": [
       "<AxesSubplot:title={'center':'for premium plan'}, xlabel='Price USD_premium', ylabel='GDP per capita'>"
      ]
     },
     "execution_count": 144,
     "metadata": {},
     "output_type": "execute_result"
    },
    {
     "data": {
      "image/png": "[encoded data removed]",
      "text/plain": [
       "<Figure size 432x288 with 1 Axes>"
      ]
     },
     "metadata": {
      "needs_background": "light"
     },
     "output_type": "display_data"
    }
   ],
   "source": [
    "data[data['GDP per capita'].notnull()].plot.scatter(x = 'Price USD_premium', y = 'GDP per capita', \n",
    "                                                    title = 'for premium plan',\n",
    "                                                    yticks=tuple(range(1000, 200000, 30000)))"
   ]
  },
  {
   "cell_type": "markdown",
   "metadata": {},
   "source": [
    "Наблюдается положительная зависимость между уровень дохода на душу населения в стране и стоимостью всех планов подписки"
   ]
  },
  {
   "cell_type": "markdown",
   "metadata": {},
   "source": [
    "### Какая средняя цена подписки, (базовой, стандартной, премиум) в зависимости от валюты страны."
   ]
  },
  {
   "cell_type": "code",
   "execution_count": 180,
   "metadata": {},
   "outputs": [],
   "source": [
    "means_by_currency = data.groupby('Currency').mean()[['Price USD_basic', 'Price USD_standart', 'Price USD_premium']].reset_index()"
   ]
  },
  {
   "cell_type": "code",
   "execution_count": 188,
   "metadata": {},
   "outputs": [
    {
     "data": {
      "image/png": "[encoded data removed]",
      "text/plain": [
       "<Figure size 1080x360 with 1 Axes>"
      ]
     },
     "metadata": {
      "needs_background": "light"
     },
     "output_type": "display_data"
    }
   ],
   "source": [
    "means_by_currency.index = means_by_currency['Currency']\n",
    "ax = means_by_currency.plot.bar(rot=0, figsize=(15,5), ylabel='USD')"
   ]
  },
  {
   "cell_type": "markdown",
   "metadata": {},
   "source": [
    "### Какая средняя цена подписки, (базовой, стандартной, премиум) в зависимости от континента"
   ]
  },
  {
   "cell_type": "code",
   "execution_count": 232,
   "metadata": {},
   "outputs": [],
   "source": [
    "means_by_continent = data.groupby('Continent').mean()[['Price USD_basic', 'Price USD_standart', 'Price USD_premium']].reset_index()"
   ]
  },
  {
   "cell_type": "code",
   "execution_count": 233,
   "metadata": {},
   "outputs": [
    {
     "data": {
      "image/png": "[encoded data removed]",
      "text/plain": [
       "<Figure size 1080x360 with 1 Axes>"
      ]
     },
     "metadata": {
      "needs_background": "light"
     },
     "output_type": "display_data"
    }
   ],
   "source": [
    "means_by_continent.index = means_by_continent['Continent']\n",
    "ax = means_by_continent.plot.bar(rot=0, figsize=(15,5), ylabel='USD')"
   ]
  },
  {
   "cell_type": "markdown",
   "metadata": {},
   "source": [
    "Самая высокая средняя стоимость подписки наблюдается в Европе, самая низкая - в Африке и Южной Америке"
   ]
  },
  {
   "cell_type": "markdown",
   "metadata": {},
   "source": [
    "### Сколько стоит подписка относительно среднего дохода (базовая, стандартная, премиум) в Чехии?"
   ]
  },
  {
   "cell_type": "code",
   "execution_count": 163,
   "metadata": {},
   "outputs": [
    {
     "data": {
      "text/plain": [
       "10    0.038505\n",
       "dtype: float64"
      ]
     },
     "execution_count": 163,
     "metadata": {},
     "output_type": "execute_result"
    }
   ],
   "source": [
    "data[data['Country'].apply(lambda x: bool('Czech' in x))]['Price USD_basic'] / data[data['Country'].apply(\n",
    "    lambda x: bool('Czech' in x)\n",
    ")]['GDP per capita'] * 100"
   ]
  },
  {
   "cell_type": "markdown",
   "metadata": {},
   "source": [
    "Базовая подписка составляет 0.04% от среднего дохода в Чехии"
   ]
  },
  {
   "cell_type": "code",
   "execution_count": 164,
   "metadata": {},
   "outputs": [
    {
     "data": {
      "text/plain": [
       "10    0.050104\n",
       "dtype: float64"
      ]
     },
     "execution_count": 164,
     "metadata": {},
     "output_type": "execute_result"
    }
   ],
   "source": [
    "data[data['Country'].apply(lambda x: bool('Czech' in x))]['Price USD_standart'] / data[data['Country'].apply(\n",
    "    lambda x: bool('Czech' in x)\n",
    ")]['GDP per capita'] * 100"
   ]
  },
  {
   "cell_type": "markdown",
   "metadata": {},
   "source": [
    "Стандартная подписка составляет 0.05% от среднего дохода в Чехии"
   ]
  },
  {
   "cell_type": "code",
   "execution_count": 165,
   "metadata": {},
   "outputs": [
    {
     "data": {
      "text/plain": [
       "10    0.061704\n",
       "dtype: float64"
      ]
     },
     "execution_count": 165,
     "metadata": {},
     "output_type": "execute_result"
    }
   ],
   "source": [
    "data[data['Country'].apply(lambda x: bool('Czech' in x))]['Price USD_premium'] / data[data['Country'].apply(\n",
    "    lambda x: bool('Czech' in x)\n",
    ")]['GDP per capita'] * 100"
   ]
  },
  {
   "cell_type": "markdown",
   "metadata": {},
   "source": [
    "Премиальная подписка составляет 0.06% от среднего дохода в Чехии"
   ]
  },
  {
   "cell_type": "markdown",
   "metadata": {},
   "source": [
    "### Какие топ-5 стран имеют самую большую доступную коллекцию сериалов?"
   ]
  },
  {
   "cell_type": "markdown",
   "metadata": {},
   "source": [
    "<h2 style=\"color:red\">\n",
    "   Сериалы — это TV Shows. Total Library Size — это Сериалы + Фильмы\n",
    "</h2>"
   ]
  },
  {
   "cell_type": "code",
   "execution_count": 190,
   "metadata": {},
   "outputs": [
    {
     "data": {
      "text/html": [
       "<div>\n",
       "<style scoped>\n",
       "    .dataframe tbody tr th:only-of-type {\n",
       "        vertical-align: middle;\n",
       "    }\n",
       "\n",
       "    .dataframe tbody tr th {\n",
       "        vertical-align: top;\n",
       "    }\n",
       "\n",
       "    .dataframe thead th {\n",
       "        text-align: right;\n",
       "    }\n",
       "</style>\n",
       "<table border=\"1\" class=\"dataframe\">\n",
       "  <thead>\n",
       "    <tr style=\"text-align: right;\">\n",
       "      <th></th>\n",
       "      <th>Country</th>\n",
       "    </tr>\n",
       "  </thead>\n",
       "  <tbody>\n",
       "    <tr>\n",
       "      <th>0</th>\n",
       "      <td>Czech Republic</td>\n",
       "    </tr>\n",
       "    <tr>\n",
       "      <th>1</th>\n",
       "      <td>Slovakia</td>\n",
       "    </tr>\n",
       "    <tr>\n",
       "      <th>2</th>\n",
       "      <td>Hungary</td>\n",
       "    </tr>\n",
       "    <tr>\n",
       "      <th>3</th>\n",
       "      <td>Bulgaria</td>\n",
       "    </tr>\n",
       "    <tr>\n",
       "      <th>4</th>\n",
       "      <td>United Kingdom</td>\n",
       "    </tr>\n",
       "  </tbody>\n",
       "</table>\n",
       "</div>"
      ],
      "text/plain": [
       "          Country\n",
       "0  Czech Republic\n",
       "1        Slovakia\n",
       "2         Hungary\n",
       "3        Bulgaria\n",
       "4  United Kingdom"
      ]
     },
     "execution_count": 190,
     "metadata": {},
     "output_type": "execute_result"
    }
   ],
   "source": [
    "data.sort_values(by='Total Library Size_basic', axis=0, ascending=False)['Country'][:5].reset_index().drop('index', axis=1)"
   ]
  },
  {
   "cell_type": "markdown",
   "metadata": {},
   "source": [
    "### Какой процент среднего дохода россиянина будет составлять подписка Netflix?"
   ]
  },
  {
   "cell_type": "code",
   "execution_count": 194,
   "metadata": {},
   "outputs": [
    {
     "data": {
      "text/plain": [
       "25    0.080283\n",
       "dtype: float64"
      ]
     },
     "execution_count": 194,
     "metadata": {},
     "output_type": "execute_result"
    }
   ],
   "source": [
    "data[data['Country'].apply(lambda x: bool('Russia' in x))]['Price USD_basic'] / data[data['Country'].apply(\n",
    "    lambda x: bool('Russia' in x)\n",
    ")]['GDP per capita'] * 100"
   ]
  },
  {
   "cell_type": "code",
   "execution_count": 195,
   "metadata": {},
   "outputs": [
    {
     "data": {
      "text/plain": [
       "25    0.107044\n",
       "dtype: float64"
      ]
     },
     "execution_count": 195,
     "metadata": {},
     "output_type": "execute_result"
    }
   ],
   "source": [
    "data[data['Country'].apply(lambda x: bool('Russia' in x))]['Price USD_standart'] / data[data['Country'].apply(\n",
    "    lambda x: bool('Russia' in x)\n",
    ")]['GDP per capita'] * 100"
   ]
  },
  {
   "cell_type": "code",
   "execution_count": 196,
   "metadata": {},
   "outputs": [
    {
     "data": {
      "text/plain": [
       "25    0.133903\n",
       "dtype: float64"
      ]
     },
     "execution_count": 196,
     "metadata": {},
     "output_type": "execute_result"
    }
   ],
   "source": [
    "data[data['Country'].apply(lambda x: bool('Russia' in x))]['Price USD_premium'] / data[data['Country'].apply(\n",
    "    lambda x: bool('Russia' in x)\n",
    ")]['GDP per capita'] * 100"
   ]
  },
  {
   "cell_type": "markdown",
   "metadata": {},
   "source": [
    "От 0.08% до 0.13% среднего дохода"
   ]
  },
  {
   "cell_type": "markdown",
   "metadata": {},
   "source": [
    "### На каком месте будет Россия, если отсортировать страны по эффективности подписки (Cost Per Title)"
   ]
  },
  {
   "cell_type": "code",
   "execution_count": 203,
   "metadata": {},
   "outputs": [],
   "source": [
    "data = data.sort_values(['Price per Title_basic'], ascending=True).reset_index(drop=True)"
   ]
  },
  {
   "cell_type": "code",
   "execution_count": 204,
   "metadata": {},
   "outputs": [
    {
     "data": {
      "text/html": [
       "<div>\n",
       "<style scoped>\n",
       "    .dataframe tbody tr th:only-of-type {\n",
       "        vertical-align: middle;\n",
       "    }\n",
       "\n",
       "    .dataframe tbody tr th {\n",
       "        vertical-align: top;\n",
       "    }\n",
       "\n",
       "    .dataframe thead th {\n",
       "        text-align: right;\n",
       "    }\n",
       "</style>\n",
       "<table border=\"1\" class=\"dataframe\">\n",
       "  <thead>\n",
       "    <tr style=\"text-align: right;\">\n",
       "      <th></th>\n",
       "      <th>Country</th>\n",
       "      <th>Basic</th>\n",
       "      <th>Currency</th>\n",
       "      <th>Price USD_basic</th>\n",
       "      <th># of TV Shows_basic</th>\n",
       "      <th># of Movies_basic</th>\n",
       "      <th>Total Library Size_basic</th>\n",
       "      <th>Price per Title_basic</th>\n",
       "      <th>Standard</th>\n",
       "      <th>Price USD_standart</th>\n",
       "      <th>...</th>\n",
       "      <th>Total Library Size_standart</th>\n",
       "      <th>Price per Title_standart</th>\n",
       "      <th>Premium</th>\n",
       "      <th>Price USD_premium</th>\n",
       "      <th># of TV Shows_premium</th>\n",
       "      <th># of Movies_premium</th>\n",
       "      <th>Average Total Library Size_premium</th>\n",
       "      <th>Price per Title_premium</th>\n",
       "      <th>GDP per capita</th>\n",
       "      <th>Region</th>\n",
       "    </tr>\n",
       "  </thead>\n",
       "  <tbody>\n",
       "    <tr>\n",
       "      <th>25</th>\n",
       "      <td>Russia</td>\n",
       "      <td>599.0</td>\n",
       "      <td>RUB</td>\n",
       "      <td>8.13</td>\n",
       "      <td>3624</td>\n",
       "      <td>2087</td>\n",
       "      <td>5711</td>\n",
       "      <td>0.00142</td>\n",
       "      <td>799.0</td>\n",
       "      <td>10.84</td>\n",
       "      <td>...</td>\n",
       "      <td>5711</td>\n",
       "      <td>0.00095</td>\n",
       "      <td>999.0</td>\n",
       "      <td>13.56</td>\n",
       "      <td>3624</td>\n",
       "      <td>2087</td>\n",
       "      <td>5711</td>\n",
       "      <td>0.00059</td>\n",
       "      <td>10126.7</td>\n",
       "      <td>NaN</td>\n",
       "    </tr>\n",
       "  </tbody>\n",
       "</table>\n",
       "<p>1 rows × 22 columns</p>\n",
       "</div>"
      ],
      "text/plain": [
       "   Country  Basic Currency  Price USD_basic  # of TV Shows_basic  \\\n",
       "25  Russia  599.0      RUB             8.13                 3624   \n",
       "\n",
       "    # of Movies_basic  Total Library Size_basic  Price per Title_basic  \\\n",
       "25               2087                      5711                0.00142   \n",
       "\n",
       "    Standard  Price USD_standart  ...  Total Library Size_standart  \\\n",
       "25     799.0               10.84  ...                         5711   \n",
       "\n",
       "    Price per Title_standart  Premium  Price USD_premium  \\\n",
       "25                   0.00095    999.0              13.56   \n",
       "\n",
       "    # of TV Shows_premium  # of Movies_premium  \\\n",
       "25                   3624                 2087   \n",
       "\n",
       "    Average Total Library Size_premium  Price per Title_premium  \\\n",
       "25                                5711                  0.00059   \n",
       "\n",
       "    GDP per capita  Region  \n",
       "25         10126.7     NaN  \n",
       "\n",
       "[1 rows x 22 columns]"
      ]
     },
     "execution_count": 204,
     "metadata": {},
     "output_type": "execute_result"
    }
   ],
   "source": [
    "data[data['Country'].apply(\n",
    "    lambda x: bool('Russia' in x)\n",
    ")]"
   ]
  },
  {
   "cell_type": "markdown",
   "metadata": {},
   "source": [
    "По этому показателю Россия на 26 месте из 65"
   ]
  },
  {
   "cell_type": "markdown",
   "metadata": {},
   "source": [
    "### В какой стране лучше всего брать VPN для того, чтобы платить за Netflix меньше всего?"
   ]
  },
  {
   "cell_type": "code",
   "execution_count": 193,
   "metadata": {},
   "outputs": [
    {
     "data": {
      "text/plain": [
       "0    Turkey\n",
       "Name: Country, dtype: object"
      ]
     },
     "execution_count": 193,
     "metadata": {},
     "output_type": "execute_result"
    }
   ],
   "source": [
    "data.sort_values(by='Price USD_basic', axis=0, ascending=True)['Country'][:1]"
   ]
  },
  {
   "cell_type": "code",
   "execution_count": 169,
   "metadata": {},
   "outputs": [
    {
     "data": {
      "text/plain": [
       "0    Turkey\n",
       "Name: Country, dtype: object"
      ]
     },
     "execution_count": 169,
     "metadata": {},
     "output_type": "execute_result"
    }
   ],
   "source": [
    "data.sort_values(by='Price USD_standart', axis=0, ascending=True)['Country'][:1]"
   ]
  },
  {
   "cell_type": "code",
   "execution_count": 171,
   "metadata": {},
   "outputs": [
    {
     "data": {
      "text/plain": [
       "0    Turkey\n",
       "Name: Country, dtype: object"
      ]
     },
     "execution_count": 171,
     "metadata": {},
     "output_type": "execute_result"
    }
   ],
   "source": [
    "data.sort_values(by='Price USD_premium', axis=0, ascending=True)['Country'][:1]"
   ]
  },
  {
   "cell_type": "markdown",
   "metadata": {},
   "source": [
    "Стоит выбрать Турцию  - там платят меньше всего за все виды подписки"
   ]
  },
  {
   "cell_type": "code",
   "execution_count": null,
   "metadata": {},
   "outputs": [],
   "source": []
  }
 ],
 "metadata": {
  "kernelspec": {
   "display_name": "Python 3",
   "language": "python",
   "name": "python3"
  },
  "language_info": {
   "codemirror_mode": {
    "name": "ipython",
    "version": 3
   },
   "file_extension": ".py",
   "mimetype": "text/x-python",
   "name": "python",
   "nbconvert_exporter": "python",
   "pygments_lexer": "ipython3",
   "version": "3.9.6"
  }
 },
 "nbformat": 4,
 "nbformat_minor": 4
}
