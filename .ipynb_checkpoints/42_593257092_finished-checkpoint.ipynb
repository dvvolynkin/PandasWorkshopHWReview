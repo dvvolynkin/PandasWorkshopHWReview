{
 "cells": [
  {
   "cell_type": "markdown",
   "id": "historical-system",
   "metadata": {},
   "source": [
    "#### Задание (0/2)\n",
    "- [ ] Найти в открытых источниках или составить самостоятельно таблицу среднего дохода (PPP) в зависимости от страны\n",
    "- [ ] Построить график корреляции между средним доходом (PPP) и ценой подписки \n",
    "\n",
    "#### Вопросы (5/7)\n",
    "- [x] Какая средняя цена подписки, (базовой, стандартной, премиум) в зависимости от валюты страны.\n",
    "- [x] Какая средняя цена подписки, (базовой, стандартной, премиум) в зависимости от континента\n",
    "- [x] Сколько стоит подписка относительно среднего дохода (базовая, стандартная, премиум) в Чехии?\n",
    "- [x] Какие топ-5 стран имеют самую большую доступную коллекцию сериалов?\n",
    "- [x] Какой процент среднего дохода россиянина будет составлять подписка Netflix?\n",
    "- [ ] На каком месте будет Россия, если отсортировать страны по эффективности подписки (Cost Per Title)\n",
    "- [ ] В какой стране лучше всего брать VPN для того, чтобы платить за Netflix меньше всего?\n",
    "\n",
    "#### Ограничения (5/5)\n",
    "- [x] Данные, используемые в ноутбуке с решением, должны подтягиваться через url c удаленного источника (википедии, google sheets, etc)\n",
    "- [x] Нельзя использовать циклы for, while для работы с данными. Используйте инструменты Pandas\n",
    "- [x] Должны присутствовать методы df.apply, pd.merge, pd.concat\n",
    "- [x] В приведенной статье есть готовые выводы, их нельзя использовать.\n",
    "- [x] Решение оформить в виде репозитория на github.com\n",
    "\n"
   ]
  },
  {
   "cell_type": "code",
   "execution_count": 1,
   "id": "69924e6c",
   "metadata": {},
   "outputs": [],
   "source": [
    "import pandas as pd"
   ]
  },
  {
   "cell_type": "markdown",
   "id": "cardiac-rogers",
   "metadata": {},
   "source": [
    "<h2 style=\"color:red\">\n",
    "    Лучше было использовать ссылки вида \n",
    "</h2>\n",
    "https://raw.githubusercontent.com/{username}/{repo_name}/{file_name}.csv"
   ]
  },
  {
   "cell_type": "code",
   "execution_count": 2,
   "id": "e7d46a2f",
   "metadata": {},
   "outputs": [],
   "source": [
    "df = pd.read_csv('netflix price in different countries.csv')"
   ]
  },
  {
   "cell_type": "markdown",
   "id": "042e277b",
   "metadata": {},
   "source": [
    "Какая средняя цена подписки, (базовой, стандартной, премиум) в зависимости от валюты страны. \n"
   ]
  },
  {
   "cell_type": "code",
   "execution_count": 3,
   "id": "b254f909",
   "metadata": {},
   "outputs": [
    {
     "data": {
      "text/html": [
       "<div>\n",
       "<style scoped>\n",
       "    .dataframe tbody tr th:only-of-type {\n",
       "        vertical-align: middle;\n",
       "    }\n",
       "\n",
       "    .dataframe tbody tr th {\n",
       "        vertical-align: top;\n",
       "    }\n",
       "\n",
       "    .dataframe thead th {\n",
       "        text-align: right;\n",
       "    }\n",
       "</style>\n",
       "<table border=\"1\" class=\"dataframe\">\n",
       "  <thead>\n",
       "    <tr style=\"text-align: right;\">\n",
       "      <th></th>\n",
       "      <th>Cost Per Month - Basic ($)</th>\n",
       "      <th>Cost Per Month - Standard ($)</th>\n",
       "      <th>Cost Per Month - Premium ($)</th>\n",
       "    </tr>\n",
       "    <tr>\n",
       "      <th>Country</th>\n",
       "      <th></th>\n",
       "      <th></th>\n",
       "      <th></th>\n",
       "    </tr>\n",
       "  </thead>\n",
       "  <tbody>\n",
       "    <tr>\n",
       "      <th>Argentina</th>\n",
       "      <td>3.74</td>\n",
       "      <td>6.30</td>\n",
       "      <td>9.26</td>\n",
       "    </tr>\n",
       "    <tr>\n",
       "      <th>Australia</th>\n",
       "      <td>7.84</td>\n",
       "      <td>12.12</td>\n",
       "      <td>16.39</td>\n",
       "    </tr>\n",
       "    <tr>\n",
       "      <th>Austria</th>\n",
       "      <td>9.03</td>\n",
       "      <td>14.67</td>\n",
       "      <td>20.32</td>\n",
       "    </tr>\n",
       "    <tr>\n",
       "      <th>Belgium</th>\n",
       "      <td>10.16</td>\n",
       "      <td>15.24</td>\n",
       "      <td>20.32</td>\n",
       "    </tr>\n",
       "    <tr>\n",
       "      <th>Bolivia</th>\n",
       "      <td>7.99</td>\n",
       "      <td>10.99</td>\n",
       "      <td>13.99</td>\n",
       "    </tr>\n",
       "    <tr>\n",
       "      <th>...</th>\n",
       "      <td>...</td>\n",
       "      <td>...</td>\n",
       "      <td>...</td>\n",
       "    </tr>\n",
       "    <tr>\n",
       "      <th>Ukraine</th>\n",
       "      <td>5.64</td>\n",
       "      <td>8.46</td>\n",
       "      <td>11.29</td>\n",
       "    </tr>\n",
       "    <tr>\n",
       "      <th>United Kingdom</th>\n",
       "      <td>7.91</td>\n",
       "      <td>13.20</td>\n",
       "      <td>18.48</td>\n",
       "    </tr>\n",
       "    <tr>\n",
       "      <th>United States</th>\n",
       "      <td>8.99</td>\n",
       "      <td>13.99</td>\n",
       "      <td>17.99</td>\n",
       "    </tr>\n",
       "    <tr>\n",
       "      <th>Uruguay</th>\n",
       "      <td>8.99</td>\n",
       "      <td>12.99</td>\n",
       "      <td>15.99</td>\n",
       "    </tr>\n",
       "    <tr>\n",
       "      <th>Venezuela</th>\n",
       "      <td>7.99</td>\n",
       "      <td>10.99</td>\n",
       "      <td>13.99</td>\n",
       "    </tr>\n",
       "  </tbody>\n",
       "</table>\n",
       "<p>65 rows × 3 columns</p>\n",
       "</div>"
      ],
      "text/plain": [
       "                Cost Per Month - Basic ($)  Cost Per Month - Standard ($)  \\\n",
       "Country                                                                     \n",
       "Argentina                             3.74                           6.30   \n",
       "Australia                             7.84                          12.12   \n",
       "Austria                               9.03                          14.67   \n",
       "Belgium                              10.16                          15.24   \n",
       "Bolivia                               7.99                          10.99   \n",
       "...                                    ...                            ...   \n",
       "Ukraine                               5.64                           8.46   \n",
       "United Kingdom                        7.91                          13.20   \n",
       "United States                         8.99                          13.99   \n",
       "Uruguay                               8.99                          12.99   \n",
       "Venezuela                             7.99                          10.99   \n",
       "\n",
       "                Cost Per Month - Premium ($)  \n",
       "Country                                       \n",
       "Argentina                               9.26  \n",
       "Australia                              16.39  \n",
       "Austria                                20.32  \n",
       "Belgium                                20.32  \n",
       "Bolivia                                13.99  \n",
       "...                                      ...  \n",
       "Ukraine                                11.29  \n",
       "United Kingdom                         18.48  \n",
       "United States                          17.99  \n",
       "Uruguay                                15.99  \n",
       "Venezuela                              13.99  \n",
       "\n",
       "[65 rows x 3 columns]"
      ]
     },
     "execution_count": 3,
     "metadata": {},
     "output_type": "execute_result"
    }
   ],
   "source": [
    "df.groupby(['Country']).mean()[['Cost Per Month - Basic ($)', 'Cost Per Month - Standard ($)', 'Cost Per Month - Premium ($)']]"
   ]
  },
  {
   "cell_type": "markdown",
   "id": "25c829cf",
   "metadata": {},
   "source": [
    "Какая средняя цена подписки, (базовой, стандартной, премиум) в зависимости от континента?\n",
    "\n",
    "Решение закоментировано"
   ]
  },
  {
   "cell_type": "code",
   "execution_count": 4,
   "id": "66dbc918",
   "metadata": {},
   "outputs": [],
   "source": [
    "# df = pd.merge(df, df_continent, on='Country')\n",
    "# df.groupby('continent').mean()"
   ]
  },
  {
   "cell_type": "markdown",
   "id": "2cd1c0ec",
   "metadata": {},
   "source": [
    "Сколько стоит подписка относительно среднего дохода (базовая, стандартная, премиум) в Чехии? \n",
    "\n",
    "Средний доход в Чехии  688.75 $."
   ]
  },
  {
   "cell_type": "code",
   "execution_count": 5,
   "id": "2b6926d0",
   "metadata": {},
   "outputs": [
    {
     "data": {
      "text/html": [
       "<div>\n",
       "<style scoped>\n",
       "    .dataframe tbody tr th:only-of-type {\n",
       "        vertical-align: middle;\n",
       "    }\n",
       "\n",
       "    .dataframe tbody tr th {\n",
       "        vertical-align: top;\n",
       "    }\n",
       "\n",
       "    .dataframe thead th {\n",
       "        text-align: right;\n",
       "    }\n",
       "</style>\n",
       "<table border=\"1\" class=\"dataframe\">\n",
       "  <thead>\n",
       "    <tr style=\"text-align: right;\">\n",
       "      <th></th>\n",
       "      <th>Basic in mean income %</th>\n",
       "      <th>Standard in mean income %</th>\n",
       "      <th>Premium in mean income %</th>\n",
       "    </tr>\n",
       "  </thead>\n",
       "  <tbody>\n",
       "    <tr>\n",
       "      <th>8</th>\n",
       "      <td>1.282033</td>\n",
       "      <td>1.66824</td>\n",
       "      <td>2.054446</td>\n",
       "    </tr>\n",
       "  </tbody>\n",
       "</table>\n",
       "</div>"
      ],
      "text/plain": [
       "   Basic in mean income %  Standard in mean income %  Premium in mean income %\n",
       "8                1.282033                    1.66824                  2.054446"
      ]
     },
     "execution_count": 5,
     "metadata": {},
     "output_type": "execute_result"
    }
   ],
   "source": [
    "czech_price = df[df.Country == 'Czechia'][['Cost Per Month - Basic ($)', 'Cost Per Month - Standard ($)', 'Cost Per Month - Premium ($)']] / 688.75 * 100\n",
    "czech_price.columns = ['Basic in mean income %', 'Standard in mean income %', 'Premium in mean income %']\n",
    "czech_price"
   ]
  },
  {
   "cell_type": "markdown",
   "id": "dfbeb09b",
   "metadata": {},
   "source": [
    "Какие топ-5 стран имеют самую большую доступную коллекцию сериалов? \n",
    "\n",
    "Топ 5 стран: Чехия, Словая, Болгария, Венгрия и Великобритания. "
   ]
  },
  {
   "cell_type": "code",
   "execution_count": 6,
   "id": "248915ba",
   "metadata": {},
   "outputs": [
    {
     "data": {
      "text/html": [
       "<div>\n",
       "<style scoped>\n",
       "    .dataframe tbody tr th:only-of-type {\n",
       "        vertical-align: middle;\n",
       "    }\n",
       "\n",
       "    .dataframe tbody tr th {\n",
       "        vertical-align: top;\n",
       "    }\n",
       "\n",
       "    .dataframe thead th {\n",
       "        text-align: right;\n",
       "    }\n",
       "</style>\n",
       "<table border=\"1\" class=\"dataframe\">\n",
       "  <thead>\n",
       "    <tr style=\"text-align: right;\">\n",
       "      <th></th>\n",
       "      <th>Country</th>\n",
       "      <th>Total Library Size</th>\n",
       "      <th>No. of TV Shows</th>\n",
       "      <th>No. of Movies</th>\n",
       "      <th>Cost Per Month - Basic ($)</th>\n",
       "      <th>Cost Per Month - Standard ($)</th>\n",
       "      <th>Cost Per Month - Premium ($)</th>\n",
       "    </tr>\n",
       "  </thead>\n",
       "  <tbody>\n",
       "    <tr>\n",
       "      <th>0</th>\n",
       "      <td>Czechia</td>\n",
       "      <td>7325</td>\n",
       "      <td>5234</td>\n",
       "      <td>2091</td>\n",
       "      <td>8.83</td>\n",
       "      <td>11.49</td>\n",
       "      <td>14.15</td>\n",
       "    </tr>\n",
       "    <tr>\n",
       "      <th>1</th>\n",
       "      <td>Slovakia</td>\n",
       "      <td>7035</td>\n",
       "      <td>5055</td>\n",
       "      <td>1980</td>\n",
       "      <td>9.03</td>\n",
       "      <td>11.29</td>\n",
       "      <td>13.54</td>\n",
       "    </tr>\n",
       "    <tr>\n",
       "      <th>2</th>\n",
       "      <td>Bulgaria</td>\n",
       "      <td>6797</td>\n",
       "      <td>4819</td>\n",
       "      <td>1978</td>\n",
       "      <td>9.03</td>\n",
       "      <td>11.29</td>\n",
       "      <td>13.54</td>\n",
       "    </tr>\n",
       "    <tr>\n",
       "      <th>3</th>\n",
       "      <td>Hungary</td>\n",
       "      <td>6884</td>\n",
       "      <td>4802</td>\n",
       "      <td>2082</td>\n",
       "      <td>7.64</td>\n",
       "      <td>10.71</td>\n",
       "      <td>13.78</td>\n",
       "    </tr>\n",
       "    <tr>\n",
       "      <th>4</th>\n",
       "      <td>United Kingdom</td>\n",
       "      <td>6643</td>\n",
       "      <td>4551</td>\n",
       "      <td>2092</td>\n",
       "      <td>7.91</td>\n",
       "      <td>13.20</td>\n",
       "      <td>18.48</td>\n",
       "    </tr>\n",
       "  </tbody>\n",
       "</table>\n",
       "</div>"
      ],
      "text/plain": [
       "          Country  Total Library Size  No. of TV Shows  No. of Movies  \\\n",
       "0         Czechia                7325             5234           2091   \n",
       "1        Slovakia                7035             5055           1980   \n",
       "2        Bulgaria                6797             4819           1978   \n",
       "3         Hungary                6884             4802           2082   \n",
       "4  United Kingdom                6643             4551           2092   \n",
       "\n",
       "   Cost Per Month - Basic ($)  Cost Per Month - Standard ($)  \\\n",
       "0                        8.83                          11.49   \n",
       "1                        9.03                          11.29   \n",
       "2                        9.03                          11.29   \n",
       "3                        7.64                          10.71   \n",
       "4                        7.91                          13.20   \n",
       "\n",
       "   Cost Per Month - Premium ($)  \n",
       "0                         14.15  \n",
       "1                         13.54  \n",
       "2                         13.54  \n",
       "3                         13.78  \n",
       "4                         18.48  "
      ]
     },
     "execution_count": 6,
     "metadata": {},
     "output_type": "execute_result"
    }
   ],
   "source": [
    "df.sort_values('No. of TV Shows', ascending=False).head(5).reset_index(drop=True)"
   ]
  },
  {
   "cell_type": "markdown",
   "id": "duplicate-howard",
   "metadata": {},
   "source": [
    "<h2 style=\"color:red\">\n",
    "   Нужна была таблица с доходами\n",
    "</h2>"
   ]
  },
  {
   "cell_type": "markdown",
   "id": "9cc843ef",
   "metadata": {},
   "source": [
    "Какой процент среднего дохода россиянина будет составлять подписка Netflix?\n",
    "Средний доход россиянина = 500 $"
   ]
  },
  {
   "cell_type": "code",
   "execution_count": 7,
   "id": "740896a7",
   "metadata": {},
   "outputs": [
    {
     "data": {
      "text/html": [
       "<div>\n",
       "<style scoped>\n",
       "    .dataframe tbody tr th:only-of-type {\n",
       "        vertical-align: middle;\n",
       "    }\n",
       "\n",
       "    .dataframe tbody tr th {\n",
       "        vertical-align: top;\n",
       "    }\n",
       "\n",
       "    .dataframe thead th {\n",
       "        text-align: right;\n",
       "    }\n",
       "</style>\n",
       "<table border=\"1\" class=\"dataframe\">\n",
       "  <thead>\n",
       "    <tr style=\"text-align: right;\">\n",
       "      <th></th>\n",
       "      <th>Basic in mean income %</th>\n",
       "      <th>Standard in mean income %</th>\n",
       "      <th>Premium in mean income %</th>\n",
       "    </tr>\n",
       "  </thead>\n",
       "  <tbody>\n",
       "    <tr>\n",
       "      <th>34</th>\n",
       "      <td>1.626</td>\n",
       "      <td>2.168</td>\n",
       "      <td>2.712</td>\n",
       "    </tr>\n",
       "  </tbody>\n",
       "</table>\n",
       "</div>"
      ],
      "text/plain": [
       "    Basic in mean income %  Standard in mean income %  \\\n",
       "34                   1.626                      2.168   \n",
       "\n",
       "    Premium in mean income %  \n",
       "34                     2.712  "
      ]
     },
     "execution_count": 7,
     "metadata": {},
     "output_type": "execute_result"
    }
   ],
   "source": [
    "rus_price = df[df.Country == 'Russia'][['Cost Per Month - Basic ($)', 'Cost Per Month - Standard ($)', 'Cost Per Month - Premium ($)']] / 5\n",
    "rus_price.columns = ['Basic in mean income %', 'Standard in mean income %', 'Premium in mean income %']\n",
    "rus_price"
   ]
  },
  {
   "cell_type": "markdown",
   "id": "d47497d2",
   "metadata": {},
   "source": [
    "На каком месте будет Россия, если отсортировать страны по эффективности подписки (Cost Per Title)?\n",
    "\n",
    "Россия будет на 1 месте"
   ]
  },
  {
   "cell_type": "markdown",
   "id": "previous-little",
   "metadata": {},
   "source": [
    "<h2 style=\"color:red\">\n",
    "   Конечно она будет на первом месте  \n",
    "    \n",
    "    \n",
    "   Ты сначала оставляешь только одну строчку с помощью команды df[df.Country == 'Russia'] а потом сортируешь ее по эффективности \n",
    "</h2>"
   ]
  },
  {
   "cell_type": "code",
   "execution_count": 8,
   "id": "7969fdf9",
   "metadata": {},
   "outputs": [
    {
     "data": {
      "text/html": [
       "<div>\n",
       "<style scoped>\n",
       "    .dataframe tbody tr th:only-of-type {\n",
       "        vertical-align: middle;\n",
       "    }\n",
       "\n",
       "    .dataframe tbody tr th {\n",
       "        vertical-align: top;\n",
       "    }\n",
       "\n",
       "    .dataframe thead th {\n",
       "        text-align: right;\n",
       "    }\n",
       "</style>\n",
       "<table border=\"1\" class=\"dataframe\">\n",
       "  <thead>\n",
       "    <tr style=\"text-align: right;\">\n",
       "      <th></th>\n",
       "      <th>index</th>\n",
       "      <th>Country</th>\n",
       "      <th>Total Library Size</th>\n",
       "      <th>No. of TV Shows</th>\n",
       "      <th>No. of Movies</th>\n",
       "      <th>Cost Per Month - Basic ($)</th>\n",
       "      <th>Cost Per Month - Standard ($)</th>\n",
       "      <th>Cost Per Month - Premium ($)</th>\n",
       "      <th>Cost Per title</th>\n",
       "    </tr>\n",
       "  </thead>\n",
       "  <tbody>\n",
       "    <tr>\n",
       "      <th>0</th>\n",
       "      <td>34</td>\n",
       "      <td>Russia</td>\n",
       "      <td>5711</td>\n",
       "      <td>3624</td>\n",
       "      <td>2087</td>\n",
       "      <td>8.13</td>\n",
       "      <td>10.84</td>\n",
       "      <td>13.56</td>\n",
       "      <td>0.001424</td>\n",
       "    </tr>\n",
       "  </tbody>\n",
       "</table>\n",
       "</div>"
      ],
      "text/plain": [
       "   index Country  Total Library Size  No. of TV Shows  No. of Movies  \\\n",
       "0     34  Russia                5711             3624           2087   \n",
       "\n",
       "   Cost Per Month - Basic ($)  Cost Per Month - Standard ($)  \\\n",
       "0                        8.13                          10.84   \n",
       "\n",
       "   Cost Per Month - Premium ($)  Cost Per title  \n",
       "0                         13.56        0.001424  "
      ]
     },
     "execution_count": 8,
     "metadata": {},
     "output_type": "execute_result"
    }
   ],
   "source": [
    "df['Cost Per title'] = df.apply(lambda x: x['Cost Per Month - Basic ($)'] / x['Total Library Size'], axis=1)\n",
    "df[df.Country == 'Russia'].sort_values('Cost Per title').reset_index()"
   ]
  },
  {
   "cell_type": "markdown",
   "id": "28a176e8",
   "metadata": {},
   "source": [
    "В какой стране лучше всего брать VPN для того, чтобы платить за Netflix меньше всего?\n",
    "\n",
    "В Турции самая низкая цена за подписку. Следом идут Индия и Аргентина."
   ]
  },
  {
   "cell_type": "code",
   "execution_count": 9,
   "id": "94f814b1",
   "metadata": {},
   "outputs": [
    {
     "data": {
      "text/html": [
       "<div>\n",
       "<style scoped>\n",
       "    .dataframe tbody tr th:only-of-type {\n",
       "        vertical-align: middle;\n",
       "    }\n",
       "\n",
       "    .dataframe tbody tr th {\n",
       "        vertical-align: top;\n",
       "    }\n",
       "\n",
       "    .dataframe thead th {\n",
       "        text-align: right;\n",
       "    }\n",
       "</style>\n",
       "<table border=\"1\" class=\"dataframe\">\n",
       "  <thead>\n",
       "    <tr style=\"text-align: right;\">\n",
       "      <th></th>\n",
       "      <th>Country</th>\n",
       "      <th>Total Library Size</th>\n",
       "      <th>No. of TV Shows</th>\n",
       "      <th>No. of Movies</th>\n",
       "      <th>Cost Per Month - Basic ($)</th>\n",
       "      <th>Cost Per Month - Standard ($)</th>\n",
       "      <th>Cost Per Month - Premium ($)</th>\n",
       "      <th>Cost Per title</th>\n",
       "    </tr>\n",
       "  </thead>\n",
       "  <tbody>\n",
       "    <tr>\n",
       "      <th>0</th>\n",
       "      <td>Turkey</td>\n",
       "      <td>4639</td>\n",
       "      <td>2930</td>\n",
       "      <td>1709</td>\n",
       "      <td>1.97</td>\n",
       "      <td>3.00</td>\n",
       "      <td>4.02</td>\n",
       "      <td>0.000425</td>\n",
       "    </tr>\n",
       "    <tr>\n",
       "      <th>1</th>\n",
       "      <td>India</td>\n",
       "      <td>5843</td>\n",
       "      <td>3718</td>\n",
       "      <td>2125</td>\n",
       "      <td>2.64</td>\n",
       "      <td>6.61</td>\n",
       "      <td>8.60</td>\n",
       "      <td>0.000452</td>\n",
       "    </tr>\n",
       "    <tr>\n",
       "      <th>2</th>\n",
       "      <td>Argentina</td>\n",
       "      <td>4760</td>\n",
       "      <td>3154</td>\n",
       "      <td>1606</td>\n",
       "      <td>3.74</td>\n",
       "      <td>6.30</td>\n",
       "      <td>9.26</td>\n",
       "      <td>0.000786</td>\n",
       "    </tr>\n",
       "  </tbody>\n",
       "</table>\n",
       "</div>"
      ],
      "text/plain": [
       "     Country  Total Library Size  No. of TV Shows  No. of Movies  \\\n",
       "0     Turkey                4639             2930           1709   \n",
       "1      India                5843             3718           2125   \n",
       "2  Argentina                4760             3154           1606   \n",
       "\n",
       "   Cost Per Month - Basic ($)  Cost Per Month - Standard ($)  \\\n",
       "0                        1.97                           3.00   \n",
       "1                        2.64                           6.61   \n",
       "2                        3.74                           6.30   \n",
       "\n",
       "   Cost Per Month - Premium ($)  Cost Per title  \n",
       "0                          4.02        0.000425  \n",
       "1                          8.60        0.000452  \n",
       "2                          9.26        0.000786  "
      ]
     },
     "execution_count": 9,
     "metadata": {},
     "output_type": "execute_result"
    }
   ],
   "source": [
    "df.sort_values(['Cost Per Month - Basic ($)', 'Cost Per Month - Standard ($)',\n",
    "                'Cost Per Month - Premium ($)']).reset_index(drop=True).head(3)"
   ]
  },
  {
   "cell_type": "code",
   "execution_count": null,
   "id": "a26d9324",
   "metadata": {},
   "outputs": [],
   "source": []
  }
 ],
 "metadata": {
  "kernelspec": {
   "display_name": "Python 3",
   "language": "python",
   "name": "python3"
  },
  "language_info": {
   "codemirror_mode": {
    "name": "ipython",
    "version": 3
   },
   "file_extension": ".py",
   "mimetype": "text/x-python",
   "name": "python",
   "nbconvert_exporter": "python",
   "pygments_lexer": "ipython3",
   "version": "3.9.6"
  }
 },
 "nbformat": 4,
 "nbformat_minor": 5
}
