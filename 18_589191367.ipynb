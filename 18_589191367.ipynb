{
  "nbformat": 4,
  "nbformat_minor": 0,
  "metadata": {
    "colab": {
      "name": "pandas_hw.ipynb",
      "provenance": []
    },
    "kernelspec": {
      "name": "python3",
      "display_name": "Python 3"
    },
    "language_info": {
      "name": "python"
    }
  },
  "cells": [
    {
      "cell_type": "code",
      "execution_count": 27,
      "metadata": {
        "id": "RgHZrSOyB8LL"
      },
      "outputs": [],
      "source": [
        "import pandas as pd"
      ]
    },
    {
      "cell_type": "markdown",
      "source": [
        "Данные Netflix были взяты из датасета на Kaggle"
      ],
      "metadata": {
        "id": "K1qgk0dhKne3"
      }
    },
    {
      "cell_type": "code",
      "source": [
        "df = pd.read_csv('https://docs.google.com/spreadsheets/d/1npgstymQl8a7EHwAvbsn8x7G22jMG2PSRRrfD56LOEg/export?format=csv&gid=1905857806')"
      ],
      "metadata": {
        "id": "qLtMnD_A7WZe"
      },
      "execution_count": 28,
      "outputs": []
    },
    {
      "cell_type": "code",
      "source": [
        "len(df)"
      ],
      "metadata": {
        "colab": {
          "base_uri": "https://localhost:8080/"
        },
        "id": "_ujkcQETn8Rz",
        "outputId": "8132a40d-9bd6-4b46-fe76-aeb4d7314064"
      },
      "execution_count": 29,
      "outputs": [
        {
          "output_type": "execute_result",
          "data": {
            "text/plain": [
              "65"
            ]
          },
          "metadata": {},
          "execution_count": 29
        }
      ]
    },
    {
      "cell_type": "code",
      "source": [
        "df.head()"
      ],
      "metadata": {
        "colab": {
          "base_uri": "https://localhost:8080/",
          "height": 267
        },
        "id": "KxmmcRMXp9lG",
        "outputId": "6bfc85f3-0211-469b-a2ce-1913fbfd963c"
      },
      "execution_count": 30,
      "outputs": [
        {
          "output_type": "execute_result",
          "data": {
            "text/html": [
              "\n",
              "  <div id=\"df-c11f6f79-0d20-4547-8ceb-2cc9928f0747\">\n",
              "    <div class=\"colab-df-container\">\n",
              "      <div>\n",
              "<style scoped>\n",
              "    .dataframe tbody tr th:only-of-type {\n",
              "        vertical-align: middle;\n",
              "    }\n",
              "\n",
              "    .dataframe tbody tr th {\n",
              "        vertical-align: top;\n",
              "    }\n",
              "\n",
              "    .dataframe thead th {\n",
              "        text-align: right;\n",
              "    }\n",
              "</style>\n",
              "<table border=\"1\" class=\"dataframe\">\n",
              "  <thead>\n",
              "    <tr style=\"text-align: right;\">\n",
              "      <th></th>\n",
              "      <th>Country_code</th>\n",
              "      <th>Country</th>\n",
              "      <th>Total Library Size</th>\n",
              "      <th>No. of TV Shows</th>\n",
              "      <th>No. of Movies</th>\n",
              "      <th>Cost Per Month - Basic ($)</th>\n",
              "      <th>Cost Per Month - Standard ($)</th>\n",
              "      <th>Cost Per Month - Premium ($)</th>\n",
              "    </tr>\n",
              "  </thead>\n",
              "  <tbody>\n",
              "    <tr>\n",
              "      <th>0</th>\n",
              "      <td>ar</td>\n",
              "      <td>Argentina</td>\n",
              "      <td>4760</td>\n",
              "      <td>3154</td>\n",
              "      <td>1606</td>\n",
              "      <td>3.74</td>\n",
              "      <td>6.30</td>\n",
              "      <td>9.26</td>\n",
              "    </tr>\n",
              "    <tr>\n",
              "      <th>1</th>\n",
              "      <td>au</td>\n",
              "      <td>Australia</td>\n",
              "      <td>6114</td>\n",
              "      <td>4050</td>\n",
              "      <td>2064</td>\n",
              "      <td>7.84</td>\n",
              "      <td>12.12</td>\n",
              "      <td>16.39</td>\n",
              "    </tr>\n",
              "    <tr>\n",
              "      <th>2</th>\n",
              "      <td>at</td>\n",
              "      <td>Austria</td>\n",
              "      <td>5640</td>\n",
              "      <td>3779</td>\n",
              "      <td>1861</td>\n",
              "      <td>9.03</td>\n",
              "      <td>14.67</td>\n",
              "      <td>20.32</td>\n",
              "    </tr>\n",
              "    <tr>\n",
              "      <th>3</th>\n",
              "      <td>be</td>\n",
              "      <td>Belgium</td>\n",
              "      <td>4990</td>\n",
              "      <td>3374</td>\n",
              "      <td>1616</td>\n",
              "      <td>10.16</td>\n",
              "      <td>15.24</td>\n",
              "      <td>20.32</td>\n",
              "    </tr>\n",
              "    <tr>\n",
              "      <th>4</th>\n",
              "      <td>bo</td>\n",
              "      <td>Bolivia</td>\n",
              "      <td>4991</td>\n",
              "      <td>3155</td>\n",
              "      <td>1836</td>\n",
              "      <td>7.99</td>\n",
              "      <td>10.99</td>\n",
              "      <td>13.99</td>\n",
              "    </tr>\n",
              "  </tbody>\n",
              "</table>\n",
              "</div>\n",
              "      <button class=\"colab-df-convert\" onclick=\"convertToInteractive('df-c11f6f79-0d20-4547-8ceb-2cc9928f0747')\"\n",
              "              title=\"Convert this dataframe to an interactive table.\"\n",
              "              style=\"display:none;\">\n",
              "        \n",
              "  <svg xmlns=\"http://www.w3.org/2000/svg\" height=\"24px\"viewBox=\"0 0 24 24\"\n",
              "       width=\"24px\">\n",
              "    <path d=\"M0 0h24v24H0V0z\" fill=\"none\"/>\n",
              "    <path d=\"M18.56 5.44l.94 2.06.94-2.06 2.06-.94-2.06-.94-.94-2.06-.94 2.06-2.06.94zm-11 1L8.5 8.5l.94-2.06 2.06-.94-2.06-.94L8.5 2.5l-.94 2.06-2.06.94zm10 10l.94 2.06.94-2.06 2.06-.94-2.06-.94-.94-2.06-.94 2.06-2.06.94z\"/><path d=\"M17.41 7.96l-1.37-1.37c-.4-.4-.92-.59-1.43-.59-.52 0-1.04.2-1.43.59L10.3 9.45l-7.72 7.72c-.78.78-.78 2.05 0 2.83L4 21.41c.39.39.9.59 1.41.59.51 0 1.02-.2 1.41-.59l7.78-7.78 2.81-2.81c.8-.78.8-2.07 0-2.86zM5.41 20L4 18.59l7.72-7.72 1.47 1.35L5.41 20z\"/>\n",
              "  </svg>\n",
              "      </button>\n",
              "      \n",
              "  <style>\n",
              "    .colab-df-container {\n",
              "      display:flex;\n",
              "      flex-wrap:wrap;\n",
              "      gap: 12px;\n",
              "    }\n",
              "\n",
              "    .colab-df-convert {\n",
              "      background-color: #E8F0FE;\n",
              "      border: none;\n",
              "      border-radius: 50%;\n",
              "      cursor: pointer;\n",
              "      display: none;\n",
              "      fill: #1967D2;\n",
              "      height: 32px;\n",
              "      padding: 0 0 0 0;\n",
              "      width: 32px;\n",
              "    }\n",
              "\n",
              "    .colab-df-convert:hover {\n",
              "      background-color: #E2EBFA;\n",
              "      box-shadow: 0px 1px 2px rgba(60, 64, 67, 0.3), 0px 1px 3px 1px rgba(60, 64, 67, 0.15);\n",
              "      fill: #174EA6;\n",
              "    }\n",
              "\n",
              "    [theme=dark] .colab-df-convert {\n",
              "      background-color: #3B4455;\n",
              "      fill: #D2E3FC;\n",
              "    }\n",
              "\n",
              "    [theme=dark] .colab-df-convert:hover {\n",
              "      background-color: #434B5C;\n",
              "      box-shadow: 0px 1px 3px 1px rgba(0, 0, 0, 0.15);\n",
              "      filter: drop-shadow(0px 1px 2px rgba(0, 0, 0, 0.3));\n",
              "      fill: #FFFFFF;\n",
              "    }\n",
              "  </style>\n",
              "\n",
              "      <script>\n",
              "        const buttonEl =\n",
              "          document.querySelector('#df-c11f6f79-0d20-4547-8ceb-2cc9928f0747 button.colab-df-convert');\n",
              "        buttonEl.style.display =\n",
              "          google.colab.kernel.accessAllowed ? 'block' : 'none';\n",
              "\n",
              "        async function convertToInteractive(key) {\n",
              "          const element = document.querySelector('#df-c11f6f79-0d20-4547-8ceb-2cc9928f0747');\n",
              "          const dataTable =\n",
              "            await google.colab.kernel.invokeFunction('convertToInteractive',\n",
              "                                                     [key], {});\n",
              "          if (!dataTable) return;\n",
              "\n",
              "          const docLinkHtml = 'Like what you see? Visit the ' +\n",
              "            '<a target=\"_blank\" href=https://colab.research.google.com/notebooks/data_table.ipynb>data table notebook</a>'\n",
              "            + ' to learn more about interactive tables.';\n",
              "          element.innerHTML = '';\n",
              "          dataTable['output_type'] = 'display_data';\n",
              "          await google.colab.output.renderOutput(dataTable, element);\n",
              "          const docLink = document.createElement('div');\n",
              "          docLink.innerHTML = docLinkHtml;\n",
              "          element.appendChild(docLink);\n",
              "        }\n",
              "      </script>\n",
              "    </div>\n",
              "  </div>\n",
              "  "
            ],
            "text/plain": [
              "  Country_code  ... Cost Per Month - Premium ($)\n",
              "0           ar  ...                         9.26\n",
              "1           au  ...                        16.39\n",
              "2           at  ...                        20.32\n",
              "3           be  ...                        20.32\n",
              "4           bo  ...                        13.99\n",
              "\n",
              "[5 rows x 8 columns]"
            ]
          },
          "metadata": {},
          "execution_count": 30
        }
      ]
    },
    {
      "cell_type": "markdown",
      "source": [
        "Данные среднего дохода (PPP) взяты из википедии."
      ],
      "metadata": {
        "id": "PWhCFW4EKkdt"
      }
    },
    {
      "cell_type": "code",
      "source": [
        "df_ppp = pd.read_csv('https://docs.google.com/spreadsheets/d/13CkLyr64lBgmwJRpOrlBCvaFj_kllCbJ6LoJ5qMru_s/export?format=csv&gid=681675911')"
      ],
      "metadata": {
        "id": "W4pxvkLeIjJE"
      },
      "execution_count": 31,
      "outputs": []
    },
    {
      "cell_type": "code",
      "source": [
        "df_ppp.head()"
      ],
      "metadata": {
        "colab": {
          "base_uri": "https://localhost:8080/",
          "height": 206
        },
        "id": "C1QCnhd5CJLB",
        "outputId": "6cea213e-b262-4ca0-8f53-8e66191b8bbc"
      },
      "execution_count": 32,
      "outputs": [
        {
          "output_type": "execute_result",
          "data": {
            "text/html": [
              "\n",
              "  <div id=\"df-3fbce4cd-c530-4f4d-822f-60fba7dc0d0a\">\n",
              "    <div class=\"colab-df-container\">\n",
              "      <div>\n",
              "<style scoped>\n",
              "    .dataframe tbody tr th:only-of-type {\n",
              "        vertical-align: middle;\n",
              "    }\n",
              "\n",
              "    .dataframe tbody tr th {\n",
              "        vertical-align: top;\n",
              "    }\n",
              "\n",
              "    .dataframe thead th {\n",
              "        text-align: right;\n",
              "    }\n",
              "</style>\n",
              "<table border=\"1\" class=\"dataframe\">\n",
              "  <thead>\n",
              "    <tr style=\"text-align: right;\">\n",
              "      <th></th>\n",
              "      <th>Country</th>\n",
              "      <th>Subregion</th>\n",
              "      <th>Region</th>\n",
              "      <th>Estimate</th>\n",
              "      <th>Year</th>\n",
              "    </tr>\n",
              "  </thead>\n",
              "  <tbody>\n",
              "    <tr>\n",
              "      <th>0</th>\n",
              "      <td>Liechtenstein *</td>\n",
              "      <td>Western Europe</td>\n",
              "      <td>Europe</td>\n",
              "      <td>NaN</td>\n",
              "      <td>NaN</td>\n",
              "    </tr>\n",
              "    <tr>\n",
              "      <th>1</th>\n",
              "      <td>Luxembourg *</td>\n",
              "      <td>Western Europe</td>\n",
              "      <td>Europe</td>\n",
              "      <td>122,74</td>\n",
              "      <td>2021.0</td>\n",
              "    </tr>\n",
              "    <tr>\n",
              "      <th>2</th>\n",
              "      <td>Monaco *</td>\n",
              "      <td>Western Europe</td>\n",
              "      <td>Europe</td>\n",
              "      <td>NaN</td>\n",
              "      <td>NaN</td>\n",
              "    </tr>\n",
              "    <tr>\n",
              "      <th>3</th>\n",
              "      <td>Singapore *</td>\n",
              "      <td>South-eastern Asia</td>\n",
              "      <td>Asia</td>\n",
              "      <td>102,742</td>\n",
              "      <td>2021.0</td>\n",
              "    </tr>\n",
              "    <tr>\n",
              "      <th>4</th>\n",
              "      <td>Ireland *</td>\n",
              "      <td>Northern Europe</td>\n",
              "      <td>Europe</td>\n",
              "      <td>99,239</td>\n",
              "      <td>2021.0</td>\n",
              "    </tr>\n",
              "  </tbody>\n",
              "</table>\n",
              "</div>\n",
              "      <button class=\"colab-df-convert\" onclick=\"convertToInteractive('df-3fbce4cd-c530-4f4d-822f-60fba7dc0d0a')\"\n",
              "              title=\"Convert this dataframe to an interactive table.\"\n",
              "              style=\"display:none;\">\n",
              "        \n",
              "  <svg xmlns=\"http://www.w3.org/2000/svg\" height=\"24px\"viewBox=\"0 0 24 24\"\n",
              "       width=\"24px\">\n",
              "    <path d=\"M0 0h24v24H0V0z\" fill=\"none\"/>\n",
              "    <path d=\"M18.56 5.44l.94 2.06.94-2.06 2.06-.94-2.06-.94-.94-2.06-.94 2.06-2.06.94zm-11 1L8.5 8.5l.94-2.06 2.06-.94-2.06-.94L8.5 2.5l-.94 2.06-2.06.94zm10 10l.94 2.06.94-2.06 2.06-.94-2.06-.94-.94-2.06-.94 2.06-2.06.94z\"/><path d=\"M17.41 7.96l-1.37-1.37c-.4-.4-.92-.59-1.43-.59-.52 0-1.04.2-1.43.59L10.3 9.45l-7.72 7.72c-.78.78-.78 2.05 0 2.83L4 21.41c.39.39.9.59 1.41.59.51 0 1.02-.2 1.41-.59l7.78-7.78 2.81-2.81c.8-.78.8-2.07 0-2.86zM5.41 20L4 18.59l7.72-7.72 1.47 1.35L5.41 20z\"/>\n",
              "  </svg>\n",
              "      </button>\n",
              "      \n",
              "  <style>\n",
              "    .colab-df-container {\n",
              "      display:flex;\n",
              "      flex-wrap:wrap;\n",
              "      gap: 12px;\n",
              "    }\n",
              "\n",
              "    .colab-df-convert {\n",
              "      background-color: #E8F0FE;\n",
              "      border: none;\n",
              "      border-radius: 50%;\n",
              "      cursor: pointer;\n",
              "      display: none;\n",
              "      fill: #1967D2;\n",
              "      height: 32px;\n",
              "      padding: 0 0 0 0;\n",
              "      width: 32px;\n",
              "    }\n",
              "\n",
              "    .colab-df-convert:hover {\n",
              "      background-color: #E2EBFA;\n",
              "      box-shadow: 0px 1px 2px rgba(60, 64, 67, 0.3), 0px 1px 3px 1px rgba(60, 64, 67, 0.15);\n",
              "      fill: #174EA6;\n",
              "    }\n",
              "\n",
              "    [theme=dark] .colab-df-convert {\n",
              "      background-color: #3B4455;\n",
              "      fill: #D2E3FC;\n",
              "    }\n",
              "\n",
              "    [theme=dark] .colab-df-convert:hover {\n",
              "      background-color: #434B5C;\n",
              "      box-shadow: 0px 1px 3px 1px rgba(0, 0, 0, 0.15);\n",
              "      filter: drop-shadow(0px 1px 2px rgba(0, 0, 0, 0.3));\n",
              "      fill: #FFFFFF;\n",
              "    }\n",
              "  </style>\n",
              "\n",
              "      <script>\n",
              "        const buttonEl =\n",
              "          document.querySelector('#df-3fbce4cd-c530-4f4d-822f-60fba7dc0d0a button.colab-df-convert');\n",
              "        buttonEl.style.display =\n",
              "          google.colab.kernel.accessAllowed ? 'block' : 'none';\n",
              "\n",
              "        async function convertToInteractive(key) {\n",
              "          const element = document.querySelector('#df-3fbce4cd-c530-4f4d-822f-60fba7dc0d0a');\n",
              "          const dataTable =\n",
              "            await google.colab.kernel.invokeFunction('convertToInteractive',\n",
              "                                                     [key], {});\n",
              "          if (!dataTable) return;\n",
              "\n",
              "          const docLinkHtml = 'Like what you see? Visit the ' +\n",
              "            '<a target=\"_blank\" href=https://colab.research.google.com/notebooks/data_table.ipynb>data table notebook</a>'\n",
              "            + ' to learn more about interactive tables.';\n",
              "          element.innerHTML = '';\n",
              "          dataTable['output_type'] = 'display_data';\n",
              "          await google.colab.output.renderOutput(dataTable, element);\n",
              "          const docLink = document.createElement('div');\n",
              "          docLink.innerHTML = docLinkHtml;\n",
              "          element.appendChild(docLink);\n",
              "        }\n",
              "      </script>\n",
              "    </div>\n",
              "  </div>\n",
              "  "
            ],
            "text/plain": [
              "           Country           Subregion  Region Estimate    Year\n",
              "0  Liechtenstein *      Western Europe  Europe      NaN     NaN\n",
              "1     Luxembourg *      Western Europe  Europe   122,74  2021.0\n",
              "2         Monaco *      Western Europe  Europe      NaN     NaN\n",
              "3      Singapore *  South-eastern Asia    Asia  102,742  2021.0\n",
              "4        Ireland *     Northern Europe  Europe   99,239  2021.0"
            ]
          },
          "metadata": {},
          "execution_count": 32
        }
      ]
    },
    {
      "cell_type": "code",
      "source": [
        "df_ppp['Country'] = df_ppp['Country'].apply(lambda x: x[:-2])"
      ],
      "metadata": {
        "id": "V6W3T0iHOIUb"
      },
      "execution_count": 33,
      "outputs": []
    },
    {
      "cell_type": "code",
      "source": [
        "df_with_PPP = df.merge(df_ppp, left_on='Country', right_on='Country', how='outer')"
      ],
      "metadata": {
        "id": "HDk2gsJeOIwQ"
      },
      "execution_count": 34,
      "outputs": []
    },
    {
      "cell_type": "code",
      "source": [
        "df_with_PPP.head()"
      ],
      "metadata": {
        "colab": {
          "base_uri": "https://localhost:8080/",
          "height": 337
        },
        "id": "i1RVzEymQ2kT",
        "outputId": "6ffe3863-2497-4d8e-be84-3b224f94e0a9"
      },
      "execution_count": 35,
      "outputs": [
        {
          "output_type": "execute_result",
          "data": {
            "text/html": [
              "\n",
              "  <div id=\"df-09940e87-c34b-421f-9832-ddc0c7d8dc77\">\n",
              "    <div class=\"colab-df-container\">\n",
              "      <div>\n",
              "<style scoped>\n",
              "    .dataframe tbody tr th:only-of-type {\n",
              "        vertical-align: middle;\n",
              "    }\n",
              "\n",
              "    .dataframe tbody tr th {\n",
              "        vertical-align: top;\n",
              "    }\n",
              "\n",
              "    .dataframe thead th {\n",
              "        text-align: right;\n",
              "    }\n",
              "</style>\n",
              "<table border=\"1\" class=\"dataframe\">\n",
              "  <thead>\n",
              "    <tr style=\"text-align: right;\">\n",
              "      <th></th>\n",
              "      <th>Country_code</th>\n",
              "      <th>Country</th>\n",
              "      <th>Total Library Size</th>\n",
              "      <th>No. of TV Shows</th>\n",
              "      <th>No. of Movies</th>\n",
              "      <th>Cost Per Month - Basic ($)</th>\n",
              "      <th>Cost Per Month - Standard ($)</th>\n",
              "      <th>Cost Per Month - Premium ($)</th>\n",
              "      <th>Subregion</th>\n",
              "      <th>Region</th>\n",
              "      <th>Estimate</th>\n",
              "      <th>Year</th>\n",
              "    </tr>\n",
              "  </thead>\n",
              "  <tbody>\n",
              "    <tr>\n",
              "      <th>0</th>\n",
              "      <td>ar</td>\n",
              "      <td>Argentina</td>\n",
              "      <td>4760.0</td>\n",
              "      <td>3154.0</td>\n",
              "      <td>1606.0</td>\n",
              "      <td>3.74</td>\n",
              "      <td>6.30</td>\n",
              "      <td>9.26</td>\n",
              "      <td>South America</td>\n",
              "      <td>Americas</td>\n",
              "      <td>22,141</td>\n",
              "      <td>2021.0</td>\n",
              "    </tr>\n",
              "    <tr>\n",
              "      <th>1</th>\n",
              "      <td>au</td>\n",
              "      <td>Australia</td>\n",
              "      <td>6114.0</td>\n",
              "      <td>4050.0</td>\n",
              "      <td>2064.0</td>\n",
              "      <td>7.84</td>\n",
              "      <td>12.12</td>\n",
              "      <td>16.39</td>\n",
              "      <td>Australia, New Zealand</td>\n",
              "      <td>Oceania</td>\n",
              "      <td>54,891</td>\n",
              "      <td>2021.0</td>\n",
              "    </tr>\n",
              "    <tr>\n",
              "      <th>2</th>\n",
              "      <td>at</td>\n",
              "      <td>Austria</td>\n",
              "      <td>5640.0</td>\n",
              "      <td>3779.0</td>\n",
              "      <td>1861.0</td>\n",
              "      <td>9.03</td>\n",
              "      <td>14.67</td>\n",
              "      <td>20.32</td>\n",
              "      <td>Western Europe</td>\n",
              "      <td>Europe</td>\n",
              "      <td>57,891</td>\n",
              "      <td>2021.0</td>\n",
              "    </tr>\n",
              "    <tr>\n",
              "      <th>3</th>\n",
              "      <td>be</td>\n",
              "      <td>Belgium</td>\n",
              "      <td>4990.0</td>\n",
              "      <td>3374.0</td>\n",
              "      <td>1616.0</td>\n",
              "      <td>10.16</td>\n",
              "      <td>15.24</td>\n",
              "      <td>20.32</td>\n",
              "      <td>Western Europe</td>\n",
              "      <td>Europe</td>\n",
              "      <td>53,973</td>\n",
              "      <td>2021.0</td>\n",
              "    </tr>\n",
              "    <tr>\n",
              "      <th>4</th>\n",
              "      <td>bo</td>\n",
              "      <td>Bolivia</td>\n",
              "      <td>4991.0</td>\n",
              "      <td>3155.0</td>\n",
              "      <td>1836.0</td>\n",
              "      <td>7.99</td>\n",
              "      <td>10.99</td>\n",
              "      <td>13.99</td>\n",
              "      <td>South America</td>\n",
              "      <td>Americas</td>\n",
              "      <td>8,832</td>\n",
              "      <td>2021.0</td>\n",
              "    </tr>\n",
              "  </tbody>\n",
              "</table>\n",
              "</div>\n",
              "      <button class=\"colab-df-convert\" onclick=\"convertToInteractive('df-09940e87-c34b-421f-9832-ddc0c7d8dc77')\"\n",
              "              title=\"Convert this dataframe to an interactive table.\"\n",
              "              style=\"display:none;\">\n",
              "        \n",
              "  <svg xmlns=\"http://www.w3.org/2000/svg\" height=\"24px\"viewBox=\"0 0 24 24\"\n",
              "       width=\"24px\">\n",
              "    <path d=\"M0 0h24v24H0V0z\" fill=\"none\"/>\n",
              "    <path d=\"M18.56 5.44l.94 2.06.94-2.06 2.06-.94-2.06-.94-.94-2.06-.94 2.06-2.06.94zm-11 1L8.5 8.5l.94-2.06 2.06-.94-2.06-.94L8.5 2.5l-.94 2.06-2.06.94zm10 10l.94 2.06.94-2.06 2.06-.94-2.06-.94-.94-2.06-.94 2.06-2.06.94z\"/><path d=\"M17.41 7.96l-1.37-1.37c-.4-.4-.92-.59-1.43-.59-.52 0-1.04.2-1.43.59L10.3 9.45l-7.72 7.72c-.78.78-.78 2.05 0 2.83L4 21.41c.39.39.9.59 1.41.59.51 0 1.02-.2 1.41-.59l7.78-7.78 2.81-2.81c.8-.78.8-2.07 0-2.86zM5.41 20L4 18.59l7.72-7.72 1.47 1.35L5.41 20z\"/>\n",
              "  </svg>\n",
              "      </button>\n",
              "      \n",
              "  <style>\n",
              "    .colab-df-container {\n",
              "      display:flex;\n",
              "      flex-wrap:wrap;\n",
              "      gap: 12px;\n",
              "    }\n",
              "\n",
              "    .colab-df-convert {\n",
              "      background-color: #E8F0FE;\n",
              "      border: none;\n",
              "      border-radius: 50%;\n",
              "      cursor: pointer;\n",
              "      display: none;\n",
              "      fill: #1967D2;\n",
              "      height: 32px;\n",
              "      padding: 0 0 0 0;\n",
              "      width: 32px;\n",
              "    }\n",
              "\n",
              "    .colab-df-convert:hover {\n",
              "      background-color: #E2EBFA;\n",
              "      box-shadow: 0px 1px 2px rgba(60, 64, 67, 0.3), 0px 1px 3px 1px rgba(60, 64, 67, 0.15);\n",
              "      fill: #174EA6;\n",
              "    }\n",
              "\n",
              "    [theme=dark] .colab-df-convert {\n",
              "      background-color: #3B4455;\n",
              "      fill: #D2E3FC;\n",
              "    }\n",
              "\n",
              "    [theme=dark] .colab-df-convert:hover {\n",
              "      background-color: #434B5C;\n",
              "      box-shadow: 0px 1px 3px 1px rgba(0, 0, 0, 0.15);\n",
              "      filter: drop-shadow(0px 1px 2px rgba(0, 0, 0, 0.3));\n",
              "      fill: #FFFFFF;\n",
              "    }\n",
              "  </style>\n",
              "\n",
              "      <script>\n",
              "        const buttonEl =\n",
              "          document.querySelector('#df-09940e87-c34b-421f-9832-ddc0c7d8dc77 button.colab-df-convert');\n",
              "        buttonEl.style.display =\n",
              "          google.colab.kernel.accessAllowed ? 'block' : 'none';\n",
              "\n",
              "        async function convertToInteractive(key) {\n",
              "          const element = document.querySelector('#df-09940e87-c34b-421f-9832-ddc0c7d8dc77');\n",
              "          const dataTable =\n",
              "            await google.colab.kernel.invokeFunction('convertToInteractive',\n",
              "                                                     [key], {});\n",
              "          if (!dataTable) return;\n",
              "\n",
              "          const docLinkHtml = 'Like what you see? Visit the ' +\n",
              "            '<a target=\"_blank\" href=https://colab.research.google.com/notebooks/data_table.ipynb>data table notebook</a>'\n",
              "            + ' to learn more about interactive tables.';\n",
              "          element.innerHTML = '';\n",
              "          dataTable['output_type'] = 'display_data';\n",
              "          await google.colab.output.renderOutput(dataTable, element);\n",
              "          const docLink = document.createElement('div');\n",
              "          docLink.innerHTML = docLinkHtml;\n",
              "          element.appendChild(docLink);\n",
              "        }\n",
              "      </script>\n",
              "    </div>\n",
              "  </div>\n",
              "  "
            ],
            "text/plain": [
              "  Country_code    Country  Total Library Size  ...    Region  Estimate    Year\n",
              "0           ar  Argentina              4760.0  ...  Americas    22,141  2021.0\n",
              "1           au  Australia              6114.0  ...   Oceania    54,891  2021.0\n",
              "2           at    Austria              5640.0  ...    Europe    57,891  2021.0\n",
              "3           be    Belgium              4990.0  ...    Europe    53,973  2021.0\n",
              "4           bo    Bolivia              4991.0  ...  Americas     8,832  2021.0\n",
              "\n",
              "[5 rows x 12 columns]"
            ]
          },
          "metadata": {},
          "execution_count": 35
        }
      ]
    },
    {
      "cell_type": "code",
      "source": [
        "df_with_PPP = df_with_PPP.dropna(subset=['Estimate', 'Cost Per Month - Basic ($)', 'Cost Per Month - Standard ($)', 'Cost Per Month - Premium ($)'])"
      ],
      "metadata": {
        "id": "ybdwzCaeVItO"
      },
      "execution_count": 36,
      "outputs": []
    },
    {
      "cell_type": "markdown",
      "source": [
        "Построим график корреляции между средним доходом (PPP) и ценой подписки"
      ],
      "metadata": {
        "id": "0nWHdereY14f"
      }
    },
    {
      "cell_type": "code",
      "source": [
        "import matplotlib.pyplot as plt\n",
        "import matplotlib.ticker as ticker\n",
        "\n",
        "fig, ax = plt.subplots(figsize=(10, 5))\n",
        "ax.scatter(x = df_with_PPP['Cost Per Month - Basic ($)'], y = df_with_PPP['Estimate'])\n",
        "plt.xlabel(\"Subscription basic cost \")\n",
        "plt.ylabel(\"PPP\")\n",
        "ax.yaxis.set_major_locator(ticker.MultipleLocator(10))\n",
        "plt.show()"
      ],
      "metadata": {
        "colab": {
          "base_uri": "https://localhost:8080/",
          "height": 334
        },
        "id": "zGsj1hr3SR9l",
        "outputId": "24dc64c4-27d0-43b4-b3b5-b8e3496bc258"
      },
      "execution_count": 37,
      "outputs": [
        {
          "output_type": "display_data",
          "data": {
            "image/png": "[encoded data removed]",
            "text/plain": [
              "<Figure size 720x360 with 1 Axes>"
            ]
          },
          "metadata": {
            "needs_background": "light"
          }
        }
      ]
    },
    {
      "cell_type": "code",
      "source": [
        "fig, ax = plt.subplots(figsize=(10, 5))\n",
        "ax.scatter(x = df_with_PPP['Cost Per Month - Standard ($)'], y = df_with_PPP['Estimate'])\n",
        "plt.xlabel(\"Subscription standard cost \")\n",
        "plt.ylabel(\"PPP\")\n",
        "ax.yaxis.set_major_locator(ticker.MultipleLocator(10))\n",
        "plt.show()"
      ],
      "metadata": {
        "colab": {
          "base_uri": "https://localhost:8080/",
          "height": 334
        },
        "id": "kKaMu65qVpHJ",
        "outputId": "9a253ab3-aae7-4437-ae11-c2e0c9d2cf76"
      },
      "execution_count": 38,
      "outputs": [
        {
          "output_type": "display_data",
          "data": {
            "image/png": "[encoded data removed]",
            "text/plain": [
              "<Figure size 720x360 with 1 Axes>"
            ]
          },
          "metadata": {
            "needs_background": "light"
          }
        }
      ]
    },
    {
      "cell_type": "code",
      "source": [
        "fig, ax = plt.subplots(figsize=(10, 5))\n",
        "ax.scatter(x = df_with_PPP['Cost Per Month - Premium ($)'], y = df_with_PPP['Estimate'])\n",
        "plt.xlabel(\"Subscription premium cost \")\n",
        "plt.ylabel(\"PPP\")\n",
        "ax.yaxis.set_major_locator(ticker.MultipleLocator(10))\n",
        "plt.show()"
      ],
      "metadata": {
        "colab": {
          "base_uri": "https://localhost:8080/",
          "height": 334
        },
        "id": "QUvEiHslV2T3",
        "outputId": "db2bd011-334d-4c0a-a011-499e2f9bf770"
      },
      "execution_count": 39,
      "outputs": [
        {
          "output_type": "display_data",
          "data": {
            "image/png": "[encoded data removed]",
            "text/plain": [
              "<Figure size 720x360 with 1 Axes>"
            ]
          },
          "metadata": {
            "needs_background": "light"
          }
        }
      ]
    },
    {
      "cell_type": "markdown",
      "source": [
        "Ответим на вопросы:\n",
        "\n",
        "    1) Какая средняя цена подписки, (базовой, стандартной, премиум) в зависимости от валюты страны. \n",
        "    2) Какая средняя цена подписки, (базовой, стандартной, премиум) в зависимости от континента\n",
        "    3) Сколько стоит подписка относительно среднего дохода (базовая, стандартная, премиум) в Чехии?\n",
        "    4) Какие топ-5 стран имеют самую большую доступную коллекцию сериалов?\n",
        "    5) Какой процент среднего дохода россиянина будет составлять подписка Netflix?\n",
        "    6) На каком месте будет Россия, если отсортировать страны по эффективности подписки (Cost Per Title)\n",
        "    7) В какой стране лучше всего брать VPN для того, чтобы платить за Netflix меньше всего?\n"
      ],
      "metadata": {
        "id": "-so9jaqeY8ew"
      }
    },
    {
      "cell_type": "markdown",
      "source": [
        "**1) Cредняя цена подписки, (базовой, стандартной, премиум) в зависимости от валюты страны.** "
      ],
      "metadata": {
        "id": "7Dgj6EQWZSY7"
      }
    },
    {
      "cell_type": "code",
      "source": [
        "df_cur = pd.read_csv('https://docs.google.com/spreadsheets/d/131wpJ9VlR7J-Raxw3gqD_9__S_2S0oQZwnBOLjEz0xY/export?format=csv&gid=0')"
      ],
      "metadata": {
        "id": "DTJqCrUJkSiE"
      },
      "execution_count": 40,
      "outputs": []
    },
    {
      "cell_type": "code",
      "source": [
        "df_cur.head()"
      ],
      "metadata": {
        "colab": {
          "base_uri": "https://localhost:8080/",
          "height": 206
        },
        "id": "_P5QmlktkohG",
        "outputId": "3922f93d-4569-4c73-8ed1-d86488027c69"
      },
      "execution_count": 41,
      "outputs": [
        {
          "output_type": "execute_result",
          "data": {
            "text/html": [
              "\n",
              "  <div id=\"df-845d65c8-00e2-43e9-a599-3bb493a4d758\">\n",
              "    <div class=\"colab-df-container\">\n",
              "      <div>\n",
              "<style scoped>\n",
              "    .dataframe tbody tr th:only-of-type {\n",
              "        vertical-align: middle;\n",
              "    }\n",
              "\n",
              "    .dataframe tbody tr th {\n",
              "        vertical-align: top;\n",
              "    }\n",
              "\n",
              "    .dataframe thead th {\n",
              "        text-align: right;\n",
              "    }\n",
              "</style>\n",
              "<table border=\"1\" class=\"dataframe\">\n",
              "  <thead>\n",
              "    <tr style=\"text-align: right;\">\n",
              "      <th></th>\n",
              "      <th>State</th>\n",
              "      <th>Currency</th>\n",
              "      <th>Symbol</th>\n",
              "      <th>ISO</th>\n",
              "    </tr>\n",
              "  </thead>\n",
              "  <tbody>\n",
              "    <tr>\n",
              "      <th>0</th>\n",
              "      <td>Abkhazia</td>\n",
              "      <td>Abkhazian apsar[E]</td>\n",
              "      <td>(none)</td>\n",
              "      <td>(none)</td>\n",
              "    </tr>\n",
              "    <tr>\n",
              "      <th>1</th>\n",
              "      <td>Afghanistan</td>\n",
              "      <td>Afghan afghani</td>\n",
              "      <td>؋</td>\n",
              "      <td>AFN</td>\n",
              "    </tr>\n",
              "    <tr>\n",
              "      <th>2</th>\n",
              "      <td>Akrotiri and Dhekelia</td>\n",
              "      <td>Euro</td>\n",
              "      <td>€</td>\n",
              "      <td>EUR</td>\n",
              "    </tr>\n",
              "    <tr>\n",
              "      <th>3</th>\n",
              "      <td>Albania</td>\n",
              "      <td>Albanian lek</td>\n",
              "      <td>L</td>\n",
              "      <td>ALL</td>\n",
              "    </tr>\n",
              "    <tr>\n",
              "      <th>4</th>\n",
              "      <td>Alderney</td>\n",
              "      <td>British pound[F][E]</td>\n",
              "      <td>£</td>\n",
              "      <td>GBP</td>\n",
              "    </tr>\n",
              "  </tbody>\n",
              "</table>\n",
              "</div>\n",
              "      <button class=\"colab-df-convert\" onclick=\"convertToInteractive('df-845d65c8-00e2-43e9-a599-3bb493a4d758')\"\n",
              "              title=\"Convert this dataframe to an interactive table.\"\n",
              "              style=\"display:none;\">\n",
              "        \n",
              "  <svg xmlns=\"http://www.w3.org/2000/svg\" height=\"24px\"viewBox=\"0 0 24 24\"\n",
              "       width=\"24px\">\n",
              "    <path d=\"M0 0h24v24H0V0z\" fill=\"none\"/>\n",
              "    <path d=\"M18.56 5.44l.94 2.06.94-2.06 2.06-.94-2.06-.94-.94-2.06-.94 2.06-2.06.94zm-11 1L8.5 8.5l.94-2.06 2.06-.94-2.06-.94L8.5 2.5l-.94 2.06-2.06.94zm10 10l.94 2.06.94-2.06 2.06-.94-2.06-.94-.94-2.06-.94 2.06-2.06.94z\"/><path d=\"M17.41 7.96l-1.37-1.37c-.4-.4-.92-.59-1.43-.59-.52 0-1.04.2-1.43.59L10.3 9.45l-7.72 7.72c-.78.78-.78 2.05 0 2.83L4 21.41c.39.39.9.59 1.41.59.51 0 1.02-.2 1.41-.59l7.78-7.78 2.81-2.81c.8-.78.8-2.07 0-2.86zM5.41 20L4 18.59l7.72-7.72 1.47 1.35L5.41 20z\"/>\n",
              "  </svg>\n",
              "      </button>\n",
              "      \n",
              "  <style>\n",
              "    .colab-df-container {\n",
              "      display:flex;\n",
              "      flex-wrap:wrap;\n",
              "      gap: 12px;\n",
              "    }\n",
              "\n",
              "    .colab-df-convert {\n",
              "      background-color: #E8F0FE;\n",
              "      border: none;\n",
              "      border-radius: 50%;\n",
              "      cursor: pointer;\n",
              "      display: none;\n",
              "      fill: #1967D2;\n",
              "      height: 32px;\n",
              "      padding: 0 0 0 0;\n",
              "      width: 32px;\n",
              "    }\n",
              "\n",
              "    .colab-df-convert:hover {\n",
              "      background-color: #E2EBFA;\n",
              "      box-shadow: 0px 1px 2px rgba(60, 64, 67, 0.3), 0px 1px 3px 1px rgba(60, 64, 67, 0.15);\n",
              "      fill: #174EA6;\n",
              "    }\n",
              "\n",
              "    [theme=dark] .colab-df-convert {\n",
              "      background-color: #3B4455;\n",
              "      fill: #D2E3FC;\n",
              "    }\n",
              "\n",
              "    [theme=dark] .colab-df-convert:hover {\n",
              "      background-color: #434B5C;\n",
              "      box-shadow: 0px 1px 3px 1px rgba(0, 0, 0, 0.15);\n",
              "      filter: drop-shadow(0px 1px 2px rgba(0, 0, 0, 0.3));\n",
              "      fill: #FFFFFF;\n",
              "    }\n",
              "  </style>\n",
              "\n",
              "      <script>\n",
              "        const buttonEl =\n",
              "          document.querySelector('#df-845d65c8-00e2-43e9-a599-3bb493a4d758 button.colab-df-convert');\n",
              "        buttonEl.style.display =\n",
              "          google.colab.kernel.accessAllowed ? 'block' : 'none';\n",
              "\n",
              "        async function convertToInteractive(key) {\n",
              "          const element = document.querySelector('#df-845d65c8-00e2-43e9-a599-3bb493a4d758');\n",
              "          const dataTable =\n",
              "            await google.colab.kernel.invokeFunction('convertToInteractive',\n",
              "                                                     [key], {});\n",
              "          if (!dataTable) return;\n",
              "\n",
              "          const docLinkHtml = 'Like what you see? Visit the ' +\n",
              "            '<a target=\"_blank\" href=https://colab.research.google.com/notebooks/data_table.ipynb>data table notebook</a>'\n",
              "            + ' to learn more about interactive tables.';\n",
              "          element.innerHTML = '';\n",
              "          dataTable['output_type'] = 'display_data';\n",
              "          await google.colab.output.renderOutput(dataTable, element);\n",
              "          const docLink = document.createElement('div');\n",
              "          docLink.innerHTML = docLinkHtml;\n",
              "          element.appendChild(docLink);\n",
              "        }\n",
              "      </script>\n",
              "    </div>\n",
              "  </div>\n",
              "  "
            ],
            "text/plain": [
              "                   State             Currency  Symbol     ISO\n",
              "0               Abkhazia   Abkhazian apsar[E]  (none)  (none)\n",
              "1            Afghanistan       Afghan afghani       ؋     AFN\n",
              "2  Akrotiri and Dhekelia                 Euro       €     EUR\n",
              "3                Albania         Albanian lek       L     ALL\n",
              "4               Alderney  British pound[F][E]       £     GBP"
            ]
          },
          "metadata": {},
          "execution_count": 41
        }
      ]
    },
    {
      "cell_type": "code",
      "source": [
        "df_with_ISO = df.merge(df_cur, left_on='Country', right_on='State', how='outer')\n",
        "df_with_ISO = df_with_ISO.dropna(subset=['ISO', 'Cost Per Month - Basic ($)', 'Cost Per Month - Standard ($)', 'Cost Per Month - Premium ($)'])"
      ],
      "metadata": {
        "id": "4_h649vTnF_g"
      },
      "execution_count": 42,
      "outputs": []
    },
    {
      "cell_type": "code",
      "source": [
        "df_with_ISO.groupby('ISO')['Cost Per Month - Basic ($)'].mean()"
      ],
      "metadata": {
        "colab": {
          "base_uri": "https://localhost:8080/"
        },
        "id": "YOdaZAhZY-5X",
        "outputId": "d3be4456-b0fa-4371-9646-4bbb513ab854"
      },
      "execution_count": 43,
      "outputs": [
        {
          "output_type": "execute_result",
          "data": {
            "text/plain": [
              "ISO\n",
              "ARS     3.74000\n",
              "AUD     7.84000\n",
              "BGN     9.03000\n",
              "BOB     7.99000\n",
              "BRL     4.61000\n",
              "CAD     7.91000\n",
              "CHF    12.88000\n",
              "CLP     7.07000\n",
              "COP     4.31000\n",
              "CRC     8.99000\n",
              "DKK    12.00000\n",
              "EUR     9.17125\n",
              "GBP     7.91000\n",
              "GIP     9.03000\n",
              "GTQ     7.99000\n",
              "HKD     8.08000\n",
              "HNL     7.99000\n",
              "HRK     9.03000\n",
              "HUF     7.64000\n",
              "IDR     8.36000\n",
              "ILS    10.56000\n",
              "INR     2.64000\n",
              "ISK     9.03000\n",
              "JPY     8.73000\n",
              "MDL     9.03000\n",
              "MXN     6.62000\n",
              "MYR     8.29000\n",
              "NOK     9.94000\n",
              "NZD     8.80000\n",
              "PEN     6.11000\n",
              "PHP     7.35000\n",
              "PLN     7.13000\n",
              "PYG     8.29000\n",
              "RON     9.03000\n",
              "RUB     8.13000\n",
              "SEK    10.90000\n",
              "SGD     9.51000\n",
              "THB     8.34000\n",
              "TRY     1.97000\n",
              "TWD     9.74000\n",
              "UAH     5.64000\n",
              "USD     8.49000\n",
              "UYU     8.99000\n",
              "VES     7.99000\n",
              "ZAR     6.26000\n",
              "Name: Cost Per Month - Basic ($), dtype: float64"
            ]
          },
          "metadata": {},
          "execution_count": 43
        }
      ]
    },
    {
      "cell_type": "code",
      "source": [
        "df_with_ISO.groupby('ISO')['Cost Per Month - Standard ($)'].mean()"
      ],
      "metadata": {
        "colab": {
          "base_uri": "https://localhost:8080/"
        },
        "id": "G7vM-mD2hwDn",
        "outputId": "c29041ee-235e-4f05-c3a7-7420ea6e2b05"
      },
      "execution_count": 44,
      "outputs": [
        {
          "output_type": "execute_result",
          "data": {
            "text/plain": [
              "ISO\n",
              "ARS     6.30000\n",
              "AUD    12.12000\n",
              "BGN    11.29000\n",
              "BOB    10.99000\n",
              "BRL     7.11000\n",
              "CAD    11.87000\n",
              "CHF    20.46000\n",
              "CLP     9.91000\n",
              "COP     6.86000\n",
              "CRC    12.99000\n",
              "DKK    15.04000\n",
              "EUR    13.54375\n",
              "GBP    13.20000\n",
              "GIP    14.67000\n",
              "GTQ    10.99000\n",
              "HKD    10.00000\n",
              "HNL    10.99000\n",
              "HRK    11.29000\n",
              "HUF    10.71000\n",
              "IDR    10.66000\n",
              "ILS    15.05000\n",
              "INR     6.61000\n",
              "ISK    14.67000\n",
              "JPY    13.13000\n",
              "MDL    11.29000\n",
              "MXN    10.43000\n",
              "MYR    10.65000\n",
              "NOK    12.17000\n",
              "NZD    12.53000\n",
              "PEN     8.56000\n",
              "PHP     9.14000\n",
              "PLN    10.58000\n",
              "PYG    11.49000\n",
              "RON    11.29000\n",
              "RUB    10.84000\n",
              "SEK    14.20000\n",
              "SGD    12.81000\n",
              "THB    10.43000\n",
              "TRY     3.00000\n",
              "TWD    11.90000\n",
              "UAH     8.46000\n",
              "USD    12.49000\n",
              "UYU    12.99000\n",
              "VES    10.99000\n",
              "ZAR    10.05000\n",
              "Name: Cost Per Month - Standard ($), dtype: float64"
            ]
          },
          "metadata": {},
          "execution_count": 44
        }
      ]
    },
    {
      "cell_type": "code",
      "source": [
        "df_with_ISO.groupby('ISO')['Cost Per Month - Premium ($)'].mean()"
      ],
      "metadata": {
        "colab": {
          "base_uri": "https://localhost:8080/"
        },
        "id": "NJV-EJPKhwId",
        "outputId": "9218db67-a4e0-4fc2-c471-400fa12c104f"
      },
      "execution_count": 45,
      "outputs": [
        {
          "output_type": "execute_result",
          "data": {
            "text/plain": [
              "ISO\n",
              "ARS     9.26000\n",
              "AUD    16.39000\n",
              "BGN    13.54000\n",
              "BOB    13.99000\n",
              "BRL     9.96000\n",
              "CAD    15.03000\n",
              "CHF    26.96000\n",
              "CLP    12.74000\n",
              "COP     9.93000\n",
              "CRC    15.99000\n",
              "DKK    19.60000\n",
              "EUR    17.91875\n",
              "GBP    18.48000\n",
              "GIP    20.32000\n",
              "GTQ    13.99000\n",
              "HKD    11.93000\n",
              "HNL    13.99000\n",
              "HRK    13.54000\n",
              "HUF    13.78000\n",
              "IDR    12.96000\n",
              "ILS    19.54000\n",
              "INR     8.60000\n",
              "ISK    20.32000\n",
              "JPY    17.45000\n",
              "MDL    13.54000\n",
              "MXN    14.24000\n",
              "MYR    13.02000\n",
              "NOK    17.75000\n",
              "NZD    16.94000\n",
              "PEN    11.01000\n",
              "PHP    10.93000\n",
              "PLN    14.76000\n",
              "PYG    14.69000\n",
              "RON    13.54000\n",
              "RUB    13.56000\n",
              "SEK    19.70000\n",
              "SGD    16.11000\n",
              "THB    12.52000\n",
              "TRY     4.02000\n",
              "TWD    14.07000\n",
              "UAH    11.29000\n",
              "USD    15.99000\n",
              "UYU    15.99000\n",
              "VES    13.99000\n",
              "ZAR    12.58000\n",
              "Name: Cost Per Month - Premium ($), dtype: float64"
            ]
          },
          "metadata": {},
          "execution_count": 45
        }
      ]
    },
    {
      "cell_type": "markdown",
      "source": [
        "**2) Cредняя цена подписки, (базовой, стандартной, премиум) в зависимости от континента** "
      ],
      "metadata": {
        "id": "TaC02DT3ZRTb"
      }
    },
    {
      "cell_type": "code",
      "source": [
        "df_with_PPP.groupby('Region')['Cost Per Month - Basic ($)'].mean()"
      ],
      "metadata": {
        "colab": {
          "base_uri": "https://localhost:8080/"
        },
        "id": "GxX4xNxBZk_w",
        "outputId": "5b14d14a-de17-4d0a-9224-5c82263dab5e"
      },
      "execution_count": 46,
      "outputs": [
        {
          "output_type": "execute_result",
          "data": {
            "text/plain": [
              "Region\n",
              "Africa      6.260000\n",
              "Americas    7.223750\n",
              "Asia        7.636667\n",
              "Europe      9.125484\n",
              "Oceania     8.320000\n",
              "Name: Cost Per Month - Basic ($), dtype: float64"
            ]
          },
          "metadata": {},
          "execution_count": 46
        }
      ]
    },
    {
      "cell_type": "code",
      "source": [
        "df_with_PPP.groupby('Region')['Cost Per Month - Standard ($)'].mean()\n"
      ],
      "metadata": {
        "colab": {
          "base_uri": "https://localhost:8080/"
        },
        "id": "ar_NUerOhzCk",
        "outputId": "fcac7804-b11f-4132-821a-b250fcd50a6f"
      },
      "execution_count": 47,
      "outputs": [
        {
          "output_type": "execute_result",
          "data": {
            "text/plain": [
              "Region\n",
              "Africa      10.050000\n",
              "Americas    10.465625\n",
              "Asia        10.404167\n",
              "Europe      13.021935\n",
              "Oceania     12.325000\n",
              "Name: Cost Per Month - Standard ($), dtype: float64"
            ]
          },
          "metadata": {},
          "execution_count": 47
        }
      ]
    },
    {
      "cell_type": "code",
      "source": [
        "df_with_PPP.groupby('Region')['Cost Per Month - Premium ($)'].mean()\n"
      ],
      "metadata": {
        "colab": {
          "base_uri": "https://localhost:8080/"
        },
        "id": "cdMUr8oOhzGc",
        "outputId": "aea2ede4-bd67-42a4-a137-581527553588"
      },
      "execution_count": 48,
      "outputs": [
        {
          "output_type": "execute_result",
          "data": {
            "text/plain": [
              "Region\n",
              "Africa      12.580000\n",
              "Americas    13.548750\n",
              "Asia        12.966667\n",
              "Europe      17.135806\n",
              "Oceania     16.665000\n",
              "Name: Cost Per Month - Premium ($), dtype: float64"
            ]
          },
          "metadata": {},
          "execution_count": 48
        }
      ]
    },
    {
      "cell_type": "markdown",
      "source": [
        "**3) Сколько стоит подписка относительно среднего дохода (базовая, стандартная, премиум) в Чехии** \n",
        "\n",
        "---\n",
        "\n"
      ],
      "metadata": {
        "id": "MDAYXCeLZbEE"
      }
    },
    {
      "cell_type": "code",
      "source": [
        "df_czechia = df_with_PPP.loc[df_with_PPP['Country'] == 'Czechia']"
      ],
      "metadata": {
        "id": "ycZMa4dKZlim"
      },
      "execution_count": 51,
      "outputs": []
    },
    {
      "cell_type": "code",
      "source": [
        "df_czechia"
      ],
      "metadata": {
        "colab": {
          "base_uri": "https://localhost:8080/",
          "height": 177
        },
        "id": "G-OMVS6Bba_T",
        "outputId": "8f33516b-e8b6-4382-d920-a5f883950fc6"
      },
      "execution_count": 52,
      "outputs": [
        {
          "output_type": "execute_result",
          "data": {
            "text/html": [
              "\n",
              "  <div id=\"df-a49a69b4-9c2d-4ea7-8846-859ae22b65e8\">\n",
              "    <div class=\"colab-df-container\">\n",
              "      <div>\n",
              "<style scoped>\n",
              "    .dataframe tbody tr th:only-of-type {\n",
              "        vertical-align: middle;\n",
              "    }\n",
              "\n",
              "    .dataframe tbody tr th {\n",
              "        vertical-align: top;\n",
              "    }\n",
              "\n",
              "    .dataframe thead th {\n",
              "        text-align: right;\n",
              "    }\n",
              "</style>\n",
              "<table border=\"1\" class=\"dataframe\">\n",
              "  <thead>\n",
              "    <tr style=\"text-align: right;\">\n",
              "      <th></th>\n",
              "      <th>Country_code</th>\n",
              "      <th>Country</th>\n",
              "      <th>Total Library Size</th>\n",
              "      <th>No. of TV Shows</th>\n",
              "      <th>No. of Movies</th>\n",
              "      <th>Cost Per Month - Basic ($)</th>\n",
              "      <th>Cost Per Month - Standard ($)</th>\n",
              "      <th>Cost Per Month - Premium ($)</th>\n",
              "      <th>Subregion</th>\n",
              "      <th>Region</th>\n",
              "      <th>Estimate</th>\n",
              "      <th>Year</th>\n",
              "    </tr>\n",
              "  </thead>\n",
              "  <tbody>\n",
              "    <tr>\n",
              "      <th>12</th>\n",
              "      <td>cz</td>\n",
              "      <td>Czechia</td>\n",
              "      <td>7325.0</td>\n",
              "      <td>5234.0</td>\n",
              "      <td>2091.0</td>\n",
              "      <td>8.83</td>\n",
              "      <td>11.49</td>\n",
              "      <td>14.15</td>\n",
              "      <td>Eastern Europe</td>\n",
              "      <td>Europe</td>\n",
              "      <td>42,956</td>\n",
              "      <td>2021.0</td>\n",
              "    </tr>\n",
              "  </tbody>\n",
              "</table>\n",
              "</div>\n",
              "      <button class=\"colab-df-convert\" onclick=\"convertToInteractive('df-a49a69b4-9c2d-4ea7-8846-859ae22b65e8')\"\n",
              "              title=\"Convert this dataframe to an interactive table.\"\n",
              "              style=\"display:none;\">\n",
              "        \n",
              "  <svg xmlns=\"http://www.w3.org/2000/svg\" height=\"24px\"viewBox=\"0 0 24 24\"\n",
              "       width=\"24px\">\n",
              "    <path d=\"M0 0h24v24H0V0z\" fill=\"none\"/>\n",
              "    <path d=\"M18.56 5.44l.94 2.06.94-2.06 2.06-.94-2.06-.94-.94-2.06-.94 2.06-2.06.94zm-11 1L8.5 8.5l.94-2.06 2.06-.94-2.06-.94L8.5 2.5l-.94 2.06-2.06.94zm10 10l.94 2.06.94-2.06 2.06-.94-2.06-.94-.94-2.06-.94 2.06-2.06.94z\"/><path d=\"M17.41 7.96l-1.37-1.37c-.4-.4-.92-.59-1.43-.59-.52 0-1.04.2-1.43.59L10.3 9.45l-7.72 7.72c-.78.78-.78 2.05 0 2.83L4 21.41c.39.39.9.59 1.41.59.51 0 1.02-.2 1.41-.59l7.78-7.78 2.81-2.81c.8-.78.8-2.07 0-2.86zM5.41 20L4 18.59l7.72-7.72 1.47 1.35L5.41 20z\"/>\n",
              "  </svg>\n",
              "      </button>\n",
              "      \n",
              "  <style>\n",
              "    .colab-df-container {\n",
              "      display:flex;\n",
              "      flex-wrap:wrap;\n",
              "      gap: 12px;\n",
              "    }\n",
              "\n",
              "    .colab-df-convert {\n",
              "      background-color: #E8F0FE;\n",
              "      border: none;\n",
              "      border-radius: 50%;\n",
              "      cursor: pointer;\n",
              "      display: none;\n",
              "      fill: #1967D2;\n",
              "      height: 32px;\n",
              "      padding: 0 0 0 0;\n",
              "      width: 32px;\n",
              "    }\n",
              "\n",
              "    .colab-df-convert:hover {\n",
              "      background-color: #E2EBFA;\n",
              "      box-shadow: 0px 1px 2px rgba(60, 64, 67, 0.3), 0px 1px 3px 1px rgba(60, 64, 67, 0.15);\n",
              "      fill: #174EA6;\n",
              "    }\n",
              "\n",
              "    [theme=dark] .colab-df-convert {\n",
              "      background-color: #3B4455;\n",
              "      fill: #D2E3FC;\n",
              "    }\n",
              "\n",
              "    [theme=dark] .colab-df-convert:hover {\n",
              "      background-color: #434B5C;\n",
              "      box-shadow: 0px 1px 3px 1px rgba(0, 0, 0, 0.15);\n",
              "      filter: drop-shadow(0px 1px 2px rgba(0, 0, 0, 0.3));\n",
              "      fill: #FFFFFF;\n",
              "    }\n",
              "  </style>\n",
              "\n",
              "      <script>\n",
              "        const buttonEl =\n",
              "          document.querySelector('#df-a49a69b4-9c2d-4ea7-8846-859ae22b65e8 button.colab-df-convert');\n",
              "        buttonEl.style.display =\n",
              "          google.colab.kernel.accessAllowed ? 'block' : 'none';\n",
              "\n",
              "        async function convertToInteractive(key) {\n",
              "          const element = document.querySelector('#df-a49a69b4-9c2d-4ea7-8846-859ae22b65e8');\n",
              "          const dataTable =\n",
              "            await google.colab.kernel.invokeFunction('convertToInteractive',\n",
              "                                                     [key], {});\n",
              "          if (!dataTable) return;\n",
              "\n",
              "          const docLinkHtml = 'Like what you see? Visit the ' +\n",
              "            '<a target=\"_blank\" href=https://colab.research.google.com/notebooks/data_table.ipynb>data table notebook</a>'\n",
              "            + ' to learn more about interactive tables.';\n",
              "          element.innerHTML = '';\n",
              "          dataTable['output_type'] = 'display_data';\n",
              "          await google.colab.output.renderOutput(dataTable, element);\n",
              "          const docLink = document.createElement('div');\n",
              "          docLink.innerHTML = docLinkHtml;\n",
              "          element.appendChild(docLink);\n",
              "        }\n",
              "      </script>\n",
              "    </div>\n",
              "  </div>\n",
              "  "
            ],
            "text/plain": [
              "   Country_code  Country  Total Library Size  ...  Region  Estimate    Year\n",
              "12           cz  Czechia              7325.0  ...  Europe    42,956  2021.0\n",
              "\n",
              "[1 rows x 12 columns]"
            ]
          },
          "metadata": {},
          "execution_count": 52
        }
      ]
    },
    {
      "cell_type": "code",
      "source": [
        "print(f\"Базовая: {df_czechia['Cost Per Month - Basic ($)'].values[0]/float(df_czechia['Estimate'].values[0].replace(',','.'))}\")"
      ],
      "metadata": {
        "colab": {
          "base_uri": "https://localhost:8080/"
        },
        "id": "nGUaV_C1bXeH",
        "outputId": "cf89cf74-b803-4689-bc90-2c3538acb4d3"
      },
      "execution_count": 71,
      "outputs": [
        {
          "output_type": "stream",
          "name": "stdout",
          "text": [
            "Базовая: 0.20555917683210725\n"
          ]
        }
      ]
    },
    {
      "cell_type": "code",
      "source": [
        "print(f\"Стандартная: {df_czechia['Cost Per Month - Standard ($)'].values[0]/float(df_czechia['Estimate'].values[0].replace(',','.'))}\")"
      ],
      "metadata": {
        "colab": {
          "base_uri": "https://localhost:8080/"
        },
        "id": "cQ_wA-R7bYHw",
        "outputId": "19308e8e-3047-4506-e565-87506bf32656"
      },
      "execution_count": 73,
      "outputs": [
        {
          "output_type": "stream",
          "name": "stdout",
          "text": [
            "Стандартная: 0.267483005866468\n"
          ]
        }
      ]
    },
    {
      "cell_type": "code",
      "source": [
        "print(f\"Премиум: {df_czechia['Cost Per Month - Premium ($)'].values[0]/float(df_czechia['Estimate'].values[0].replace(',','.'))}\")"
      ],
      "metadata": {
        "colab": {
          "base_uri": "https://localhost:8080/"
        },
        "id": "mi86DkIwbYLo",
        "outputId": "01179a67-1930-4952-f2d9-62c5665b0c23"
      },
      "execution_count": 72,
      "outputs": [
        {
          "output_type": "stream",
          "name": "stdout",
          "text": [
            "Премиум: 0.3294068349008287\n"
          ]
        }
      ]
    },
    {
      "cell_type": "markdown",
      "source": [
        "**4) Какие топ-5 стран имеют самую большую доступную коллекцию сериалов** "
      ],
      "metadata": {
        "id": "6nutpBYWZbHw"
      }
    },
    {
      "cell_type": "code",
      "source": [
        "df.nlargest(5, 'No. of TV Shows')[['Country', 'No. of TV Shows']]"
      ],
      "metadata": {
        "colab": {
          "base_uri": "https://localhost:8080/",
          "height": 206
        },
        "id": "1QsJ5MslnGCS",
        "outputId": "ab5de743-230f-41d5-9bea-2ceaed743fb3"
      },
      "execution_count": 96,
      "outputs": [
        {
          "output_type": "execute_result",
          "data": {
            "text/html": [
              "\n",
              "  <div id=\"df-d7836cc7-2130-4c87-ba85-7e499b43d967\">\n",
              "    <div class=\"colab-df-container\">\n",
              "      <div>\n",
              "<style scoped>\n",
              "    .dataframe tbody tr th:only-of-type {\n",
              "        vertical-align: middle;\n",
              "    }\n",
              "\n",
              "    .dataframe tbody tr th {\n",
              "        vertical-align: top;\n",
              "    }\n",
              "\n",
              "    .dataframe thead th {\n",
              "        text-align: right;\n",
              "    }\n",
              "</style>\n",
              "<table border=\"1\" class=\"dataframe\">\n",
              "  <thead>\n",
              "    <tr style=\"text-align: right;\">\n",
              "      <th></th>\n",
              "      <th>Country</th>\n",
              "      <th>No. of TV Shows</th>\n",
              "    </tr>\n",
              "  </thead>\n",
              "  <tbody>\n",
              "    <tr>\n",
              "      <th>12</th>\n",
              "      <td>Czechia</td>\n",
              "      <td>5234</td>\n",
              "    </tr>\n",
              "    <tr>\n",
              "      <th>51</th>\n",
              "      <td>Slovakia</td>\n",
              "      <td>5055</td>\n",
              "    </tr>\n",
              "    <tr>\n",
              "      <th>6</th>\n",
              "      <td>Bulgaria</td>\n",
              "      <td>4819</td>\n",
              "    </tr>\n",
              "    <tr>\n",
              "      <th>24</th>\n",
              "      <td>Hungary</td>\n",
              "      <td>4802</td>\n",
              "    </tr>\n",
              "    <tr>\n",
              "      <th>61</th>\n",
              "      <td>United Kingdom</td>\n",
              "      <td>4551</td>\n",
              "    </tr>\n",
              "  </tbody>\n",
              "</table>\n",
              "</div>\n",
              "      <button class=\"colab-df-convert\" onclick=\"convertToInteractive('df-d7836cc7-2130-4c87-ba85-7e499b43d967')\"\n",
              "              title=\"Convert this dataframe to an interactive table.\"\n",
              "              style=\"display:none;\">\n",
              "        \n",
              "  <svg xmlns=\"http://www.w3.org/2000/svg\" height=\"24px\"viewBox=\"0 0 24 24\"\n",
              "       width=\"24px\">\n",
              "    <path d=\"M0 0h24v24H0V0z\" fill=\"none\"/>\n",
              "    <path d=\"M18.56 5.44l.94 2.06.94-2.06 2.06-.94-2.06-.94-.94-2.06-.94 2.06-2.06.94zm-11 1L8.5 8.5l.94-2.06 2.06-.94-2.06-.94L8.5 2.5l-.94 2.06-2.06.94zm10 10l.94 2.06.94-2.06 2.06-.94-2.06-.94-.94-2.06-.94 2.06-2.06.94z\"/><path d=\"M17.41 7.96l-1.37-1.37c-.4-.4-.92-.59-1.43-.59-.52 0-1.04.2-1.43.59L10.3 9.45l-7.72 7.72c-.78.78-.78 2.05 0 2.83L4 21.41c.39.39.9.59 1.41.59.51 0 1.02-.2 1.41-.59l7.78-7.78 2.81-2.81c.8-.78.8-2.07 0-2.86zM5.41 20L4 18.59l7.72-7.72 1.47 1.35L5.41 20z\"/>\n",
              "  </svg>\n",
              "      </button>\n",
              "      \n",
              "  <style>\n",
              "    .colab-df-container {\n",
              "      display:flex;\n",
              "      flex-wrap:wrap;\n",
              "      gap: 12px;\n",
              "    }\n",
              "\n",
              "    .colab-df-convert {\n",
              "      background-color: #E8F0FE;\n",
              "      border: none;\n",
              "      border-radius: 50%;\n",
              "      cursor: pointer;\n",
              "      display: none;\n",
              "      fill: #1967D2;\n",
              "      height: 32px;\n",
              "      padding: 0 0 0 0;\n",
              "      width: 32px;\n",
              "    }\n",
              "\n",
              "    .colab-df-convert:hover {\n",
              "      background-color: #E2EBFA;\n",
              "      box-shadow: 0px 1px 2px rgba(60, 64, 67, 0.3), 0px 1px 3px 1px rgba(60, 64, 67, 0.15);\n",
              "      fill: #174EA6;\n",
              "    }\n",
              "\n",
              "    [theme=dark] .colab-df-convert {\n",
              "      background-color: #3B4455;\n",
              "      fill: #D2E3FC;\n",
              "    }\n",
              "\n",
              "    [theme=dark] .colab-df-convert:hover {\n",
              "      background-color: #434B5C;\n",
              "      box-shadow: 0px 1px 3px 1px rgba(0, 0, 0, 0.15);\n",
              "      filter: drop-shadow(0px 1px 2px rgba(0, 0, 0, 0.3));\n",
              "      fill: #FFFFFF;\n",
              "    }\n",
              "  </style>\n",
              "\n",
              "      <script>\n",
              "        const buttonEl =\n",
              "          document.querySelector('#df-d7836cc7-2130-4c87-ba85-7e499b43d967 button.colab-df-convert');\n",
              "        buttonEl.style.display =\n",
              "          google.colab.kernel.accessAllowed ? 'block' : 'none';\n",
              "\n",
              "        async function convertToInteractive(key) {\n",
              "          const element = document.querySelector('#df-d7836cc7-2130-4c87-ba85-7e499b43d967');\n",
              "          const dataTable =\n",
              "            await google.colab.kernel.invokeFunction('convertToInteractive',\n",
              "                                                     [key], {});\n",
              "          if (!dataTable) return;\n",
              "\n",
              "          const docLinkHtml = 'Like what you see? Visit the ' +\n",
              "            '<a target=\"_blank\" href=https://colab.research.google.com/notebooks/data_table.ipynb>data table notebook</a>'\n",
              "            + ' to learn more about interactive tables.';\n",
              "          element.innerHTML = '';\n",
              "          dataTable['output_type'] = 'display_data';\n",
              "          await google.colab.output.renderOutput(dataTable, element);\n",
              "          const docLink = document.createElement('div');\n",
              "          docLink.innerHTML = docLinkHtml;\n",
              "          element.appendChild(docLink);\n",
              "        }\n",
              "      </script>\n",
              "    </div>\n",
              "  </div>\n",
              "  "
            ],
            "text/plain": [
              "           Country  No. of TV Shows\n",
              "12         Czechia             5234\n",
              "51        Slovakia             5055\n",
              "6         Bulgaria             4819\n",
              "24         Hungary             4802\n",
              "61  United Kingdom             4551"
            ]
          },
          "metadata": {},
          "execution_count": 96
        }
      ]
    },
    {
      "cell_type": "markdown",
      "source": [
        "**5) Какой процент среднего дохода россиянина будет составлять подписка Netflix** "
      ],
      "metadata": {
        "id": "dx7vyOceZbLX"
      }
    },
    {
      "cell_type": "code",
      "source": [
        "df_russia = df_with_PPP.loc[df_with_PPP['Country'] == 'Russia']"
      ],
      "metadata": {
        "id": "u6B5XTCtZmpx"
      },
      "execution_count": 97,
      "outputs": []
    },
    {
      "cell_type": "code",
      "source": [
        "print(f\"Базовая: {round(df_russia['Cost Per Month - Basic ($)'].values[0]/float(df_czechia['Estimate'].values[0].replace(',','.')) * 100, 2)}%\")"
      ],
      "metadata": {
        "colab": {
          "base_uri": "https://localhost:8080/"
        },
        "id": "1kwDcafYohQK",
        "outputId": "d88e8402-c02b-4ade-8852-4b949156da2a"
      },
      "execution_count": 103,
      "outputs": [
        {
          "output_type": "stream",
          "name": "stdout",
          "text": [
            "Базовая: 18.93%\n"
          ]
        }
      ]
    },
    {
      "cell_type": "code",
      "source": [
        "print(f\"Стандартная: {round(df_russia['Cost Per Month - Standard ($)'].values[0]/float(df_czechia['Estimate'].values[0].replace(',','.')) * 100, 2)}%\")"
      ],
      "metadata": {
        "colab": {
          "base_uri": "https://localhost:8080/"
        },
        "id": "MWrAn-Caoo9y",
        "outputId": "62caed9b-1ee2-4598-ade0-4288b3286883"
      },
      "execution_count": 104,
      "outputs": [
        {
          "output_type": "stream",
          "name": "stdout",
          "text": [
            "Стандартная: 25.24%\n"
          ]
        }
      ]
    },
    {
      "cell_type": "code",
      "source": [
        "print(f\"Премиум: {round(df_russia['Cost Per Month - Premium ($)'].values[0]/float(df_czechia['Estimate'].values[0].replace(',','.')) * 100, 2)}%\")"
      ],
      "metadata": {
        "colab": {
          "base_uri": "https://localhost:8080/"
        },
        "id": "AvFoWoFwopGZ",
        "outputId": "44e245a6-d9ee-4f32-ece4-1f895cfc6930"
      },
      "execution_count": 105,
      "outputs": [
        {
          "output_type": "stream",
          "name": "stdout",
          "text": [
            "Премиум: 31.57%\n"
          ]
        }
      ]
    },
    {
      "cell_type": "markdown",
      "source": [
        "**6) На каком месте будет Россия, если отсортировать страны по эффективности подписки (Cost Per Title)** "
      ],
      "metadata": {
        "id": "UxNHKq66ZgsQ"
      }
    },
    {
      "cell_type": "code",
      "source": [
        "df['Basic Cost Per Title'] = df['Cost Per Month - Basic ($)'] / df['Total Library Size']\n",
        "df['Standard Cost Per Title'] = df['Cost Per Month - Standard ($)'] / df['Total Library Size']\n",
        "df['Premium Cost Per Title'] = df['Cost Per Month - Premium ($)'] / df['Total Library Size']"
      ],
      "metadata": {
        "id": "WEwOQ-dSZnNu"
      },
      "execution_count": 112,
      "outputs": []
    },
    {
      "cell_type": "code",
      "source": [
        "df_basic_sort = df.sort_values(by=['Basic Cost Per Title']).reset_index(drop=True)\n",
        "df_standart_sort = df.sort_values(by=['Standard Cost Per Title']).reset_index(drop=True)\n",
        "df_premium_sort = df.sort_values(by=['Premium Cost Per Title']).reset_index(drop=True)"
      ],
      "metadata": {
        "id": "ie-Sz7yxuS7j"
      },
      "execution_count": 123,
      "outputs": []
    },
    {
      "cell_type": "markdown",
      "source": [
        "Если сортировать по эффективности базовой подписки:"
      ],
      "metadata": {
        "id": "UImLwKLrwuYp"
      }
    },
    {
      "cell_type": "code",
      "source": [
        "df_basic_sort.index[df_basic_sort.Country == 'Russia'][0]"
      ],
      "metadata": {
        "colab": {
          "base_uri": "https://localhost:8080/"
        },
        "id": "ZCrFYAggvgWC",
        "outputId": "094d8b76-ae80-4a2e-e0f2-9dbcfa6cd9ce"
      },
      "execution_count": 129,
      "outputs": [
        {
          "output_type": "execute_result",
          "data": {
            "text/plain": [
              "25"
            ]
          },
          "metadata": {},
          "execution_count": 129
        }
      ]
    },
    {
      "cell_type": "markdown",
      "source": [
        "Если сортировать по эффективности стандартной подписки:"
      ],
      "metadata": {
        "id": "IxMweX9Sw1Wz"
      }
    },
    {
      "cell_type": "code",
      "source": [
        "df_standart_sort.index[df_standart_sort.Country == 'Russia'][0]"
      ],
      "metadata": {
        "colab": {
          "base_uri": "https://localhost:8080/"
        },
        "id": "kpDdJRO6vgyo",
        "outputId": "5ce3e291-05ed-47fa-b795-2842c0cdbaac"
      },
      "execution_count": 130,
      "outputs": [
        {
          "output_type": "execute_result",
          "data": {
            "text/plain": [
              "17"
            ]
          },
          "metadata": {},
          "execution_count": 130
        }
      ]
    },
    {
      "cell_type": "markdown",
      "source": [
        "Если сортировать по эффективности премиум подписки:"
      ],
      "metadata": {
        "id": "kZofQO3aw4D9"
      }
    },
    {
      "cell_type": "code",
      "source": [
        "df_premium_sort.index[df_premium_sort.Country == 'Russia'][0]"
      ],
      "metadata": {
        "colab": {
          "base_uri": "https://localhost:8080/"
        },
        "id": "DUoElVQ9vg9P",
        "outputId": "07b1ef56-4455-47fb-9d90-b20b5f9d10ee"
      },
      "execution_count": 131,
      "outputs": [
        {
          "output_type": "execute_result",
          "data": {
            "text/plain": [
              "17"
            ]
          },
          "metadata": {},
          "execution_count": 131
        }
      ]
    },
    {
      "cell_type": "markdown",
      "source": [
        "**7) В какой стране лучше всего брать VPN для того, чтобы платить за Netflix меньше всего** "
      ],
      "metadata": {
        "id": "6YdaPkSqZgxa"
      }
    },
    {
      "cell_type": "code",
      "source": [
        "df.nsmallest(1, 'Cost Per Month - Basic ($)')[['Country', 'Cost Per Month - Basic ($)']]"
      ],
      "metadata": {
        "id": "M16KoNzDZn-Y",
        "colab": {
          "base_uri": "https://localhost:8080/",
          "height": 81
        },
        "outputId": "f4974d8e-6120-4e86-ce51-f866f720c182"
      },
      "execution_count": 107,
      "outputs": [
        {
          "output_type": "execute_result",
          "data": {
            "text/html": [
              "\n",
              "  <div id=\"df-c51f3918-1899-4111-857e-fbc62c76232a\">\n",
              "    <div class=\"colab-df-container\">\n",
              "      <div>\n",
              "<style scoped>\n",
              "    .dataframe tbody tr th:only-of-type {\n",
              "        vertical-align: middle;\n",
              "    }\n",
              "\n",
              "    .dataframe tbody tr th {\n",
              "        vertical-align: top;\n",
              "    }\n",
              "\n",
              "    .dataframe thead th {\n",
              "        text-align: right;\n",
              "    }\n",
              "</style>\n",
              "<table border=\"1\" class=\"dataframe\">\n",
              "  <thead>\n",
              "    <tr style=\"text-align: right;\">\n",
              "      <th></th>\n",
              "      <th>Country</th>\n",
              "      <th>Cost Per Month - Basic ($)</th>\n",
              "    </tr>\n",
              "  </thead>\n",
              "  <tbody>\n",
              "    <tr>\n",
              "      <th>59</th>\n",
              "      <td>Turkey</td>\n",
              "      <td>1.97</td>\n",
              "    </tr>\n",
              "  </tbody>\n",
              "</table>\n",
              "</div>\n",
              "      <button class=\"colab-df-convert\" onclick=\"convertToInteractive('df-c51f3918-1899-4111-857e-fbc62c76232a')\"\n",
              "              title=\"Convert this dataframe to an interactive table.\"\n",
              "              style=\"display:none;\">\n",
              "        \n",
              "  <svg xmlns=\"http://www.w3.org/2000/svg\" height=\"24px\"viewBox=\"0 0 24 24\"\n",
              "       width=\"24px\">\n",
              "    <path d=\"M0 0h24v24H0V0z\" fill=\"none\"/>\n",
              "    <path d=\"M18.56 5.44l.94 2.06.94-2.06 2.06-.94-2.06-.94-.94-2.06-.94 2.06-2.06.94zm-11 1L8.5 8.5l.94-2.06 2.06-.94-2.06-.94L8.5 2.5l-.94 2.06-2.06.94zm10 10l.94 2.06.94-2.06 2.06-.94-2.06-.94-.94-2.06-.94 2.06-2.06.94z\"/><path d=\"M17.41 7.96l-1.37-1.37c-.4-.4-.92-.59-1.43-.59-.52 0-1.04.2-1.43.59L10.3 9.45l-7.72 7.72c-.78.78-.78 2.05 0 2.83L4 21.41c.39.39.9.59 1.41.59.51 0 1.02-.2 1.41-.59l7.78-7.78 2.81-2.81c.8-.78.8-2.07 0-2.86zM5.41 20L4 18.59l7.72-7.72 1.47 1.35L5.41 20z\"/>\n",
              "  </svg>\n",
              "      </button>\n",
              "      \n",
              "  <style>\n",
              "    .colab-df-container {\n",
              "      display:flex;\n",
              "      flex-wrap:wrap;\n",
              "      gap: 12px;\n",
              "    }\n",
              "\n",
              "    .colab-df-convert {\n",
              "      background-color: #E8F0FE;\n",
              "      border: none;\n",
              "      border-radius: 50%;\n",
              "      cursor: pointer;\n",
              "      display: none;\n",
              "      fill: #1967D2;\n",
              "      height: 32px;\n",
              "      padding: 0 0 0 0;\n",
              "      width: 32px;\n",
              "    }\n",
              "\n",
              "    .colab-df-convert:hover {\n",
              "      background-color: #E2EBFA;\n",
              "      box-shadow: 0px 1px 2px rgba(60, 64, 67, 0.3), 0px 1px 3px 1px rgba(60, 64, 67, 0.15);\n",
              "      fill: #174EA6;\n",
              "    }\n",
              "\n",
              "    [theme=dark] .colab-df-convert {\n",
              "      background-color: #3B4455;\n",
              "      fill: #D2E3FC;\n",
              "    }\n",
              "\n",
              "    [theme=dark] .colab-df-convert:hover {\n",
              "      background-color: #434B5C;\n",
              "      box-shadow: 0px 1px 3px 1px rgba(0, 0, 0, 0.15);\n",
              "      filter: drop-shadow(0px 1px 2px rgba(0, 0, 0, 0.3));\n",
              "      fill: #FFFFFF;\n",
              "    }\n",
              "  </style>\n",
              "\n",
              "      <script>\n",
              "        const buttonEl =\n",
              "          document.querySelector('#df-c51f3918-1899-4111-857e-fbc62c76232a button.colab-df-convert');\n",
              "        buttonEl.style.display =\n",
              "          google.colab.kernel.accessAllowed ? 'block' : 'none';\n",
              "\n",
              "        async function convertToInteractive(key) {\n",
              "          const element = document.querySelector('#df-c51f3918-1899-4111-857e-fbc62c76232a');\n",
              "          const dataTable =\n",
              "            await google.colab.kernel.invokeFunction('convertToInteractive',\n",
              "                                                     [key], {});\n",
              "          if (!dataTable) return;\n",
              "\n",
              "          const docLinkHtml = 'Like what you see? Visit the ' +\n",
              "            '<a target=\"_blank\" href=https://colab.research.google.com/notebooks/data_table.ipynb>data table notebook</a>'\n",
              "            + ' to learn more about interactive tables.';\n",
              "          element.innerHTML = '';\n",
              "          dataTable['output_type'] = 'display_data';\n",
              "          await google.colab.output.renderOutput(dataTable, element);\n",
              "          const docLink = document.createElement('div');\n",
              "          docLink.innerHTML = docLinkHtml;\n",
              "          element.appendChild(docLink);\n",
              "        }\n",
              "      </script>\n",
              "    </div>\n",
              "  </div>\n",
              "  "
            ],
            "text/plain": [
              "   Country  Cost Per Month - Basic ($)\n",
              "59  Turkey                        1.97"
            ]
          },
          "metadata": {},
          "execution_count": 107
        }
      ]
    },
    {
      "cell_type": "code",
      "source": [
        "df.nsmallest(1, 'Cost Per Month - Standard ($)')[['Country', 'Cost Per Month - Standard ($)']]"
      ],
      "metadata": {
        "colab": {
          "base_uri": "https://localhost:8080/",
          "height": 81
        },
        "id": "jtH9tgEaqVbM",
        "outputId": "40474b20-2a41-4e85-a505-b5a8e03eb6e8"
      },
      "execution_count": 108,
      "outputs": [
        {
          "output_type": "execute_result",
          "data": {
            "text/html": [
              "\n",
              "  <div id=\"df-54ec972e-721e-4f2c-81ac-f2f6765e0915\">\n",
              "    <div class=\"colab-df-container\">\n",
              "      <div>\n",
              "<style scoped>\n",
              "    .dataframe tbody tr th:only-of-type {\n",
              "        vertical-align: middle;\n",
              "    }\n",
              "\n",
              "    .dataframe tbody tr th {\n",
              "        vertical-align: top;\n",
              "    }\n",
              "\n",
              "    .dataframe thead th {\n",
              "        text-align: right;\n",
              "    }\n",
              "</style>\n",
              "<table border=\"1\" class=\"dataframe\">\n",
              "  <thead>\n",
              "    <tr style=\"text-align: right;\">\n",
              "      <th></th>\n",
              "      <th>Country</th>\n",
              "      <th>Cost Per Month - Standard ($)</th>\n",
              "    </tr>\n",
              "  </thead>\n",
              "  <tbody>\n",
              "    <tr>\n",
              "      <th>59</th>\n",
              "      <td>Turkey</td>\n",
              "      <td>3.0</td>\n",
              "    </tr>\n",
              "  </tbody>\n",
              "</table>\n",
              "</div>\n",
              "      <button class=\"colab-df-convert\" onclick=\"convertToInteractive('df-54ec972e-721e-4f2c-81ac-f2f6765e0915')\"\n",
              "              title=\"Convert this dataframe to an interactive table.\"\n",
              "              style=\"display:none;\">\n",
              "        \n",
              "  <svg xmlns=\"http://www.w3.org/2000/svg\" height=\"24px\"viewBox=\"0 0 24 24\"\n",
              "       width=\"24px\">\n",
              "    <path d=\"M0 0h24v24H0V0z\" fill=\"none\"/>\n",
              "    <path d=\"M18.56 5.44l.94 2.06.94-2.06 2.06-.94-2.06-.94-.94-2.06-.94 2.06-2.06.94zm-11 1L8.5 8.5l.94-2.06 2.06-.94-2.06-.94L8.5 2.5l-.94 2.06-2.06.94zm10 10l.94 2.06.94-2.06 2.06-.94-2.06-.94-.94-2.06-.94 2.06-2.06.94z\"/><path d=\"M17.41 7.96l-1.37-1.37c-.4-.4-.92-.59-1.43-.59-.52 0-1.04.2-1.43.59L10.3 9.45l-7.72 7.72c-.78.78-.78 2.05 0 2.83L4 21.41c.39.39.9.59 1.41.59.51 0 1.02-.2 1.41-.59l7.78-7.78 2.81-2.81c.8-.78.8-2.07 0-2.86zM5.41 20L4 18.59l7.72-7.72 1.47 1.35L5.41 20z\"/>\n",
              "  </svg>\n",
              "      </button>\n",
              "      \n",
              "  <style>\n",
              "    .colab-df-container {\n",
              "      display:flex;\n",
              "      flex-wrap:wrap;\n",
              "      gap: 12px;\n",
              "    }\n",
              "\n",
              "    .colab-df-convert {\n",
              "      background-color: #E8F0FE;\n",
              "      border: none;\n",
              "      border-radius: 50%;\n",
              "      cursor: pointer;\n",
              "      display: none;\n",
              "      fill: #1967D2;\n",
              "      height: 32px;\n",
              "      padding: 0 0 0 0;\n",
              "      width: 32px;\n",
              "    }\n",
              "\n",
              "    .colab-df-convert:hover {\n",
              "      background-color: #E2EBFA;\n",
              "      box-shadow: 0px 1px 2px rgba(60, 64, 67, 0.3), 0px 1px 3px 1px rgba(60, 64, 67, 0.15);\n",
              "      fill: #174EA6;\n",
              "    }\n",
              "\n",
              "    [theme=dark] .colab-df-convert {\n",
              "      background-color: #3B4455;\n",
              "      fill: #D2E3FC;\n",
              "    }\n",
              "\n",
              "    [theme=dark] .colab-df-convert:hover {\n",
              "      background-color: #434B5C;\n",
              "      box-shadow: 0px 1px 3px 1px rgba(0, 0, 0, 0.15);\n",
              "      filter: drop-shadow(0px 1px 2px rgba(0, 0, 0, 0.3));\n",
              "      fill: #FFFFFF;\n",
              "    }\n",
              "  </style>\n",
              "\n",
              "      <script>\n",
              "        const buttonEl =\n",
              "          document.querySelector('#df-54ec972e-721e-4f2c-81ac-f2f6765e0915 button.colab-df-convert');\n",
              "        buttonEl.style.display =\n",
              "          google.colab.kernel.accessAllowed ? 'block' : 'none';\n",
              "\n",
              "        async function convertToInteractive(key) {\n",
              "          const element = document.querySelector('#df-54ec972e-721e-4f2c-81ac-f2f6765e0915');\n",
              "          const dataTable =\n",
              "            await google.colab.kernel.invokeFunction('convertToInteractive',\n",
              "                                                     [key], {});\n",
              "          if (!dataTable) return;\n",
              "\n",
              "          const docLinkHtml = 'Like what you see? Visit the ' +\n",
              "            '<a target=\"_blank\" href=https://colab.research.google.com/notebooks/data_table.ipynb>data table notebook</a>'\n",
              "            + ' to learn more about interactive tables.';\n",
              "          element.innerHTML = '';\n",
              "          dataTable['output_type'] = 'display_data';\n",
              "          await google.colab.output.renderOutput(dataTable, element);\n",
              "          const docLink = document.createElement('div');\n",
              "          docLink.innerHTML = docLinkHtml;\n",
              "          element.appendChild(docLink);\n",
              "        }\n",
              "      </script>\n",
              "    </div>\n",
              "  </div>\n",
              "  "
            ],
            "text/plain": [
              "   Country  Cost Per Month - Standard ($)\n",
              "59  Turkey                            3.0"
            ]
          },
          "metadata": {},
          "execution_count": 108
        }
      ]
    },
    {
      "cell_type": "code",
      "source": [
        "df.nsmallest(1, 'Cost Per Month - Premium ($)')[['Country', 'Cost Per Month - Premium ($)']]"
      ],
      "metadata": {
        "colab": {
          "base_uri": "https://localhost:8080/",
          "height": 81
        },
        "id": "XG_DfwrUqVhr",
        "outputId": "7c9a4072-df0f-475a-cf04-4af91d2ba023"
      },
      "execution_count": 109,
      "outputs": [
        {
          "output_type": "execute_result",
          "data": {
            "text/html": [
              "\n",
              "  <div id=\"df-34d365fd-ac4e-4a6f-8c30-2260614198e5\">\n",
              "    <div class=\"colab-df-container\">\n",
              "      <div>\n",
              "<style scoped>\n",
              "    .dataframe tbody tr th:only-of-type {\n",
              "        vertical-align: middle;\n",
              "    }\n",
              "\n",
              "    .dataframe tbody tr th {\n",
              "        vertical-align: top;\n",
              "    }\n",
              "\n",
              "    .dataframe thead th {\n",
              "        text-align: right;\n",
              "    }\n",
              "</style>\n",
              "<table border=\"1\" class=\"dataframe\">\n",
              "  <thead>\n",
              "    <tr style=\"text-align: right;\">\n",
              "      <th></th>\n",
              "      <th>Country</th>\n",
              "      <th>Cost Per Month - Premium ($)</th>\n",
              "    </tr>\n",
              "  </thead>\n",
              "  <tbody>\n",
              "    <tr>\n",
              "      <th>59</th>\n",
              "      <td>Turkey</td>\n",
              "      <td>4.02</td>\n",
              "    </tr>\n",
              "  </tbody>\n",
              "</table>\n",
              "</div>\n",
              "      <button class=\"colab-df-convert\" onclick=\"convertToInteractive('df-34d365fd-ac4e-4a6f-8c30-2260614198e5')\"\n",
              "              title=\"Convert this dataframe to an interactive table.\"\n",
              "              style=\"display:none;\">\n",
              "        \n",
              "  <svg xmlns=\"http://www.w3.org/2000/svg\" height=\"24px\"viewBox=\"0 0 24 24\"\n",
              "       width=\"24px\">\n",
              "    <path d=\"M0 0h24v24H0V0z\" fill=\"none\"/>\n",
              "    <path d=\"M18.56 5.44l.94 2.06.94-2.06 2.06-.94-2.06-.94-.94-2.06-.94 2.06-2.06.94zm-11 1L8.5 8.5l.94-2.06 2.06-.94-2.06-.94L8.5 2.5l-.94 2.06-2.06.94zm10 10l.94 2.06.94-2.06 2.06-.94-2.06-.94-.94-2.06-.94 2.06-2.06.94z\"/><path d=\"M17.41 7.96l-1.37-1.37c-.4-.4-.92-.59-1.43-.59-.52 0-1.04.2-1.43.59L10.3 9.45l-7.72 7.72c-.78.78-.78 2.05 0 2.83L4 21.41c.39.39.9.59 1.41.59.51 0 1.02-.2 1.41-.59l7.78-7.78 2.81-2.81c.8-.78.8-2.07 0-2.86zM5.41 20L4 18.59l7.72-7.72 1.47 1.35L5.41 20z\"/>\n",
              "  </svg>\n",
              "      </button>\n",
              "      \n",
              "  <style>\n",
              "    .colab-df-container {\n",
              "      display:flex;\n",
              "      flex-wrap:wrap;\n",
              "      gap: 12px;\n",
              "    }\n",
              "\n",
              "    .colab-df-convert {\n",
              "      background-color: #E8F0FE;\n",
              "      border: none;\n",
              "      border-radius: 50%;\n",
              "      cursor: pointer;\n",
              "      display: none;\n",
              "      fill: #1967D2;\n",
              "      height: 32px;\n",
              "      padding: 0 0 0 0;\n",
              "      width: 32px;\n",
              "    }\n",
              "\n",
              "    .colab-df-convert:hover {\n",
              "      background-color: #E2EBFA;\n",
              "      box-shadow: 0px 1px 2px rgba(60, 64, 67, 0.3), 0px 1px 3px 1px rgba(60, 64, 67, 0.15);\n",
              "      fill: #174EA6;\n",
              "    }\n",
              "\n",
              "    [theme=dark] .colab-df-convert {\n",
              "      background-color: #3B4455;\n",
              "      fill: #D2E3FC;\n",
              "    }\n",
              "\n",
              "    [theme=dark] .colab-df-convert:hover {\n",
              "      background-color: #434B5C;\n",
              "      box-shadow: 0px 1px 3px 1px rgba(0, 0, 0, 0.15);\n",
              "      filter: drop-shadow(0px 1px 2px rgba(0, 0, 0, 0.3));\n",
              "      fill: #FFFFFF;\n",
              "    }\n",
              "  </style>\n",
              "\n",
              "      <script>\n",
              "        const buttonEl =\n",
              "          document.querySelector('#df-34d365fd-ac4e-4a6f-8c30-2260614198e5 button.colab-df-convert');\n",
              "        buttonEl.style.display =\n",
              "          google.colab.kernel.accessAllowed ? 'block' : 'none';\n",
              "\n",
              "        async function convertToInteractive(key) {\n",
              "          const element = document.querySelector('#df-34d365fd-ac4e-4a6f-8c30-2260614198e5');\n",
              "          const dataTable =\n",
              "            await google.colab.kernel.invokeFunction('convertToInteractive',\n",
              "                                                     [key], {});\n",
              "          if (!dataTable) return;\n",
              "\n",
              "          const docLinkHtml = 'Like what you see? Visit the ' +\n",
              "            '<a target=\"_blank\" href=https://colab.research.google.com/notebooks/data_table.ipynb>data table notebook</a>'\n",
              "            + ' to learn more about interactive tables.';\n",
              "          element.innerHTML = '';\n",
              "          dataTable['output_type'] = 'display_data';\n",
              "          await google.colab.output.renderOutput(dataTable, element);\n",
              "          const docLink = document.createElement('div');\n",
              "          docLink.innerHTML = docLinkHtml;\n",
              "          element.appendChild(docLink);\n",
              "        }\n",
              "      </script>\n",
              "    </div>\n",
              "  </div>\n",
              "  "
            ],
            "text/plain": [
              "   Country  Cost Per Month - Premium ($)\n",
              "59  Turkey                          4.02"
            ]
          },
          "metadata": {},
          "execution_count": 109
        }
      ]
    }
  ]
}